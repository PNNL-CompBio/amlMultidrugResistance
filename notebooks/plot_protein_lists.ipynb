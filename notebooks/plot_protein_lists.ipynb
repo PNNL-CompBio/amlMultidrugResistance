{
 "cells": [
  {
   "cell_type": "code",
   "execution_count": 1,
   "id": "7ec75dd7-6db8-4953-80a5-3684c657773d",
   "metadata": {
    "collapsed": false,
    "jupyter": {
     "outputs_hidden": false
    }
   },
   "outputs": [],
   "source": [
    "import pandas as pd\n",
    "from magine.data.experimental_data import ExperimentalData  \n",
    "import numpy as np\n",
    "import matplotlib.pyplot as plt\n",
    "import seaborn as sns"
   ]
  },
  {
   "cell_type": "code",
   "execution_count": 2,
   "id": "10191ee821e99dcf",
   "metadata": {
    "collapsed": false,
    "jupyter": {
     "outputs_hidden": false
    }
   },
   "outputs": [],
   "source": [
    "import matplotlib\n",
    "matplotlib.rcParams['pdf.fonttype'] = 42\n",
    "matplotlib.rcParams['font.family'] = ['arial']\n",
    "\n",
    "sns.set_theme(\n",
    "    context ='paper',\n",
    "    palette=\"Paired\", \n",
    "    style='white',\n",
    "    font='arial',\n",
    "    # font_scale=1.0\n",
    ")"
   ]
  },
  {
   "cell_type": "code",
   "execution_count": null,
   "id": "fa24e797487b5652",
   "metadata": {
    "collapsed": false,
    "jupyter": {
     "outputs_hidden": false
    }
   },
   "outputs": [],
   "source": [
    "exp_data = ExperimentalData('../data/both_proteomics_for_magine.csv.gz')"
   ]
  },
  {
   "cell_type": "code",
   "execution_count": null,
   "id": "bd1a0aa5a62d0e99",
   "metadata": {
    "collapsed": false,
    "jupyter": {
     "outputs_hidden": false
    }
   },
   "outputs": [],
   "source": [
    "exp_data.create_summary_table(sig=True).T.plot(kind='bar')\n",
    "plt.savefig('diff_expressed.png', dpi=300, bbox_inches='tight')"
   ]
  },
  {
   "cell_type": "code",
   "execution_count": null,
   "id": "f6cb6144fbdd9196",
   "metadata": {
    "collapsed": false,
    "jupyter": {
     "outputs_hidden": false
    }
   },
   "outputs": [],
   "source": [
    "def mod_df(df):\n",
    "    df['stage'] = df.sample_id.str.split('_').str.get(1)\n",
    "    df['drug'] = df.sample_id.str.split('_').str.get(0)\n",
    "    df.loc[df.stage=='only', 'stage'] = 'Dec only'\n",
    "    df.loc[df.drug=='D', 'drug'] = '0D'\n",
    "    df.loc[df.drug=='GD', 'drug'] = '1GD'\n",
    "    df.loc[df.drug=='GVD', 'drug'] = '2GVD'\n",
    "    df.loc[df.drug=='GV', 'drug'] = '3GV'\n",
    "    df.loc[df.drug=='G', 'drug'] = '4G'\n",
    "\n",
    "protein = exp_data.global_proteomics\n",
    "mod_df(protein)\n",
    "phospho = exp_data.phospho_proteomics\n",
    "mod_df(phospho)\n",
    "exp = exp_data.species\n",
    "mod_df(exp)"
   ]
  },
  {
   "cell_type": "code",
   "execution_count": null,
   "id": "d5114f1713262202",
   "metadata": {
    "collapsed": false,
    "jupyter": {
     "outputs_hidden": false
    }
   },
   "outputs": [],
   "source": [
    "exp.species.subset('DNMT').require_n_sig(n_sig=1, index='label').heatmap(\n",
    "    index='label',\n",
    "    convert_to_log=False,\n",
    "    columns=['drug', 'stage'],\n",
    "        figsize=(6, 6),\n",
    "    cluster_col=False,\n",
    "    cluster_row=True,\n",
    "    cluster_by_set=True,\n",
    "    linewidths=0.01,\n",
    "    y_tick_labels=True\n",
    "    \n",
    ")\n",
    "\n",
    "plt.savefig(\"dnmt_proteins.png\", dpi=300, bbox_inches='tight')"
   ]
  },
  {
   "cell_type": "code",
   "execution_count": null,
   "id": "c3b5fcbb2ce671b3",
   "metadata": {
    "collapsed": false,
    "jupyter": {
     "outputs_hidden": false
    }
   },
   "outputs": [],
   "source": [
    "# exp.subset('MS4A3', index='identifier').require_n_sig(n_sig=1, index='label').heatmap(\n",
    "exp.subset('MS4', index='identifier',).require_n_sig(n_sig=0, index='label').heatmap(\n",
    "    convert_to_log=False,\n",
    "    subset_index='identifier',\n",
    "#     min_sig=1,\n",
    "    index='label',\n",
    "    columns=['drug', 'stage', ],\n",
    "    figsize=(4, 4), cluster_col=False,\n",
    "    cluster_row=True,\n",
    "    linewidths=0.01,\n",
    "    y_tick_labels=True\n",
    ");"
   ]
  },
  {
   "cell_type": "code",
   "execution_count": null,
   "id": "2efb6f1d63a3376e",
   "metadata": {
    "collapsed": false,
    "jupyter": {
     "outputs_hidden": false
    }
   },
   "outputs": [],
   "source": [
    "gns = [\n",
    "    'MS4A3',\n",
    "     # 'CD34', 'CD14', \n",
    "    'RUNX2','GATA2', 'GATA1',\n",
    "    'MYC',\n",
    "    # 'LYZ',\n",
    "     # 'DNTT', 'CD79B', 'MS4A1', 'CD27', 'TNFRSF17', # from the paper\n",
    "    'HBA1', # from the paper\n",
    "    'FLT3', #'ABL1', 'SRC', \n",
    "    # 'STAT5A',  'STAT5B',\n",
    "    'SOCS2',  'SPI1',\n",
    "    'BBC3', 'BCL2L1',\n",
    "    # 'PTPN11',\n",
    "    'CDKN1B', \n",
    "    \n",
    "]\n",
    "phospho.subset(gns, index='identifier',).require_n_sig(n_sig=1, index='label').heatmap(\n",
    "    convert_to_log=False,\n",
    "    subset_index='identifier',\n",
    "#     min_sig=1,\n",
    "    index='label',\n",
    "    columns=['drug', 'stage', ],\n",
    "    figsize=(4, 4), cluster_col=False,\n",
    "    cluster_row=True,\n",
    "    linewidths=0.01,\n",
    "    y_tick_labels=True\n",
    ");\n",
    "# plt.savefig(\"downstream_flt3_2_phospho.png\", dpi=300, bbox_inches='tight')"
   ]
  },
  {
   "cell_type": "code",
   "execution_count": null,
   "id": "2b7b828d81e32808",
   "metadata": {
    "collapsed": false,
    "jupyter": {
     "outputs_hidden": false
    }
   },
   "outputs": [],
   "source": [
    "exp.subset(gns, index='identifier',).require_n_sig(n_sig=1, index='label').heatmap(\n",
    "    convert_to_log=False,\n",
    "    subset_index='identifier',\n",
    "#     min_sig=1,\n",
    "    index='label',\n",
    "    columns=['drug', 'stage', ],\n",
    "    figsize=(6, 12), cluster_col=False,\n",
    "    cluster_row=True,\n",
    "    linewidths=0.01,\n",
    "    y_tick_labels=True\n",
    ");\n",
    "plt.savefig(\"downstream_flt3_2_both.png\", dpi=300, bbox_inches='tight')"
   ]
  },
  {
   "cell_type": "code",
   "execution_count": null,
   "id": "33c9249f90369d23",
   "metadata": {
    "collapsed": false,
    "jupyter": {
     "outputs_hidden": false
    }
   },
   "outputs": [],
   "source": [
    "\n",
    "protein.subset(gns, index='identifier',).require_n_sig(n_sig=1, index='label').heatmap(\n",
    "    convert_to_log=False,\n",
    "    subset_index='identifier',\n",
    "#     min_sig=1,\n",
    "    index='label',\n",
    "    columns=['drug', 'stage', ],\n",
    "    figsize=(6, 6), cluster_col=False,\n",
    "    cluster_row=True,\n",
    "    linewidths=0.01,\n",
    "    y_tick_labels=True\n",
    ");\n",
    "plt.savefig(\"downstream_flt3_2_protein.png\", dpi=300, bbox_inches='tight')"
   ]
  },
  {
   "cell_type": "code",
   "execution_count": null,
   "id": "d1796cb2aef7fb57",
   "metadata": {
    "collapsed": false,
    "jupyter": {
     "outputs_hidden": false
    }
   },
   "outputs": [],
   "source": [
    "\n",
    "bcl2_related_proteins = [\n",
    "    'BBC3',  #puma\n",
    "    'PMAIP1', #NOXA, binds MCL1\n",
    "    \n",
    "    'BAD', \n",
    "    'BID', \n",
    "    'BCL2L11', #bim\n",
    "    \n",
    "    'BAX', 'BAK1', # effectors\n",
    "    'BMF',\n",
    "    \n",
    "    'HRK',\n",
    "    'BCL2',\n",
    "    'MCL1',\n",
    "    'BCL2L1', #BCLXL\n",
    "    'BCL2L2', #bclw \n",
    "    #'BCL2A1', #bfl1\n",
    "    #'BCL2L10',  #bclb\n",
    "]\n",
    "\n",
    "protein.subset(bcl2_related_proteins, index='identifier').require_n_sig(n_sig=0, index='label').heatmap(\n",
    "    convert_to_log=True,\n",
    "    subset_index='identifier',\n",
    "    #     min_sig=1,\n",
    "    index='label',\n",
    "    columns=['drug', 'stage', ],\n",
    "    figsize=(4, 4), cluster_col=False,\n",
    "    cluster_row=True,\n",
    "    sort_row='index',\n",
    "    linewidths=0.01,\n",
    "    y_tick_labels=True\n",
    ");\n",
    "\n",
    "plt.savefig(\"bcl2_proteins.png\", dpi=300, bbox_inches='tight')\n",
    "plt.savefig(\"bcl2_proteins.pdf\", dpi=300, bbox_inches='tight')\n",
    "\n",
    "exp.subset(bcl2_related_proteins, index='identifier').require_n_sig(n_sig=1, index='label').heatmap(\n",
    "    convert_to_log=True,\n",
    "    subset_index='identifier',\n",
    "    #     min_sig=1,\n",
    "    index='label',\n",
    "    columns=['drug', 'stage', ],\n",
    "    figsize=(4, 4), cluster_col=False,\n",
    "    cluster_row=False,\n",
    "    sort_row='index',\n",
    "    linewidths=0.01,\n",
    "    y_tick_labels=True\n",
    ");\n",
    "\n",
    "plt.savefig(\"bcl2_proteins_both.png\", dpi=300, bbox_inches='tight')"
   ]
  },
  {
   "cell_type": "code",
   "execution_count": null,
   "id": "fba8d1c2d9a1f3cf",
   "metadata": {
    "collapsed": false,
    "jupyter": {
     "outputs_hidden": false
    }
   },
   "outputs": [],
   "source": [
    "\n",
    "phospho.subset(bcl2_related_proteins, index='identifier').require_n_sig(n_sig=1, index='label').heatmap(\n",
    "    convert_to_log=False,\n",
    "    subset_index='identifier',\n",
    "    #     min_sig=1,\n",
    "    index='label',\n",
    "    columns=['drug', 'stage', ],\n",
    "    figsize=(4, 6), cluster_col=False,\n",
    "    cluster_row=False,\n",
    "    sort_row='index',\n",
    "    linewidths=0.01,\n",
    "    y_tick_labels=True\n",
    ");\n",
    "\n",
    "plt.savefig(\"bcl2_proteins_phospho.png\", dpi=300, bbox_inches='tight')"
   ]
  },
  {
   "cell_type": "code",
   "execution_count": null,
   "id": "a6003460c91b1a84",
   "metadata": {
    "collapsed": false,
    "jupyter": {
     "outputs_hidden": false
    }
   },
   "outputs": [],
   "source": [
    "gns = [\n",
    "     'CD134', 'CD14', \n",
    "    # 'RUNX2','GATA2', 'GATA1',\n",
    "    # 'MYB', 'CEBPA', # non-significant\n",
    "    'MYC',\n",
    "    'LYZ',\n",
    "    #  'DNTT', 'CD79B', 'MS4A1', 'CD27', 'TNFRSF17', # from the paper\n",
    "    # 'HBA1', # from the paper\n",
    "    'FLT3', #'ABL1', 'SRC', \n",
    "    # 'STAT5A',  'STAT5B',\n",
    "    'SOCS2',  'SPI1',\n",
    "    # 'BBC3', 'BCL2L1',\n",
    "    # 'PTPN11',\n",
    "    # 'CDKN1B', \n",
    "    \n",
    "]\n",
    "exp.subset(gns, index='identifier',).require_n_sig(n_sig=0, index='label').heatmap(\n",
    "    convert_to_log=False,\n",
    "    subset_index='identifier',\n",
    "#     min_sig=1,\n",
    "    index='label',\n",
    "    columns=['drug', 'stage', ],\n",
    "    figsize=(6, 6), cluster_col=False,\n",
    "    cluster_row=True,\n",
    "    linewidths=0.01,\n",
    "    y_tick_labels=True\n",
    ");"
   ]
  },
  {
   "cell_type": "code",
   "execution_count": null,
   "id": "56c18f4a0e133cc9",
   "metadata": {
    "collapsed": false,
    "jupyter": {
     "outputs_hidden": false
    }
   },
   "outputs": [],
   "source": [
    "gns = [\n",
    "      \n",
    "    'DNMT3A', 'DNMT3B', 'DNMT1',\n",
    "    \n",
    "    # 'FLT3',  \n",
    "    \n",
    "]\n",
    "exp.subset(gns, index='identifier',).require_n_sig(n_sig=1, index='label').heatmap(\n",
    "    convert_to_log=True,\n",
    "    subset_index='identifier',\n",
    "#     min_sig=1,\n",
    "    index='label',\n",
    "    columns=['drug', 'stage', ],\n",
    "    figsize=(6, 4), cluster_col=False,\n",
    "    cluster_row=False,\n",
    "    sort_row='index',\n",
    "    linewidths=0.01,\n",
    "    y_tick_labels=True\n",
    ");\n",
    "plt.savefig('dnmt_heatmap.png', dpi=300, bbox_inches='tight')\n",
    "plt.savefig('dnmt_heatmap.pdf', dpi=300, bbox_inches='tight')"
   ]
  },
  {
   "cell_type": "code",
   "execution_count": null,
   "id": "8774507018ad669e",
   "metadata": {
    "collapsed": false,
    "jupyter": {
     "outputs_hidden": false
    }
   },
   "outputs": [],
   "source": [
    "gns = [\n",
    "      \n",
    "    # 'DNMT3A', 'DNMT3B', 'DNMT1',\n",
    "    \n",
    "    'FLT3',  \n",
    "    \n",
    "]\n",
    "exp.subset(gns, index='identifier',).require_n_sig(n_sig=1, index='label').heatmap(\n",
    "    convert_to_log=True,\n",
    "    subset_index='identifier',\n",
    "#     min_sig=1,\n",
    "    index='label',\n",
    "    columns=['drug', 'stage', ],\n",
    "    figsize=(6, 3), cluster_col=False,\n",
    "    cluster_row=False,\n",
    "    sort_row='index',\n",
    "    linewidths=0.01,\n",
    "    y_tick_labels=True\n",
    ");\n",
    "plt.savefig('flt3_heatmap.png', dpi=300, bbox_inches='tight')\n",
    "plt.savefig('flt3_heatmap.pdf', dpi=300, bbox_inches='tight')"
   ]
  },
  {
   "cell_type": "code",
   "execution_count": null,
   "id": "initial_id",
   "metadata": {},
   "outputs": [],
   "source": [
    "\n",
    "gns = [\n",
    "      'TYMS', 'RRM1',\n",
    "    'DCK', 'UCK2',\n",
    "    'CDA', 'CAD',\n",
    "    # 'DNMT3A', 'DNMT3B', 'DNMT1',\n",
    "    \n",
    "    # 'FLT3',  \n",
    "    \n",
    "]\n",
    "protein.subset(gns, index='identifier',).require_n_sig(n_sig=0, index='label').heatmap(\n",
    "    convert_to_log=True,\n",
    "    subset_index='identifier',\n",
    "#     min_sig=1,\n",
    "    index='label',\n",
    "    columns=['drug', 'stage', ],\n",
    "    figsize=(6, 3), cluster_col=False,\n",
    "    cluster_row=False,\n",
    "    sort_row='index',\n",
    "    linewidths=0.01,\n",
    "    y_tick_labels=True\n",
    ");"
   ]
  }
 ],
 "metadata": {
  "kernelspec": {
   "display_name": "Python 3 (ipykernel)",
   "language": "python",
   "name": "python3"
  },
  "language_info": {
   "codemirror_mode": {
    "name": "ipython",
    "version": 3
   },
   "file_extension": ".py",
   "mimetype": "text/x-python",
   "name": "python",
   "nbconvert_exporter": "python",
   "pygments_lexer": "ipython3",
   "version": "3.8.19"
  }
 },
 "nbformat": 4,
 "nbformat_minor": 5
}
