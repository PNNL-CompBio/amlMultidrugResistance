{
 "cells": [
  {
   "cell_type": "code",
   "execution_count": null,
   "metadata": {
    "collapsed": false
   },
   "outputs": [],
   "source": [
    "import pandas as pd\n",
    "import seaborn as sns\n",
    "import matplotlib.pyplot as plt\n",
    "from sklearn.decomposition import PCA\n",
    "from matplotlib.patches import Patch"
   ]
  },
  {
   "cell_type": "code",
   "outputs": [],
   "source": [
    "import matplotlib\n",
    "matplotlib.rcParams['pdf.fonttype'] = 42\n",
    "matplotlib.rcParams['font.family'] = ['arial']\n",
    "# matplotlib.rcParams['font.size'] = 6\n",
    "\n",
    "sns.set_theme(\n",
    "    context ='paper',\n",
    "    palette=\"Paired\", \n",
    "    style='white',\n",
    "    font='arial',\n",
    "    # font_scale=1.0\n",
    ")"
   ],
   "metadata": {
    "collapsed": true,
    "pycharm": {
     "name": "#%%\n",
     "is_executing": true
    }
   },
   "execution_count": null
  },
  {
   "cell_type": "markdown",
   "source": [
    "## Gobal proteomics"
   ],
   "metadata": {
    "collapsed": false
   }
  },
  {
   "cell_type": "code",
   "outputs": [],
   "source": [
    "# dec only\n",
    "dec_only_global_id = 'exp23_global_raw_intensity_crosstab.txt'\n",
    "dec_meta_id = 'exp23_global_raw_metadata.txt'\n",
    "\n",
    "dec_only_meta = pd.read_csv(dec_meta_id, delimiter='\\t')\n",
    "do_table = pd.read_csv(dec_only_global_id, delimiter='\\t')"
   ],
   "metadata": {
    "collapsed": false
   },
   "execution_count": null
  },
  {
   "cell_type": "code",
   "outputs": [],
   "source": [
    "dec_only_meta"
   ],
   "metadata": {
    "collapsed": false
   },
   "execution_count": null
  },
  {
   "cell_type": "code",
   "outputs": [],
   "source": [
    "\n",
    "# gv, gvd, gd samples\n",
    "exp_18_meta_id = 'exp18_global_raw_metadata 1.txt'\n",
    "exp_18_id = 'exp18_global_raw_intensity_crosstab 1.txt'\n",
    "\n",
    "exp_18_meta = pd.read_csv(exp_18_meta_id, delimiter='\\t')\n",
    "exp_18 = pd.read_csv(exp_18_id, delimiter='\\t')\n",
    "exp_18.shape"
   ],
   "metadata": {
    "collapsed": false
   },
   "execution_count": null
  },
  {
   "cell_type": "code",
   "outputs": [],
   "source": [
    "exp_18_meta['TS_'] = exp_18_meta.Treatment + '_' +exp_18_meta.State + '-'+ exp_18_meta.Plex.astype(str)\n",
    "# make a dictionary to rename columns of table to be the same as meta\n",
    "exp_18_meta.reset_index(names='name_index',inplace=True)\n",
    "exp_18_meta.dropna(subset=['Ligand'], inplace=True)\n",
    "col_dict = exp_18_meta[['name_index', 'TS_']].set_index('name_index').to_dict()['TS_']\n",
    "\n",
    "exp_18 = exp_18[col_dict.keys()]\n",
    "exp_18.rename(columns=col_dict, inplace=True)"
   ],
   "metadata": {
    "collapsed": false
   },
   "execution_count": null
  },
  {
   "cell_type": "code",
   "outputs": [],
   "source": [
    "exp_18.head()"
   ],
   "metadata": {
    "collapsed": false
   },
   "execution_count": null
  },
  {
   "cell_type": "code",
   "outputs": [],
   "source": [
    "# median center the data\n",
    "exp_18_for_plot = exp_18.copy()\n",
    "exp_18_for_plot.columns = [f'{i}_{j}' for i,j in enumerate(exp_18.columns)]\n",
    "\n",
    "exp_18_for_plot -= exp_18_for_plot.median()"
   ],
   "metadata": {
    "collapsed": false
   },
   "execution_count": null
  },
  {
   "cell_type": "code",
   "outputs": [],
   "source": [
    "exp_18_for_plot"
   ],
   "metadata": {
    "collapsed": false
   },
   "execution_count": null
  },
  {
   "cell_type": "code",
   "outputs": [],
   "source": [
    "f, ax = plt.subplots(figsize=(11, 6))\n",
    "g = sns.violinplot(data=exp_18_for_plot, bw_adjust=.5, cut=1, linewidth=1, palette=\"Set3\")\n",
    "\n",
    "# Finalize the figure\n",
    "ax.set(ylim=(-11., 7.5))\n",
    "ax.xaxis.set_tick_params(rotation=90)\n",
    "sns.despine(left=True, bottom=True)"
   ],
   "metadata": {
    "collapsed": false
   },
   "execution_count": null
  },
  {
   "cell_type": "code",
   "outputs": [],
   "source": [
    "dec_only_meta.reset_index(names='name_index',inplace=True)\n",
    "\n",
    "dec_only_meta.loc[dec_only_meta.sample_name.str.startswith('L'), 'TS_'] = 'GD_late'\n",
    "dec_only_meta.loc[dec_only_meta.sample_name.str.startswith('molm14'), 'TS_'] = 'none_Parental'\n",
    "dec_only_meta.loc[dec_only_meta.sample_name.str.startswith('molm/dec'), 'TS_'] = 'D_only'\n",
    "\n",
    "\n",
    "do_table=do_table[[f'sample_{i}' for i in range(1,17)]]\n",
    "col_dict2 = dec_only_meta[['name_index', 'TS_']].set_index('name_index').to_dict()['TS_']\n",
    "do_table.rename(columns=col_dict2, inplace=True)"
   ],
   "metadata": {
    "collapsed": false
   },
   "execution_count": null
  },
  {
   "cell_type": "code",
   "outputs": [],
   "source": [
    "do_table"
   ],
   "metadata": {
    "collapsed": false
   },
   "execution_count": null
  },
  {
   "cell_type": "code",
   "outputs": [],
   "source": [
    "do_table_for_plot = do_table.copy()\n",
    "do_table_for_plot.columns = [f'00{i}_{j}-4' for i,j in enumerate(do_table.columns)]\n",
    "do_table_for_plot -= do_table_for_plot.median()\n"
   ],
   "metadata": {
    "collapsed": false
   },
   "execution_count": null
  },
  {
   "cell_type": "code",
   "outputs": [],
   "source": [
    "f, ax = plt.subplots(figsize=(11, 6))\n",
    "sns.violinplot(data=do_table_for_plot, bw_adjust=.5, cut=1, linewidth=1, palette=\"Set3\",\n",
    "               order =sorted(do_table_for_plot.columns) )\n",
    "\n",
    "# Finalize the figure\n",
    "ax.set(ylim=(-11., 7.5))\n",
    "ax.xaxis.set_tick_params(rotation=90)\n",
    "sns.despine(left=True, bottom=True)"
   ],
   "metadata": {
    "collapsed": false,
    "pycharm": {
     "name": "#%%\n"
    }
   },
   "execution_count": null
  },
  {
   "cell_type": "code",
   "outputs": [],
   "source": [
    "merged = pd.concat([do_table_for_plot, exp_18_for_plot ], axis=1)\n",
    "merged = merged[[i for i in merged.columns if not 'Spontaneous' in i]]\n",
    "merged.head()"
   ],
   "metadata": {
    "collapsed": false
   },
   "execution_count": null
  },
  {
   "cell_type": "code",
   "outputs": [],
   "source": [
    "merged.to_csv('merged_data.csv')"
   ],
   "metadata": {
    "collapsed": false
   },
   "execution_count": null
  },
  {
   "cell_type": "code",
   "outputs": [],
   "source": [
    "merged_no_na = merged.fillna(0, axis=0)\n",
    "merged_no_na -= merged_no_na.median()"
   ],
   "metadata": {
    "collapsed": false
   },
   "execution_count": null
  },
  {
   "cell_type": "code",
   "outputs": [],
   "source": [
    "styles_18 = pd.DataFrame()\n",
    "\n",
    "styles_18['name'] = ['_'.join(i.split('_')[1:]) for i in exp_18_for_plot.columns if 'Spontaneous' not in i]\n",
    "styles_18['name'] = [i.split('-')[0] for i in styles_18['name']]\n",
    "styles_18['batch'] = [i.split('-')[1] for i in exp_18_for_plot.columns if \"Spontaneous\" not in i]\n",
    "styles_18['state'] = [i.split('_')[-1] for i in styles_18['name']]\n",
    "styles_18['drug'] = [i.split('_')[0] for i in styles_18['name']]\n",
    "# styles['state'] = ['early' if 'Early' in i else 'late' for i in styles['name']]\n",
    "styles_18.loc[styles_18.state == 'only', 'state'] = 'late'\n",
    "styles_18.loc[styles_18.state == 'Early', 'state'] = 'early'\n",
    "styles_18.loc[styles_18.state == 'Late', 'state'] = 'late'\n",
    "styles_18.loc[styles_18.state == 'Parental', 'state'] = 'parental'\n",
    "styles_18.loc[styles_18.name == 'Parental', 'state'] = 'parental'\n",
    "styles_18.loc[styles_18.name == 'parental', 'drug'] = 'none'\n",
    "styles_18.loc[len(do_table_for_plot.columns):, 'experiment'] = 'exp_18'"
   ],
   "metadata": {
    "collapsed": false
   },
   "execution_count": null
  },
  {
   "cell_type": "code",
   "outputs": [],
   "source": [
    "styles = pd.DataFrame()\n",
    "\n",
    "styles['name'] = ['_'.join(i.split('_')[1:]) for i in merged.columns]\n",
    "styles['name'] = [i.split('-')[0] for i in styles['name']]\n",
    "styles.name = styles.name.str.replace('late', 'Late')\n",
    "styles['batch'] = [i.split('-')[1] for i in merged.columns]\n",
    "styles['state'] = [i.split('_')[-1] for i in styles['name']]\n",
    "styles['drug'] = [i.split('_')[0] for i in styles['name']]\n",
    "# styles['state'] = ['early' if 'Early' in i else 'late' for i in styles['name']]\n",
    "styles.loc[styles.state == 'only', 'state'] = 'late'\n",
    "styles.loc[styles.state == 'Early', 'state'] = 'early'\n",
    "styles.loc[styles.state == 'Late', 'state'] = 'late'\n",
    "styles.loc[styles.state == 'Parental', 'state'] = 'parental'\n",
    "styles.loc[styles.name == 'Parental', 'state'] = 'parental'\n",
    "styles.loc[styles.name == 'parental', 'drug'] = 'none'\n",
    "styles.loc[:len(do_table_for_plot.columns), 'experiment'] = 'exp_23'\n",
    "styles.loc[len(do_table_for_plot.columns):, 'experiment'] = 'exp_18'\n",
    "\n",
    "# styles['batch'] = batch\n",
    "# styles= styles.loc[styles.state=='Spontaneous']\n",
    "styles.to_csv('data/meta.csv', index=False)"
   ],
   "metadata": {
    "collapsed": false
   },
   "execution_count": null
  },
  {
   "cell_type": "code",
   "outputs": [],
   "source": [
    "styles_18 = styles.loc[styles.experiment == 'exp_18']\n",
    "dec_only_styles = styles.loc[styles.experiment == 'exp_23']"
   ],
   "metadata": {
    "collapsed": false
   },
   "execution_count": null
  },
  {
   "cell_type": "code",
   "outputs": [],
   "source": [
    "\n",
    "from combat import pycombat    "
   ],
   "metadata": {
    "collapsed": false
   },
   "execution_count": null
  },
  {
   "cell_type": "code",
   "outputs": [],
   "source": [
    "df_corrected_drug_mod = pycombat.pycombat(\n",
    "    merged_no_na, \n",
    "    batch=list(styles.batch), \n",
    "    mod=list(styles.drug)\n",
    ")"
   ],
   "metadata": {
    "collapsed": false
   },
   "execution_count": null
  },
  {
   "cell_type": "code",
   "outputs": [],
   "source": [
    "f, ax = plt.subplots(figsize=(13, 6))\n",
    "sns.violinplot(data=df_corrected_drug_mod, bw_adjust=.5, cut=1, linewidth=1, palette=\"Set3\")\n",
    "\n",
    "# Finalize the figure\n",
    "ax.set(ylim=(-11., 7.5))\n",
    "ax.xaxis.set_tick_params(rotation=90)\n",
    "sns.despine(left=True, bottom=True)\n",
    "plt.savefig('violin_plot_median_centered.png', bbox_inches='tight')"
   ],
   "metadata": {
    "collapsed": false
   },
   "execution_count": null
  },
  {
   "cell_type": "code",
   "outputs": [],
   "source": [
    "df_corrected_no_mod = pycombat.pycombat(\n",
    "    merged_no_na, list(styles.batch), \n",
    ")"
   ],
   "metadata": {
    "collapsed": false
   },
   "execution_count": null
  },
  {
   "cell_type": "code",
   "outputs": [],
   "source": [
    "exp_18_for_plot = exp_18_for_plot[[i for i in exp_18_for_plot.columns if 'Spontaneous' not in i]].fillna(0, axis=0)\n",
    "\n",
    "exp_18_corrected = pycombat.pycombat(\n",
    "    exp_18_for_plot,\n",
    "    batch=list(styles_18.batch),\n",
    "    mod=list(styles_18.drug)\n",
    ")"
   ],
   "metadata": {
    "collapsed": false
   },
   "execution_count": null
  },
  {
   "cell_type": "code",
   "outputs": [],
   "source": [
    "two_step_merge = pd.concat([do_table_for_plot, exp_18_corrected ], axis=1).fillna(0, axis=0)\n",
    "two_step_merge_df = pycombat.pycombat(\n",
    "    two_step_merge, list(styles.experiment), list(styles.drug)\n",
    ")"
   ],
   "metadata": {
    "collapsed": false
   },
   "execution_count": null
  },
  {
   "cell_type": "code",
   "outputs": [],
   "source": [
    "def create_pca(df, save_name, title, styles=styles):\n",
    "    X = df.values.T\n",
    "    pca = PCA(n_components=2)\n",
    "    X_r = pca.fit(X).transform(X)\n",
    "    current_styles = styles.copy()\n",
    "    current_styles['x'] = X_r[:, 0]\n",
    "    current_styles['y'] = X_r[:, 1]\n",
    "    f, (ax1, ax2)= plt.subplots(2,1, sharex=True, figsize=(2,4))\n",
    "    ax = sns.scatterplot(\n",
    "    ax=ax1,\n",
    "    data=current_styles, x='x', y='y', hue='drug', hue_order=['none', 'D', 'G', 'GV','GD', 'GVD'],\n",
    "    # style='ligand', style_order=['FLT3', 'FGF2', 'none'],\n",
    "    style='state', style_order=['early', 'late', 'parental'],\n",
    "    palette='Set2'\n",
    "    )\n",
    "    # Shrink current axis by 20%\n",
    "    box = ax.get_position()\n",
    "    ax.set_position([box.x0, box.y0, box.width * 0.8, box.height])\n",
    "    \n",
    "    # Put a legend to the right of the current axis\n",
    "    ax.legend(loc='center left', bbox_to_anchor=(1.05, 0.5))\n",
    "    # plt.title(\"PCA of global proteomics\")\n",
    "    ax1.set_xlabel(f'PCA 1 variance = {pca.explained_variance_ratio_[0]*100:.2f} %')\n",
    "    ax1.set_ylabel(f'PCA 2 variance = {pca.explained_variance_ratio_[1]*100:.2f} %')\n",
    "    \n",
    "    ax = sns.scatterplot(\n",
    "        ax=ax2,\n",
    "        data=current_styles, x='x', y='y', #hue='drug', hue_order=['none', 'D', 'G', 'GV','GD', 'GVD'],\n",
    "        # style='ligand', style_order=['FLT3', 'FGF2', 'none'],\n",
    "        hue='experiment',# style_order=['early', 'late', 'parental'],\n",
    "        palette='Dark2'\n",
    "    )\n",
    "    # Shrink current axis by 20%\n",
    "    box = ax.get_position()\n",
    "    ax.set_position([box.x0, box.y0, box.width * 0.8, box.height])\n",
    "    \n",
    "    # Put a legend to the right of the current axis\n",
    "    ax.legend(loc='center left', bbox_to_anchor=(1.05, 0.5))\n",
    "    plt.suptitle(f\"PCA of {title}\")\n",
    "    plt.xlabel(f'PCA 1 variance = {pca.explained_variance_ratio_[0]*100:.2f} %')\n",
    "    plt.ylabel(f'PCA 2 variance = {pca.explained_variance_ratio_[1]*100:.2f} %')\n",
    "    plt.savefig(f'pca_{save_name}.png', bbox_inches='tight', dpi=300)\n",
    "    plt.savefig(f'pca_{save_name}.pdf', bbox_inches='tight', dpi=300)"
   ],
   "metadata": {
    "collapsed": false
   },
   "execution_count": null
  },
  {
   "cell_type": "code",
   "outputs": [],
   "source": [
    "create_pca(merged_no_na, 'uncorrected', 'uncorrected')"
   ],
   "metadata": {
    "collapsed": false
   },
   "execution_count": null
  },
  {
   "cell_type": "code",
   "outputs": [],
   "source": [
    "create_pca(exp_18_for_plot, 'exp18', 'exp18', styles=styles_18)\n",
    "create_pca(exp_18_corrected, 'exp18', 'exp18', styles=styles_18)"
   ],
   "metadata": {
    "collapsed": false
   },
   "execution_count": null
  },
  {
   "cell_type": "code",
   "outputs": [],
   "source": [
    "create_pca(do_table_for_plot, 'dec_samples', 'dec_samples', styles=dec_only_styles)"
   ],
   "metadata": {
    "collapsed": false
   },
   "execution_count": null
  },
  {
   "cell_type": "code",
   "outputs": [],
   "source": [
    "create_pca(two_step_merge_df, 'corrected_two_step_merge_df', 'corrected_two_step_merge_df')"
   ],
   "metadata": {
    "collapsed": false
   },
   "execution_count": null
  },
  {
   "cell_type": "code",
   "outputs": [],
   "source": [
    "create_pca(df_corrected_drug_mod, 'corrected_drug_mod', 'corrected_drug_mod')"
   ],
   "metadata": {
    "collapsed": false
   },
   "execution_count": null
  },
  {
   "cell_type": "code",
   "outputs": [],
   "source": [
    "create_pca(df_corrected_no_mod, 'corrected_no_mod', 'corrected_no_mod')"
   ],
   "metadata": {
    "collapsed": false
   },
   "execution_count": null
  },
  {
   "cell_type": "code",
   "outputs": [],
   "source": [
    "#create a color palette with the same number of colors as unique values in the Source column\n",
    "network_pal = sns.color_palette('Set3', len(styles.drug.unique()), as_cmap=False)\n",
    "# network_pal = ['green', 'red', 'blue', 'pink', 'orange', 'yellow']\n",
    "#Create a dictionary where the key is the category and the values are the\n",
    "#colors from the palette we just created\n",
    "network_lut = dict(zip(styles.drug.unique(), network_pal))\n",
    "\n",
    "\n",
    "#map the colors to the series. Now we have a list of colors the same\n",
    "#length as our dataframe, where unique values are mapped to the same color\n",
    "network_colors = pd.Series(styles.drug).map(network_lut)\n",
    "network_colors.index = merged_no_na.columns\n",
    "\n",
    "#create a color palette with the same number of colors as unique values in the Source column\n",
    "network_pal2 = sns.color_palette('Dark2', len(styles.experiment.unique()), as_cmap=False)\n",
    "# network_pal = ['green', 'red', 'blue', 'pink', 'orange', 'yellow']\n",
    "#Create a dictionary where the key is the category and the values are the\n",
    "#colors from the palette we just created\n",
    "network_lut2 = dict(zip(styles.experiment.unique(), network_pal2))\n",
    "\n",
    "\n",
    "#map the colors to the series. Now we have a list of colors the same\n",
    "#length as our dataframe, where unique values are mapped to the same color\n",
    "network_colors2 = pd.Series(styles.experiment).map(network_lut2)\n",
    "network_colors2.index = merged_no_na.columns\n",
    "colors = pd.DataFrame([network_colors2, network_colors])"
   ],
   "metadata": {
    "collapsed": false
   },
   "execution_count": null
  },
  {
   "cell_type": "code",
   "outputs": [],
   "source": [
    "sns.clustermap(\n",
    "    two_step_merge_df,\n",
    "    xticklabels=False, \n",
    "    yticklabels=False, \n",
    "    row_cluster=True,\n",
    "    cmap='coolwarm',\n",
    "    z_score=0, \n",
    "    col_colors=colors.T,\n",
    "    method='ward',\n",
    "    figsize=(8,8)\n",
    ")\n",
    "\n",
    "handles = [Patch(facecolor=network_lut[name]) for name in network_lut]\n",
    "legend1= plt.legend(handles, network_lut, title='Drug',\n",
    "           bbox_to_anchor=(1.01, .7), bbox_transform=plt.gcf().transFigure, loc='upper right')\n",
    "\n",
    "handles2 = [Patch(facecolor=network_lut2[name]) for name in network_lut2]\n",
    "legend2 = plt.legend(\n",
    "    handles2, \n",
    "    ['18', '23'],\n",
    "    title='Experiment',\n",
    "    bbox_to_anchor=(1., 1.),\n",
    "    bbox_transform=plt.gcf().transFigure,\n",
    "    loc='upper right'\n",
    ")\n",
    "plt.gca().add_artist(legend1)\n",
    "plt.gca().add_artist(legend2)\n",
    "# plt.tight_layout()\n",
    "plt.savefig('heatmap_corrected_clustered.png', bbox_inches='tight', dpi=300, bbox_extra_artists=(legend1, legend2))\n",
    "plt.savefig('heatmap_corrected_clustered.pdf', bbox_inches='tight', dpi=300, bbox_extra_artists=(legend1, legend2))"
   ],
   "metadata": {
    "collapsed": false
   },
   "execution_count": null
  },
  {
   "cell_type": "code",
   "outputs": [],
   "source": [
    "sns.clustermap(\n",
    "    df_corrected_no_mod,\n",
    "    xticklabels=True, \n",
    "    yticklabels=False, \n",
    "    row_cluster=True,\n",
    "    cmap='coolwarm',\n",
    "    z_score=0, \n",
    "    col_colors=colors.T,\n",
    "    method='ward',\n",
    "    figsize=(8, 8)\n",
    ")\n",
    "\n",
    "handles = [Patch(facecolor=network_lut[name]) for name in network_lut]\n",
    "plt.legend(handles, network_lut, title='Drug',\n",
    "           bbox_to_anchor=(1, 1), bbox_transform=plt.gcf().transFigure, loc='upper right')\n",
    "# \n",
    "# handles2 = [Patch(facecolor=network_lut2[name]) for name in network_lut2]\n",
    "# plt.legend(handles2, network_lut2, title='Exp',\n",
    "#            bbox_to_anchor=(1, 1), bbox_transform=plt.gcf().transFigure, loc='upper right')\n",
    "\n",
    "# plt.savefig('corrected_clustered_no_mod1.png', bbox_inches='tight')"
   ],
   "metadata": {
    "collapsed": false
   },
   "execution_count": null
  },
  {
   "cell_type": "code",
   "outputs": [],
   "source": [
    "df_corrected_drug_mod.to_csv('global_proteomics_matrix.csv')"
   ],
   "metadata": {
    "collapsed": false
   },
   "execution_count": null
  },
  {
   "cell_type": "markdown",
   "source": [
    "### Load in diff. expression "
   ],
   "metadata": {
    "collapsed": false
   }
  },
  {
   "cell_type": "code",
   "outputs": [],
   "source": [
    "import pandas as pd"
   ],
   "metadata": {
    "collapsed": false
   },
   "execution_count": null
  },
  {
   "cell_type": "markdown",
   "source": [
    "## Phosphoproteomics"
   ],
   "metadata": {
    "collapsed": false
   }
  },
  {
   "cell_type": "code",
   "outputs": [],
   "source": [
    "dec_only_phospho_id = 'data/exp23_phospho_raw_intensity_crosstab.txt'\n",
    "dec_phospho_meta_id = 'data/exp23_phospho_raw_metadata.txt'\n",
    "\n",
    "do_phospho_meta = pd.read_csv(dec_phospho_meta_id, delimiter='\\t')\n",
    "do_phospho_table = pd.read_csv(dec_only_phospho_id, delimiter='\\t')\n",
    "\n",
    "\n",
    "do_phospho_meta.reset_index(names='name_index',inplace=True)\n",
    "do_phospho_meta.loc[do_phospho_meta.sample_name.str.startswith('L'), 'TS_'] = 'GD_late'\n",
    "do_phospho_meta.loc[do_phospho_meta.sample_name.str.startswith('molm14'), 'TS_'] = 'none_Parental'\n",
    "do_phospho_meta.loc[do_phospho_meta.sample_name.str.startswith('molm/dec'), 'TS_'] = 'D_only'\n",
    "col_dict2 = do_phospho_meta[['name_index', 'TS_']].set_index('name_index').to_dict()['TS_']\n",
    "\n",
    "do_phospho_table.rename(columns=col_dict2, inplace=True)\n",
    "do_phospho_table.columns = [f'{i}_{j}' for i,j in enumerate(do_phospho_table.columns)]"
   ],
   "metadata": {
    "collapsed": false
   },
   "execution_count": null
  },
  {
   "cell_type": "code",
   "outputs": [],
   "source": [
    "# gv, gvd, gd samples\n",
    "exp_18_meta_id_phospho = 'data/exp18_phospho_raw_metadata.txt'\n",
    "exp_18_id_phospho = 'data/exp18_phospho_raw_intensity_crosstab.txt'\n",
    "\n",
    "exp_18_meta_phospho = pd.read_csv(exp_18_meta_id_phospho, delimiter='\\t')\n",
    "exp_18_phospho = pd.read_csv(exp_18_id_phospho, delimiter='\\t')\n",
    "\n",
    "exp_18_meta_phospho['TS_'] = exp_18_meta_phospho.Treatment + '_' +exp_18_meta_phospho.State + '-'+ exp_18_meta_phospho.Plex.astype(str)\n",
    "# make a dictionary to rename columns of table to be the same as meta\n",
    "exp_18_meta_phospho.reset_index(names='name_index',inplace=True)\n",
    "exp_18_meta_phospho.dropna(subset=['Ligand'], inplace=True)\n",
    "\n",
    "col_dict = exp_18_meta_phospho[['name_index', 'TS_']].set_index('name_index').to_dict()['TS_']\n",
    "\n",
    "exp_18_phospho = exp_18_phospho[col_dict.keys()].copy()\n",
    "exp_18_phospho.rename(columns=col_dict, inplace=True)\n",
    "exp_18_phospho.columns = [f'{i}_{j}' for i,j in enumerate(exp_18_phospho.columns)]"
   ],
   "metadata": {
    "collapsed": false
   },
   "execution_count": null
  },
  {
   "cell_type": "code",
   "outputs": [],
   "source": [
    "exp_18_phospho"
   ],
   "metadata": {
    "collapsed": false
   },
   "execution_count": null
  },
  {
   "cell_type": "code",
   "outputs": [],
   "source": [
    "exp_18_phospho"
   ],
   "metadata": {
    "collapsed": false
   },
   "execution_count": null
  },
  {
   "cell_type": "code",
   "outputs": [],
   "source": [
    "cols = [i for i in exp_18_phospho.columns if 'Spontaneous' not in i]\n",
    "len(cols)"
   ],
   "metadata": {
    "collapsed": false
   },
   "execution_count": null
  },
  {
   "cell_type": "code",
   "outputs": [],
   "source": [
    "e18_phospho = exp_18_phospho[cols].copy()\n",
    "e18_phospho -= e18_phospho.median()\n",
    "e18_phospho"
   ],
   "metadata": {
    "collapsed": false
   },
   "execution_count": null
  },
  {
   "cell_type": "code",
   "outputs": [],
   "source": [
    "\n",
    "e18_phospho_corrected = pycombat.pycombat(\n",
    "    e18_phospho,\n",
    "    batch=list(styles_18.batch),\n",
    "    mod=list(styles_18.drug)\n",
    ")"
   ],
   "metadata": {
    "collapsed": false
   },
   "execution_count": null
  },
  {
   "cell_type": "code",
   "outputs": [],
   "source": [
    "do_phospho_table_for_plot = do_phospho_table.copy()\n",
    "do_phospho_table_for_plot -= do_phospho_table_for_plot.median()\n",
    "\n",
    "two_step_merge_phopsho = pd.concat([do_phospho_table_for_plot, e18_phospho_corrected ], axis=1)\n",
    "print(two_step_merge_phopsho.shape)\n",
    "two_step_merge_phopsho.dropna(thresh=29, axis=0, inplace=True)\n",
    "print(two_step_merge_phopsho.shape)\n",
    "\n",
    "two_step_merge_phospho_df = pycombat.pycombat(\n",
    "    two_step_merge_phopsho.fillna(0),\n",
    "    batch=list(styles.experiment),\n",
    "    mod=list(styles.drug)\n",
    ")"
   ],
   "metadata": {
    "collapsed": false
   },
   "execution_count": null
  },
  {
   "cell_type": "code",
   "outputs": [],
   "source": [
    "\n",
    "\n",
    "one_step_merge_phopsho = pd.concat([do_phospho_table, e18_phospho ], axis=1)\n",
    "print(one_step_merge_phopsho.shape)\n",
    "one_step_merge_phopsho.dropna(thresh=29, axis=0, inplace=True)\n",
    "print(one_step_merge_phopsho.shape)\n",
    "\n",
    "one_step_merge_phopsho = one_step_merge_phopsho.copy()\n",
    "one_step_merge_phopsho -= one_step_merge_phopsho.median()\n",
    "one_step_merge_phopsho = one_step_merge_phopsho.fillna(0)\n",
    "\n",
    "one_step_merge_phospho_df = pycombat.pycombat(\n",
    "    one_step_merge_phopsho,\n",
    "    batch=list(styles.batch),\n",
    "    mod=list(styles.drug)\n",
    ")"
   ],
   "metadata": {
    "collapsed": false
   },
   "execution_count": null
  },
  {
   "cell_type": "code",
   "outputs": [],
   "source": [
    "# save results used\n",
    "one_step_merge_phopsho.to_csv('data/phospho_proteomics_matrix.csv')"
   ],
   "metadata": {
    "collapsed": false
   },
   "execution_count": 0
  },
  {
   "cell_type": "code",
   "outputs": [],
   "source": [
    "create_pca(do_phospho_table, 'phosphoproteomics after batch corrected', 'one_step_phospho', styles=dec_only_styles)"
   ],
   "metadata": {
    "collapsed": false
   },
   "execution_count": null
  },
  {
   "cell_type": "code",
   "outputs": [],
   "source": [
    "create_pca(e18_phospho_corrected, 'phosphoproteomics after batch corrected', 'one_step_phospho', styles=styles_18)"
   ],
   "metadata": {
    "collapsed": false
   },
   "execution_count": null
  },
  {
   "cell_type": "code",
   "outputs": [],
   "source": [
    "create_pca(one_step_merge_phospho_df, 'phosphoproteomics after batch corrected', 'one_step_phospho')"
   ],
   "metadata": {
    "collapsed": false
   },
   "execution_count": null
  },
  {
   "cell_type": "code",
   "outputs": [],
   "source": [
    "create_pca(two_step_merge_phospho_df, 'phosphoproteomics after batch corrected', 'phospho_corrected_two_step_merge_df')"
   ],
   "metadata": {
    "collapsed": false
   },
   "execution_count": null
  },
  {
   "cell_type": "code",
   "outputs": [],
   "source": [],
   "metadata": {
    "collapsed": false
   },
   "execution_count": null
  },
  {
   "cell_type": "code",
   "outputs": [],
   "source": [
    "#create a color palette with the same number of colors as unique values in the Source column\n",
    "network_pal = sns.color_palette('Set3', len(styles.drug.unique()), as_cmap=False)\n",
    "# network_pal = ['green', 'red', 'blue', 'pink', 'orange', 'yellow']\n",
    "#Create a dictionary where the key is the category and the values are the\n",
    "#colors from the palette we just created\n",
    "network_lut = dict(zip(styles.drug.unique(), network_pal))\n",
    "\n",
    "\n",
    "#map the colors to the series. Now we have a list of colors the same\n",
    "#length as our dataframe, where unique values are mapped to the same color\n",
    "network_colors = pd.Series(styles.drug).map(network_lut)\n",
    "network_colors.index = two_step_merge.columns\n",
    "\n",
    "#create a color palette with the same number of colors as unique values in the Source column\n",
    "network_pal2 = sns.color_palette('Dark2', len(styles.experiment.unique()), as_cmap=False)\n",
    "# network_pal = ['green', 'red', 'blue', 'pink', 'orange', 'yellow']\n",
    "#Create a dictionary where the key is the category and the values are the\n",
    "#colors from the palette we just created\n",
    "network_lut2 = dict(zip(styles.experiment.unique(), network_pal2))\n",
    "\n",
    "\n",
    "#map the colors to the series. Now we have a list of colors the same\n",
    "#length as our dataframe, where unique values are mapped to the same color\n",
    "network_colors2 = pd.Series(styles.experiment).map(network_lut2)\n",
    "network_colors2.index = two_step_merge.columns\n",
    "colors = pd.DataFrame([network_colors2, network_colors])"
   ],
   "metadata": {
    "collapsed": false
   },
   "execution_count": null
  },
  {
   "cell_type": "code",
   "outputs": [],
   "source": [
    "sns.clustermap(\n",
    "    two_step_merge_df,\n",
    "    xticklabels=False, \n",
    "    yticklabels=False, \n",
    "    row_cluster=True,\n",
    "    cmap='coolwarm',\n",
    "    z_score=0, \n",
    "    col_colors=colors.T,\n",
    "    method='ward',\n",
    "    figsize=(6,6)\n",
    ")\n",
    "\n",
    "handles = [Patch(facecolor=network_lut[name]) for name in network_lut]\n",
    "legend1= plt.legend(handles, network_lut, title='Drug',\n",
    "           bbox_to_anchor=(1.01, .7), bbox_transform=plt.gcf().transFigure, loc='upper right')\n",
    "\n",
    "handles2 = [Patch(facecolor=network_lut2[name]) for name in network_lut2]\n",
    "legend2 = plt.legend(\n",
    "    handles2, \n",
    "    ['18', '23'],\n",
    "    title='Experiment',\n",
    "    bbox_to_anchor=(1., 1.),\n",
    "    bbox_transform=plt.gcf().transFigure,\n",
    "    loc='upper right'\n",
    ")\n",
    "plt.gca().add_artist(legend1)\n",
    "plt.gca().add_artist(legend2)\n",
    "# plt.tight_layout()\n",
    "plt.savefig('heatmap_phospho_corrected_clustered.png', bbox_inches='tight', dpi=300, bbox_extra_artists=(legend1, legend2))"
   ],
   "metadata": {
    "collapsed": false
   },
   "execution_count": null
  }
 ],
 "metadata": {
  "kernelspec": {
   "display_name": "Python 3",
   "language": "python",
   "name": "python3"
  },
  "language_info": {
   "codemirror_mode": {
    "name": "ipython",
    "version": 2
   },
   "file_extension": ".py",
   "mimetype": "text/x-python",
   "name": "python",
   "nbconvert_exporter": "python",
   "pygments_lexer": "ipython2",
   "version": "2.7.6"
  }
 },
 "nbformat": 4,
 "nbformat_minor": 0
}
