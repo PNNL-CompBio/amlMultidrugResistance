{
 "cells": [
  {
   "cell_type": "code",
   "outputs": [],
   "source": [
    "import pandas as pd\n",
    "from magine.data.experimental_data import ExperimentalData\n",
    "import numpy as np\n",
    "import seaborn as sns"
   ],
   "metadata": {
    "collapsed": false
   },
   "id": "52f920a987b4b9f2",
   "execution_count": null
  },
  {
   "cell_type": "code",
   "outputs": [],
   "source": [
    "import matplotlib\n",
    "\n",
    "matplotlib.rcParams['pdf.fonttype'] = 42\n",
    "matplotlib.rcParams['font.family'] = ['arial']\n",
    "\n",
    "sns.set_theme(\n",
    "    context='paper',\n",
    "    palette=\"Paired\",\n",
    "    style='white',\n",
    "    font='arial',\n",
    "    # font_scale=1.0\n",
    ")"
   ],
   "metadata": {
    "collapsed": false
   },
   "id": "f71ab71a33779964",
   "execution_count": null
  },
  {
   "cell_type": "markdown",
   "source": [
    "## Merge differential results to single file"
   ],
   "metadata": {
    "collapsed": false
   },
   "id": "308a2d13ea1d9196"
  },
  {
   "cell_type": "code",
   "outputs": [],
   "source": [
    "designs = ['D_only', 'G_Early', 'G_Late', 'GD_Early', 'GD_Late', 'GV_Early', 'GV_Late', 'GVD_Early', 'GVD_Late', ]\n",
    "global_results, phospho_results = [], []\n",
    " \n",
    "for i in designs:\n",
    "    prot = pd.read_csv(f'diff_ex{i}-none_Parental.csv', delimiter=' ')\n",
    "    prot['sample_id'] = i\n",
    "    global_results.append(prot)\n",
    "    phos = pd.read_csv(f'data/diff_ex_phospho_{i}-none_Parental.csv', delimiter=' ')\n",
    "    phos['sample_id'] = i\n",
    "    phospho_results.append(phos)\n"
   ],
   "metadata": {
    "collapsed": false
   },
   "id": "831d21939e9e0b8a",
   "execution_count": 0
  },
  {
   "cell_type": "code",
   "outputs": [],
   "source": [
    "global_prot = pd.concat(global_results).reset_index()\n",
    "global_prot.rename(columns={'index': 'identifier'}, inplace=True)\n",
    "del global_prot['Var.1']\n",
    "\n",
    "crit_1 = global_prot.logFC > 0\n",
    "crit_2 = global_prot.logFC < 0\n",
    "global_prot.loc[crit_1, 'fold_change'] = 2 ** global_prot.loc[crit_1]['logFC']\n",
    "global_prot.loc[crit_2, 'fold_change'] = (-1 / (2 ** global_prot.loc[crit_2]['logFC']))\n",
    "\n",
    "global_prot['significant'] = False\n",
    "\n",
    "sig_crit = global_prot['adj.P.Val'] <= 0.05\n",
    "fold_change_crit = np.abs(global_prot['fold_change']) >= 1.5\n",
    "global_prot.loc[sig_crit & fold_change_crit, 'significant'] = True\n",
    "\n",
    "global_prot['p_value'] = global_prot['adj.P.Val']\n",
    "global_prot['species_type'] = 'protein'\n",
    "global_prot['source'] = 'global_proteomics'\n",
    "global_prot['label'] = global_prot['identifier'] + '_prot'\n",
    "global_prot.to_csv('global_proteomics_for_magine.csv.gz', )"
   ],
   "metadata": {
    "collapsed": false
   },
   "id": "fd6e5c5ef2b42b90",
   "execution_count": null
  },
  {
   "cell_type": "code",
   "outputs": [],
   "source": [
    "phospho_data = pd.concat(phospho_results).reset_index()\n",
    "phospho_data.rename(columns={'index': 'gene_name'}, inplace=True)\n",
    "del phospho_data['Var.1']\n",
    "phospho_data['identifier'] = phospho_data.gene_name.str.split('-').str.get(0)\n",
    "phospho_data.rename(columns={'gene_name': 'label'}, inplace=True)\n",
    "\n",
    "crit_1 = phospho_data.logFC > 0\n",
    "crit_2 = phospho_data.logFC < 0\n",
    "\n",
    "phospho_data.loc[crit_1, 'fold_change'] = 2 ** phospho_data.loc[crit_1]['logFC']\n",
    "phospho_data.loc[crit_2, 'fold_change'] = (-1 / (2 ** phospho_data.loc[crit_2]['logFC']))\n",
    "\n",
    "phospho_data['significant'] = False\n",
    "\n",
    "sig_crit = phospho_data['adj.P.Val'] <= 0.05\n",
    "fold_change_crit = np.abs(phospho_data['fold_change']) >= 1.5\n",
    "phospho_data.loc[sig_crit & fold_change_crit, 'significant'] = True\n",
    "\n",
    "phospho_data['p_value'] = phospho_data['adj.P.Val']\n",
    "phospho_data['species_type'] = 'protein'\n",
    "phospho_data['source'] = 'phospho_proteomics'\n",
    "phospho_data = phospho_data.loc[~phospho_data.label.str.contains('NULL'), :]\n",
    "phospho_data.to_csv('phospho_proteomics_for_magine.csv.gz', )"
   ],
   "metadata": {
    "collapsed": false
   },
   "id": "8c261b1c92c5bde5",
   "execution_count": null
  },
  {
   "cell_type": "code",
   "outputs": [],
   "source": [
    "merged = pd.concat([global_prot, phospho_data])\n",
    "merged.to_csv('both_proteomics_for_magine.csv.gz', )"
   ],
   "metadata": {
    "collapsed": false
   },
   "id": "a79068fbc52d2e0a",
   "execution_count": null
  },
  {
   "cell_type": "code",
   "outputs": [],
   "source": [
    "exp_data = ExperimentalData('both_proteomics_for_magine.csv.gz')"
   ],
   "metadata": {
    "collapsed": false
   },
   "id": "49b045003534a349",
   "execution_count": null
  }
 ],
 "metadata": {
  "kernelspec": {
   "display_name": "Python 3",
   "language": "python",
   "name": "python3"
  },
  "language_info": {
   "codemirror_mode": {
    "name": "ipython",
    "version": 2
   },
   "file_extension": ".py",
   "mimetype": "text/x-python",
   "name": "python",
   "nbconvert_exporter": "python",
   "pygments_lexer": "ipython2",
   "version": "2.7.6"
  }
 },
 "nbformat": 4,
 "nbformat_minor": 5
}
