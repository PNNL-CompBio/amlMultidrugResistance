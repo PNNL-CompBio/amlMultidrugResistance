{
 "cells": [
  {
   "cell_type": "code",
   "outputs": [],
   "source": [
    "from pysb.simulator import OpenCLSSASimulator\n",
    "import numpy as np\n",
    "import matplotlib.pyplot as plt\n",
    "import os\n",
    "os.environ['PYOPENCL_CTX'] = '0'"
   ],
   "metadata": {
    "collapsed": false,
    "pycharm": {
     "name": "#%%\n"
    }
   },
   "execution_count": null
  },
  {
   "cell_type": "code",
   "execution_count": null,
   "outputs": [],
   "source": [
    "from  three_state import model"
   ],
   "metadata": {
    "collapsed": false,
    "pycharm": {
     "name": "#%%\n"
    }
   }
  },
  {
   "cell_type": "code",
   "execution_count": null,
   "outputs": [],
   "source": [],
   "metadata": {
    "collapsed": false
   }
  },
  {
   "cell_type": "code",
   "execution_count": null,
   "outputs": [],
   "source": [
    "tspan = np.linspace(0, 100, 101)\n",
    "\n",
    "sim = OpenCLSSASimulator(model, tspan=tspan)\n",
    "simres = sim.run(number_sim=100)\n",
    "x = simres.dataframe\n",
    "df = x.unstack(level=0)"
   ],
   "metadata": {
    "collapsed": false
   }
  },
  {
   "cell_type": "code",
   "execution_count": null,
   "outputs": [],
   "source": [
    "# plt.figure()\n",
    "fig = plt.figure(figsize=(12,4))\n",
    "plt.subplot(1,2,1)\n",
    "plt.plot(tspan, df['S_tot'], lw=1, color='b')\n",
    "plt.plot(tspan, df['ER_tot'], lw=1, color='g')\n",
    "plt.plot(tspan, df['LR_tot'], lw=1, color='r')\n",
    "\n",
    "plt.plot(tspan, df['S_tot'][0], lw=1, color='b', label='S')\n",
    "plt.plot(tspan, df['ER_tot'][0], lw=1, color='g', label='ER')\n",
    "plt.plot(tspan, df['LR_tot'][0], lw=1, color='r', label='LR')\n",
    "\n",
    "\n",
    "plt.xlabel('time (d)', fontsize=16)\n",
    "plt.ylabel('cell count', fontsize=16)\n",
    "plt.xticks(fontsize=14)\n",
    "plt.yticks(fontsize=14)\n",
    "plt.ticklabel_format(style='sci', axis='y', scilimits=(0,0))\n",
    "plt.yscale('log')\n",
    "plt.legend(loc=0)\n",
    "\n",
    "plt.subplot(1,2,2)\n",
    "\n",
    "plt.plot(tspan, df['S_tot'], lw=1, color='b')\n",
    "plt.plot(tspan, df['ER_tot'], lw=1, color='g')\n",
    "plt.plot(tspan, df['LR_tot'], lw=1, color='r')\n",
    "\n",
    "plt.plot(tspan, df['S_tot'][0], lw=1, color='b', label='S')\n",
    "plt.plot(tspan, df['ER_tot'][0], lw=1, color='g', label='ER')\n",
    "plt.plot(tspan, df['LR_tot'][0], lw=1, color='r', label='LR')\n",
    "\n",
    "\n",
    "plt.xlabel('time (d)', fontsize=16)\n",
    "plt.ylabel('cell count', fontsize=16)\n",
    "plt.xticks(fontsize=14)\n",
    "plt.yticks(fontsize=14)\n",
    "# plt.ticklabel_format(style='sci', axis='y', scilimits=(0,0))\n",
    "# plt.yscale('log')\n",
    "plt.legend(loc=0)\n",
    "# plt.tight_layout()\n",
    "plt.savefig(\"three_state.pdf\", dpi=300, bbox_inches='tight')\n",
    "plt.savefig(\"three_state.png\", dpi=300, bbox_inches='tight')"
   ],
   "metadata": {
    "collapsed": false
   }
  },
  {
   "cell_type": "code",
   "outputs": [],
   "source": [
    "# total = ['S_tot', 'ER_tot', 'LR_tot']\n",
    "\n",
    "plt.plot(tspan, df['Tot_cells'], lw=1, color='b');\n",
    "# plt.semilogy()"
   ],
   "metadata": {
    "collapsed": false,
    "pycharm": {
     "name": "#%%\n"
    }
   },
   "execution_count": null
  },
  {
   "cell_type": "code",
   "execution_count": null,
   "outputs": [],
   "source": [],
   "metadata": {
    "collapsed": false,
    "pycharm": {
     "name": "#%%\n"
    }
   }
  }
 ],
 "metadata": {
  "kernelspec": {
   "display_name": "Python 3",
   "language": "python",
   "name": "python3"
  },
  "language_info": {
   "codemirror_mode": {
    "name": "ipython",
    "version": 2
   },
   "file_extension": ".py",
   "mimetype": "text/x-python",
   "name": "python",
   "nbconvert_exporter": "python",
   "pygments_lexer": "ipython2",
   "version": "2.7.6"
  }
 },
 "nbformat": 4,
 "nbformat_minor": 0
}
