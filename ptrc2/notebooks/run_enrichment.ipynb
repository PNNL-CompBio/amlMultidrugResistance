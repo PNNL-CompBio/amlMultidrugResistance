{
 "cells": [
  {
   "cell_type": "code",
   "execution_count": null,
   "id": "229b30232d7c70df",
   "metadata": {
    "collapsed": false
   },
   "outputs": [],
   "source": [
    "from magine.data.experimental_data import ExperimentalData"
   ]
  },
  {
   "cell_type": "code",
   "outputs": [],
   "source": [
    "import seaborn as sns\n",
    "import matplotlib.pyplot as plt\n",
    "import matplotlib\n",
    "matplotlib.rcParams['pdf.fonttype'] = 42\n",
    "matplotlib.rcParams['font.family'] = ['arial']\n",
    "\n",
    "\n",
    "sns.set_theme(\n",
    "    context ='paper',\n",
    "    palette=\"Paired\", \n",
    "    style='white',\n",
    "    font='arial',\n",
    "    # font_scale=1.0\n",
    ")"
   ],
   "metadata": {
    "collapsed": false
   },
   "id": "91bc592c01a383df",
   "execution_count": null
  },
  {
   "cell_type": "code",
   "outputs": [],
   "source": [
    "exp_data = ExperimentalData('../data/global_proteomics_for_magine.csv.gz')\n",
    "both_exp_data = ExperimentalData('../data/both_proteomics_for_magine.csv.gz')"
   ],
   "metadata": {
    "collapsed": true
   },
   "id": "initial_id",
   "execution_count": null
  },
  {
   "cell_type": "code",
   "outputs": [],
   "source": [
    "# for DMEA\n",
    "exp_data['D_only'][['identifier', 'fold_change']].sort_values('fold_change', ascending=False).to_csv('dec_ranked.csv', index=False)"
   ],
   "metadata": {
    "collapsed": false
   },
   "id": "84cad7a206979d4b",
   "execution_count": null
  },
  {
   "cell_type": "code",
   "outputs": [],
   "source": [
    "from magine.enrichment.enrichr import Enrichr\n",
    "e = Enrichr()"
   ],
   "metadata": {
    "collapsed": false
   },
   "id": "2feae9686791053",
   "execution_count": null
  },
  {
   "cell_type": "code",
   "outputs": [],
   "source": [
    "# runs enrichment and saves results\n",
    "\n",
    "libs =[\n",
    "    'Reactome_2022',\n",
    "    'GO_Biological_Process_2023',\n",
    "    \n",
    "    'HuBMAP_ASCTplusB_augmented_2022',\n",
    "    'CellMarker_2024',\n",
    "    'Azimuth_2023',\n",
    "    'Human_Gene_Atlas',\n",
    "    \n",
    "    'dbGaP',\n",
    "    \n",
    "    'ChEA_2022',\n",
    "    'TRRUST_Transcription_Factors_2019',\n",
    "    'ENCODE_and_ChEA_Consensus_TFs_from_ChIP-X',\n",
    "    \n",
    "    'The_Kinase_Library_2023',\n",
    "    \n",
    "]\n",
    "enr_results_up = e.run_samples(\n",
    "    exp_data.species.sig.up_by_sample,\n",
    "    sample_ids=exp_data.species.sample_ids,\n",
    "    gene_set_lib=libs,\n",
    ")\n",
    "enr_results_up['direction'] ='up'\n",
    "enr_results_up.to_csv('../Data/ora_results_up.csv')\n",
    "\n",
    "enr_results_down = e.run_samples(\n",
    "    exp_data.species.sig.down_by_sample,\n",
    "    sample_ids=exp_data.species.sample_ids,\n",
    "    gene_set_lib=libs,\n",
    ")\n",
    "enr_results_down['direction'] ='down'\n",
    "enr_results_down.to_csv('../Data/ora_results_down.csv')\n",
    "\n",
    "\n",
    "enr_results_both = e.run_samples(\n",
    "    exp_data.species.sig.by_sample,\n",
    "    sample_ids=exp_data.species.sample_ids,\n",
    "    gene_set_lib=libs,\n",
    ")\n",
    "enr_results_down['direction'] ='both'\n",
    "enr_results_down.to_csv('../Data/ora_results_both.csv')\n"
   ],
   "metadata": {
    "collapsed": false
   },
   "id": "3a4461aab1691c4d",
   "execution_count": null
  }
 ],
 "metadata": {
  "kernelspec": {
   "display_name": "Python 3",
   "language": "python",
   "name": "python3"
  },
  "language_info": {
   "codemirror_mode": {
    "name": "ipython",
    "version": 2
   },
   "file_extension": ".py",
   "mimetype": "text/x-python",
   "name": "python",
   "nbconvert_exporter": "python",
   "pygments_lexer": "ipython2",
   "version": "2.7.6"
  }
 },
 "nbformat": 4,
 "nbformat_minor": 5
}
