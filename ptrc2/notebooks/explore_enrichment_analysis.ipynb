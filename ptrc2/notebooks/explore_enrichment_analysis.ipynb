{
 "cells": [
  {
   "cell_type": "code",
   "execution_count": null,
   "id": "229b30232d7c70df",
   "metadata": {
    "collapsed": false
   },
   "outputs": [],
   "source": [
    "import pandas as pd\n",
    "\n",
    "from magine.enrichment.enrichment_result import EnrichmentResult\n",
    "from magine.data.experimental_data import ExperimentalData"
   ]
  },
  {
   "cell_type": "code",
   "outputs": [],
   "source": [
    "import pandas as pd"
   ],
   "metadata": {
    "collapsed": false
   },
   "id": "338417ae54b20d86",
   "execution_count": null
  },
  {
   "cell_type": "code",
   "outputs": [],
   "source": [
    "import seaborn as sns\n",
    "import matplotlib.pyplot as plt\n",
    "import matplotlib\n",
    "matplotlib.rcParams['pdf.fonttype'] = 42\n",
    "matplotlib.rcParams['font.family'] = ['arial']\n",
    "# matplotlib.rcParams['font.size'] = 6\n",
    "\n",
    "sns.set_theme(\n",
    "    context ='paper',\n",
    "    palette=\"Paired\", \n",
    "    style='white',\n",
    "    font='arial',\n",
    "    # font_scale=1.0\n",
    ")"
   ],
   "metadata": {
    "collapsed": false
   },
   "id": "91bc592c01a383df",
   "execution_count": null
  },
  {
   "cell_type": "code",
   "outputs": [],
   "source": [
    "exp_data = ExperimentalData('../data/global_proteomics_for_magine.csv.gz')\n",
    "both_exp_data = ExperimentalData('../data/both_proteomics_for_magine.csv.gz')"
   ],
   "metadata": {
    "collapsed": true
   },
   "id": "initial_id",
   "execution_count": null
  },
  {
   "cell_type": "code",
   "outputs": [],
   "source": [
    "from magine.enrichment.enrichment_result import load_enrichment_csv"
   ],
   "metadata": {
    "collapsed": false
   },
   "id": "ea01c3b85be1c5c8",
   "execution_count": null
  },
  {
   "cell_type": "code",
   "outputs": [],
   "source": [
    "enr_results_down = load_enrichment_csv('../Data/ora_results_down.csv')\n",
    "enr_results_up = load_enrichment_csv('../Data/ora_results_up.csv')\n",
    "enr_results_both = load_enrichment_csv('../Data/ora_results_both.csv')"
   ],
   "metadata": {
    "collapsed": false
   },
   "id": "f088447162c5e43d",
   "execution_count": null
  },
  {
   "cell_type": "code",
   "outputs": [],
   "source": [
    "def mod_df(df):\n",
    "    df['stage'] = df.sample_id.str.split('_').str.get(1)\n",
    "    df['drug'] = df.sample_id.str.split('_').str.get(0)\n",
    "    df.loc[df.stage=='only', 'stage'] = 'Dec only'\n",
    "    df.loc[df.drug=='D', 'drug'] = '0D'\n",
    "    df.loc[df.drug=='GD', 'drug'] = '1GD'\n",
    "    df.loc[df.drug=='GVD', 'drug'] = '2GVD'\n",
    "    df.loc[df.drug=='GV', 'drug'] = '3GV'\n",
    "    df.loc[df.drug=='G', 'drug'] = '4G'\n",
    "mod_df(enr_results_down)\n",
    "mod_df(enr_results_up)\n",
    "mod_df(enr_results_both)"
   ],
   "metadata": {
    "collapsed": false
   },
   "id": "2171a0f5e168eeae",
   "execution_count": null
  },
  {
   "cell_type": "code",
   "outputs": [],
   "source": [
    "# make plotting easier for ranking    \n",
    "exp = exp_data.species\n",
    "mod_df(exp)\n",
    "exp_both = both_exp_data.species\n",
    "mod_df(exp_both)"
   ],
   "metadata": {
    "collapsed": false
   },
   "id": "167829df3a089a7b",
   "execution_count": null
  },
  {
   "cell_type": "code",
   "outputs": [],
   "source": [
    "reactome_results = enr_results_up.filter_multi(db='Reactome_2022')\n",
    "reactome_results['term_name'] = reactome_results.term_name.str.split(' r-hsa').str.get(0)"
   ],
   "metadata": {
    "collapsed": false
   },
   "id": "345011deacae54b",
   "execution_count": null
  },
  {
   "cell_type": "code",
   "outputs": [],
   "source": [
    "reactome_results"
   ],
   "metadata": {
    "collapsed": false
   },
   "id": "76b1309576368a3b",
   "execution_count": null
  },
  {
   "cell_type": "code",
   "outputs": [],
   "source": [
    "reactome_results.remove_redundant(level='dataframe'\n",
    ").heatmap(\n",
    "    figsize=(10, 10),\n",
    "    cluster_row=False,\n",
    "    columns=['drug', 'stage'],\n",
    "    y_tick_labels=True,\n",
    "    linewidths=0.01\n",
    ");\n",
    "plt.savefig('reactome_changes_heatmap.png', dpi=300, bbox_inches='tight')"
   ],
   "metadata": {
    "collapsed": false
   },
   "id": "3f193bd0fa6bd975",
   "execution_count": null
  },
  {
   "cell_type": "code",
   "outputs": [],
   "source": [
    "cellmarker_results_dn =  enr_results_down.filter_multi(db='CellMarker_2024')\n",
    "cellmarker_results_dn = cellmarker_results_dn.loc[(cellmarker_results_dn.term_name.str.contains('bone') | \n",
    "                                                  cellmarker_results_dn.term_name.str.contains('blood'))&\n",
    "                                                  cellmarker_results_dn.term_name.str.contains('human')\n",
    "]\n",
    "\n",
    "cellmarker_results_up = enr_results_up.filter_multi(db='CellMarker_2024')\n",
    "cellmarker_results_up = cellmarker_results_up.loc[(cellmarker_results_up.term_name.str.contains('bone') | \n",
    "                                                  cellmarker_results_up.term_name.str.contains('blood')) &\n",
    "                                                  cellmarker_results_up.term_name.str.contains('human')]"
   ],
   "metadata": {
    "collapsed": false
   },
   "id": "aca9619b386310d8",
   "execution_count": null
  },
  {
   "cell_type": "code",
   "outputs": [],
   "source": [
    "hubmap_results_dn =  enr_results_down.filter_multi(db='HuBMAP_ASCTplusB_augmented_2022')\n",
    "hubmap_results_dn = hubmap_results_dn.loc[(hubmap_results_dn.term_name.str.contains('bone') | \n",
    "                                           hubmap_results_dn.term_name.str.contains('blood'))\n",
    "]\n",
    "\n",
    "hubmap_results_up = enr_results_up.filter_multi(db='HuBMAP_ASCTplusB_augmented_2022')\n",
    "hubmap_results_up = hubmap_results_up.loc[(hubmap_results_up.term_name.str.contains('bone') |\n",
    "                                           hubmap_results_up.term_name.str.contains('blood'))\n",
    "]\n",
    "hubmap_results_up"
   ],
   "metadata": {
    "collapsed": false
   },
   "id": "6a7066d5568da6ae",
   "execution_count": null
  },
  {
   "cell_type": "code",
   "outputs": [],
   "source": [
    "def gather_susbets(samples, df, savename='test', min_sig=1, figsize=(10, 8)):\n",
    "    \n",
    "    desired_samples = df.sig.copy()\n",
    "    desired_samples = desired_samples.loc[desired_samples.sample_id.isin(samples)]\n",
    "    desired_samples = set(desired_samples.term_name)\n",
    "    \n",
    "    other_samples = df.sig.copy()\n",
    "    other_samples = other_samples.loc[~(other_samples.sample_id.isin(samples))]\n",
    "    \n",
    "    other_samples = set(other_samples.sig.term_name)\n",
    "    interesting_terms = list(desired_samples.difference(other_samples))\n",
    "                             \n",
    "    subset = df.filter_rows('term_name', interesting_terms)\n",
    "    if len(subset) == 0:\n",
    "        print('No terms found')\n",
    "        return\n",
    "    # min_sig = 2 if len(samples) > 3 else 1\n",
    "    subset.require_n_sig(n_sig=min_sig, index='term_name').remove_redundant(\n",
    "        level='dataframe').heatmap(\n",
    "        figsize=figsize,\n",
    "        cluster_row=True,\n",
    "        columns=['drug', 'stage'],\n",
    "        # cluster_by_set=True,\n",
    "        # min_sig=min_sig,\n",
    "        y_tick_labels=True,\n",
    "        linewidths=0.01\n",
    "    );\n",
    "    plt.savefig(f\"heatmap_{savename}.png\", dpi=300, bbox_inches='tight')\n",
    "    plt.savefig(f\"heatmap_{savename}.pdf\", dpi=300, bbox_inches='tight')\n",
    "\n",
    "def plot_gene_list(gs, figsize=(8,8), savename='tmp', index='identifier'):\n",
    "    \n",
    "    exp.subset(gs, index=index).require_n_sig(n_sig=1, index='label').heatmap(\n",
    "        columns=['drug', 'stage'],\n",
    "        index='label',\n",
    "        figsize=figsize,\n",
    "        cluster_col=False,\n",
    "        cluster_row=True,\n",
    "        cluster_by_set=False,\n",
    "        linewidths=0.01,\n",
    "        y_tick_labels=True\n",
    "    );\n",
    "    # plt.suptitle(term)\n",
    "    plt.savefig(f\"{savename}_only_signals.png\".replace(' ', '_').replace('/', '_'), dpi=200, bbox_inches='tight')\n",
    "    plt.savefig(f\"{savename}_only_signals.pdf\".replace(' ', '_').replace('/', '_'), dpi=200, bbox_inches='tight')\n",
    "\n",
    "def plot_subset(enrichment, term, figsize=(5,5), prefix='', y_tick_labels=True):\n",
    "    gs = enrichment.term_to_genes(term)\n",
    "    exp.subset(gs).require_n_sig(n_sig=1, index='label').heatmap(\n",
    "        columns=['drug', 'stage'],\n",
    "        index='label',\n",
    "        figsize=figsize,\n",
    "        cluster_col=False,\n",
    "        cluster_row=True,\n",
    "        cluster_by_set=False,\n",
    "        linewidths=0.01,\n",
    "        y_tick_labels=y_tick_labels\n",
    "    );\n",
    "    # plt.suptitle(term)\n",
    "    plt.savefig(f\"{term}_only_signals_{prefix}.png\".replace(' ', '_').replace('/', '_'), dpi=200, bbox_inches='tight')\n",
    "    plt.savefig(f\"{term}_only_signals_{prefix}.pdf\".replace(' ', '_').replace('/', '_'), dpi=200, bbox_inches='tight')\n",
    "    "
   ],
   "metadata": {
    "collapsed": false
   },
   "id": "c7ba2a6626c5ec90",
   "execution_count": null
  },
  {
   "cell_type": "code",
   "outputs": [],
   "source": [
    "no_dec_list = ['G_Early', 'G_Late', 'GV_Early', 'GV_Late']\n",
    "venetoclax_list = ['GVD_Early', 'GVD_Late', 'GV_Early', 'GV_Late']\n",
    "dec_list = ['D_only', 'GD_Early', 'GD_Late', 'GVD_Early', 'GVD_Late']\n",
    "all_samples = set(enr_results_up.sample_id.unique())"
   ],
   "metadata": {
    "collapsed": false
   },
   "id": "8f7bf5d0ae17857b",
   "execution_count": null
  },
  {
   "cell_type": "code",
   "outputs": [],
   "source": [
    "gather_susbets(dec_list, cellmarker_results_up, min_sig=2, figsize=(6,6), savename='cellmarker_decitabine_any_up')"
   ],
   "metadata": {
    "collapsed": false
   },
   "id": "d0296b464e403c00",
   "execution_count": null
  },
  {
   "cell_type": "code",
   "outputs": [],
   "source": [
    "cellmarker_results_up.term_name.unique()"
   ],
   "metadata": {
    "collapsed": false
   },
   "id": "4fa40ab0ca8644dd",
   "execution_count": null
  },
  {
   "cell_type": "code",
   "outputs": [],
   "source": [
    "plot_subset(cellmarker_results_up, 'neutrophil blood human')"
   ],
   "metadata": {
    "collapsed": false
   },
   "id": "c547801ab720b0c2",
   "execution_count": null
  },
  {
   "cell_type": "code",
   "outputs": [],
   "source": [
    "\n",
    "plot_subset(cellmarker_results_up, 'hematopoietic stem cell bone marrow human')"
   ],
   "metadata": {
    "collapsed": false
   },
   "id": "687aec2909d2aa66",
   "execution_count": null
  },
  {
   "cell_type": "code",
   "outputs": [],
   "source": [
    "gather_susbets(venetoclax_list, reactome_results, min_sig=1, figsize=(4,4), savename='reatome_vent_list')"
   ],
   "metadata": {
    "collapsed": false
   },
   "id": "35e7a3333a7d7500",
   "execution_count": null
  },
  {
   "cell_type": "code",
   "outputs": [],
   "source": [
    "gather_susbets(dec_list, hubmap_results_up, min_sig=2, figsize=(6,6), savename='hubmap_up')"
   ],
   "metadata": {
    "collapsed": false
   },
   "id": "a260d840e9609b5d",
   "execution_count": null
  },
  {
   "cell_type": "code",
   "outputs": [],
   "source": [
    "hubmap_results_up.require_n_sig(n_sig=2, index='term_name').remove_redundant(threshold=.5, level='dataframe').heatmap(\n",
    "    figsize=(6, 6),\n",
    "    cluster_row=False,\n",
    "    columns=['drug', 'stage'],\n",
    "    y_tick_labels=True,\n",
    "    linewidths=0.01\n",
    ");\n",
    "plt.savefig('hubmap_up.png', dpi=300, bbox_inches='tight')\n",
    "plt.savefig('hubmap_up.pdf', dpi=300, bbox_inches='tight')"
   ],
   "metadata": {
    "collapsed": false
   },
   "id": "78997f8e1de817c4",
   "execution_count": null
  },
  {
   "cell_type": "code",
   "outputs": [],
   "source": [
    "hubmap_results_dn.require_n_sig(n_sig=1, index='term_name').remove_redundant().heatmap(\n",
    "    figsize=(10, 10),\n",
    "    cluster_row=True,\n",
    "    columns=['drug', 'stage'],\n",
    "    y_tick_labels=True,\n",
    "    linewidths=0.01\n",
    ");"
   ],
   "metadata": {
    "collapsed": false
   },
   "id": "9a956baeb91144d2",
   "execution_count": null
  },
  {
   "cell_type": "code",
   "outputs": [],
   "source": [
    "plot_subset(hubmap_results_up, 'promonocyte - bone marrow', prefix='up')\n",
    "plot_subset(hubmap_results_up, 'cd14-positive monocyte - bone marrow', prefix='up')"
   ],
   "metadata": {
    "collapsed": false
   },
   "id": "6c86a93595e08b59",
   "execution_count": null
  },
  {
   "cell_type": "code",
   "outputs": [],
   "source": [
    "term = 'megakaryocyte-erythroid progenitor cell - bone marrow'\n",
    "megakaryocyte = hubmap_results_up.term_to_genes(term)\n",
    "megakaryocyte.update(hubmap_results_dn.term_to_genes(term))\n",
    "plot_gene_list(megakaryocyte, figsize=(4, 6), savename='megakaryocyte_erythroid_progenitor_cell')"
   ],
   "metadata": {
    "collapsed": false
   },
   "id": "d464b3427bb560e3",
   "execution_count": null
  },
  {
   "cell_type": "code",
   "outputs": [],
   "source": [
    "term = 'promonocyte - bone marrow'\n",
    "pro_mon = hubmap_results_up.term_to_genes(term)\n",
    "pro_mon.update(hubmap_results_dn.term_to_genes(term))\n",
    "plot_gene_list(pro_mon, figsize=(6, 8), savename='promonocyte')"
   ],
   "metadata": {
    "collapsed": false
   },
   "id": "beb36d42523da0ef",
   "execution_count": null
  },
  {
   "cell_type": "code",
   "outputs": [],
   "source": [
    "term = 'cd14-positive monocyte - bone marrow'\n",
    "cd14_pos = hubmap_results_up.term_to_genes(term)\n",
    "cd14_pos.union(hubmap_results_dn.term_to_genes(term))\n",
    "plot_gene_list(cd14_pos, figsize=(4, 10), savename='cd14_positive')"
   ],
   "metadata": {
    "collapsed": false
   },
   "id": "40ce83d94304423e",
   "execution_count": null
  },
  {
   "cell_type": "code",
   "outputs": [],
   "source": [
    "plot_subset(hubmap_results_dn, 'promonocyte - bone marrow')\n",
    "plot_subset(hubmap_results_dn, 'cd14-positive monocyte - bone marrow')"
   ],
   "metadata": {
    "collapsed": false
   },
   "id": "8b6c45a0923bc2f0",
   "execution_count": null
  },
  {
   "cell_type": "code",
   "outputs": [],
   "source": [
    "plot_subset(hubmap_results_dn, 'promonocyte - bone marrow')"
   ],
   "metadata": {
    "collapsed": false
   },
   "id": "e35644449f23a9b6",
   "execution_count": null
  },
  {
   "cell_type": "code",
   "outputs": [],
   "source": [
    "plot_subset(hubmap_results_dn, 'cd14-low, cd16-positive monocyte - bone marrow')"
   ],
   "metadata": {
    "collapsed": false
   },
   "id": "165ec8201bdeaed2",
   "execution_count": null
  },
  {
   "cell_type": "code",
   "outputs": [],
   "source": [
    "\n",
    "gather_susbets(\n",
    "    dec_list,\n",
    "    df=reactome_results,\n",
    "    savename='reactome_decitabine_any',\n",
    "    min_sig=2,\n",
    "    figsize=(16, 12)\n",
    ")"
   ],
   "metadata": {
    "collapsed": false
   },
   "id": "693ee99848a4f1bf",
   "execution_count": null
  },
  {
   "cell_type": "code",
   "outputs": [],
   "source": [
    "\n",
    "gather_susbets(\n",
    "    no_dec_list,\n",
    "    df=reactome_results,\n",
    "    savename='reactome_no_decitabine',\n",
    "    min_sig=1,\n",
    "    figsize=(8, 4)\n",
    ")"
   ],
   "metadata": {
    "collapsed": false
   },
   "id": "57aa81387358fa0d",
   "execution_count": null
  },
  {
   "cell_type": "code",
   "outputs": [],
   "source": [
    "gather_susbets(\n",
    "    venetoclax_list, \n",
    "    cellmarker_results_up, \n",
    "    min_sig=1, figsize=(8, 8),\n",
    "    savename='cellmarker_ventoclax_any',\n",
    ")"
   ],
   "metadata": {
    "collapsed": false
   },
   "id": "395ed958c11a8d44",
   "execution_count": null
  },
  {
   "cell_type": "code",
   "outputs": [],
   "source": [
    "\n",
    "gather_susbets(\n",
    "    dec_list,\n",
    "    df=cellmarker_results_up,\n",
    "     figsize=(14, 8),\n",
    "    savename='cellmarker_decitabine_any',\n",
    "    min_sig=2,\n",
    ")\n",
    "gather_susbets(\n",
    "    dec_list,\n",
    "    df=cellmarker_results_dn,\n",
    "     figsize=(18, 8),\n",
    "    savename='cellmarker_decitabine_dn',\n",
    "    min_sig=1,\n",
    ")"
   ],
   "metadata": {
    "collapsed": false
   },
   "id": "94d7ecde41ed6423",
   "execution_count": null
  },
  {
   "cell_type": "code",
   "outputs": [],
   "source": [
    "gather_susbets(\n",
    "    ['D_only',],# 'GD_Early', 'GD_Late', 'GVD_Early', 'GVD_Late'],\n",
    "    df=enr_results_down,\n",
    "    # savename='cellmarker_decitabine_any',\n",
    "    min_sig=1,\n",
    "    figsize=(16,16)\n",
    ")"
   ],
   "metadata": {
    "collapsed": false
   },
   "id": "b22034e721faa918",
   "execution_count": null
  },
  {
   "cell_type": "code",
   "outputs": [],
   "source": [
    "\n",
    "chea = enr_results_up.filter_multi(db='ChEA_2022').filter_based_on_words('human')\n",
    "chea['term_name'] = chea.term_name.str.split(' ').str.get(0)"
   ],
   "metadata": {
    "collapsed": false
   },
   "id": "24e4841bbbada4c1",
   "execution_count": null
  },
  {
   "cell_type": "code",
   "outputs": [],
   "source": [
    "chea.sig"
   ],
   "metadata": {
    "collapsed": false
   },
   "id": "ac05f98a67c34c56",
   "execution_count": null
  },
  {
   "cell_type": "code",
   "outputs": [],
   "source": [
    "\n",
    "gather_susbets(\n",
    "    dec_list,\n",
    "    df=chea,\n",
    "    savename='chea_both',\n",
    "    min_sig=1,\n",
    "    figsize=(5,10)\n",
    ")"
   ],
   "metadata": {
    "collapsed": false
   },
   "id": "cf265ef9c2e7a66e",
   "execution_count": null
  },
  {
   "cell_type": "code",
   "outputs": [],
   "source": [
    "\n",
    "trrust_up = enr_results_up.filter_multi(db='TRRUST_Transcription_Factors_2019').filter_based_on_words('human')\n",
    "trrust_dn = enr_results_down.filter_multi(db='TRRUST_Transcription_Factors_2019').filter_based_on_words('human')\n",
    "\n",
    "gather_susbets(\n",
    "    dec_list,\n",
    "    df=trrust_up,\n",
    "    savename='tf_up_decitabine_any',\n",
    "    min_sig=1,\n",
    "    figsize=(4,8)\n",
    ")\n",
    "\n",
    "gather_susbets(\n",
    "    dec_list,\n",
    "    df=trrust_dn,\n",
    "    savename='tf_dn_decitabine_any',\n",
    "    min_sig=1,\n",
    "    figsize=(3,6)\n",
    ")\n"
   ],
   "metadata": {
    "collapsed": false
   },
   "id": "524dd435411adebd",
   "execution_count": null
  },
  {
   "cell_type": "code",
   "outputs": [],
   "source": [
    "plot_subset(trrust_dn, 'men1 human')"
   ],
   "metadata": {
    "collapsed": false
   },
   "id": "f10fc16c80e8d84",
   "execution_count": null
  },
  {
   "cell_type": "code",
   "outputs": [],
   "source": [
    "plot_subset(trrust_up, 'cebpa human')"
   ],
   "metadata": {
    "collapsed": false
   },
   "id": "648ccad42cf561a0",
   "execution_count": null
  },
  {
   "cell_type": "code",
   "outputs": [],
   "source": [
    "plot_subset(trrust_dn, 'stat3 human')"
   ],
   "metadata": {
    "collapsed": false
   },
   "id": "95d3e25948d18c9d",
   "execution_count": null
  },
  {
   "cell_type": "code",
   "outputs": [],
   "source": [
    "plot_subset(trrust_up, 'cebpa human')"
   ],
   "metadata": {
    "collapsed": false
   },
   "id": "7355606bae6e03c7",
   "execution_count": null
  },
  {
   "cell_type": "code",
   "outputs": [],
   "source": [
    "plot_subset(trrust_up, 'runx1 human')"
   ],
   "metadata": {
    "collapsed": false
   },
   "id": "ba0f27a8e14f88b7",
   "execution_count": null
  },
  {
   "cell_type": "code",
   "outputs": [],
   "source": [
    "plot_subset(trrust_up, 'hivep2 human')"
   ],
   "metadata": {
    "collapsed": false
   },
   "id": "e5b506b6e520a18b",
   "execution_count": null
  },
  {
   "cell_type": "code",
   "outputs": [],
   "source": [
    "encode_up = enr_results_up.filter_multi(db='ENCODE_and_ChEA_Consensus_TFs_from_ChIP-X')\n",
    "encode_dn = enr_results_down.filter_multi(db='ENCODE_and_ChEA_Consensus_TFs_from_ChIP-X')\n",
    "encode_both = enr_results_both.filter_multi(db='ENCODE_and_ChEA_Consensus_TFs_from_ChIP-X')\n",
    "encode = EnrichmentResult(pd.concat([encode_up, encode_dn]))"
   ],
   "metadata": {
    "collapsed": false
   },
   "id": "ae502243d2d264d6",
   "execution_count": null
  },
  {
   "cell_type": "code",
   "outputs": [],
   "source": [
    "gather_susbets(\n",
    "    dec_list,\n",
    "    df=encode_both,\n",
    "    savename='tf_encode_decitabine_any',\n",
    "    min_sig=1,\n",
    "    figsize=(4,8)\n",
    ")"
   ],
   "metadata": {
    "collapsed": false
   },
   "id": "3d2511a517bb8d3f",
   "execution_count": null
  },
  {
   "cell_type": "code",
   "outputs": [],
   "source": [
    "gather_susbets(\n",
    "    dec_list,\n",
    "    df=encode_up,\n",
    "    savename='tf_encode_decitabine_up',\n",
    "    min_sig=3,\n",
    "    figsize=(4,5)\n",
    ")"
   ],
   "metadata": {
    "collapsed": false
   },
   "id": "87f15bfdf929cfd5",
   "execution_count": null
  },
  {
   "cell_type": "code",
   "outputs": [],
   "source": [
    "encode_dn.sort_values('z_score', ascending=True)"
   ],
   "metadata": {
    "collapsed": false
   },
   "id": "2144dd8b5ff6bbee",
   "execution_count": null
  },
  {
   "cell_type": "code",
   "outputs": [],
   "source": [
    "gather_susbets(\n",
    "    dec_list,\n",
    "    df=encode_dn,\n",
    "    savename='tf_encode_decitabine_dn',\n",
    "    min_sig=1,\n",
    "    figsize=(4,8)\n",
    ")"
   ],
   "metadata": {
    "collapsed": false
   },
   "id": "f44bc99837d3c4e4",
   "execution_count": null
  },
  {
   "cell_type": "code",
   "outputs": [],
   "source": [
    "sig_tfs = encode_dn.sig.term_name.str.upper().str.split(' ').str.get(0).to_list()\n",
    "sig_tfs += set(encode_up.sig.term_name.str.upper().str.split(' ').str.get(0).to_list())\n",
    "# sig_tfs += set(encode_both.sig.term_name.str.upper().str.split(' ').str.get(0).to_list())"
   ],
   "metadata": {
    "collapsed": false
   },
   "id": "9e9d8b659e445fcd",
   "execution_count": null
  },
  {
   "cell_type": "code",
   "outputs": [],
   "source": [
    "sig_tfs = set(sorted(sig_tfs))\n",
    "sig_tfs"
   ],
   "metadata": {
    "collapsed": false
   },
   "id": "df8dc5cfc0f5d305",
   "execution_count": null
  },
  {
   "cell_type": "code",
   "outputs": [],
   "source": [
    "# plot_gene_list(sig_tfs, figsize=(6, 4), savename='chea_tfs')\n",
    "\n",
    "exp.subset(sig_tfs, index='identifier').require_n_sig(n_sig=1, index='label').heatmap(\n",
    "        columns=['drug', 'stage'],\n",
    "        index='label',\n",
    "        figsize=(3,4),\n",
    "        cluster_col=False,\n",
    "        cluster_row=True,\n",
    "        cluster_by_set=False,\n",
    "        linewidths=0.01,\n",
    "        y_tick_labels=True\n",
    "    );\n",
    "plt.savefig(\"transciption_factors.png\", dpi=300, bbox_inches='tight')\n",
    "plt.savefig(\"transciption_factors.pdf\", dpi=300, bbox_inches='tight')"
   ],
   "metadata": {
    "collapsed": false
   },
   "id": "b304c15d76a9a8f3",
   "execution_count": null
  },
  {
   "cell_type": "code",
   "outputs": [],
   "source": [
    "term = 'gata2 chea'\n",
    "plot_subset(encode, term, figsize=(4, 10), y_tick_labels=False)"
   ],
   "metadata": {
    "collapsed": false
   },
   "id": "afff040e2c15f471",
   "execution_count": null
  },
  {
   "cell_type": "code",
   "outputs": [],
   "source": [
    "term = 'spi1 chea'\n",
    "plot_subset(encode, term, figsize=(6, 8), y_tick_labels=False)"
   ],
   "metadata": {
    "collapsed": false
   },
   "id": "15d8f698497986d",
   "execution_count": null
  },
  {
   "cell_type": "code",
   "outputs": [],
   "source": [
    "term = 'myc chea'\n",
    "plot_subset(encode, term, figsize=(4, 6), y_tick_labels=False)"
   ],
   "metadata": {
    "collapsed": false
   },
   "id": "b715517fe53fa2ee",
   "execution_count": null
  },
  {
   "cell_type": "code",
   "outputs": [],
   "source": [
    "term = 'stat3 encode'\n",
    "plot_subset(encode, term, figsize=(6, 8))"
   ],
   "metadata": {
    "collapsed": false
   },
   "id": "9de9661a008c3956",
   "execution_count": null
  },
  {
   "cell_type": "code",
   "outputs": [],
   "source": [
    "\n",
    "gather_susbets(\n",
    "    dec_list,\n",
    "    df=encode_up,\n",
    "    # savename='cellmarker_decitabine_any',\n",
    "    min_sig=2,\n",
    "    figsize=(8,12)\n",
    ")\n",
    "\n",
    "gather_susbets(\n",
    "    dec_list,\n",
    "    df=encode_dn,\n",
    "    # savename='cellmarker_decitabine_any',\n",
    "    min_sig=1,\n",
    "    figsize=(8,12)\n",
    ")"
   ],
   "metadata": {
    "collapsed": false
   },
   "id": "31ab353e47fe6cf7",
   "execution_count": null
  },
  {
   "cell_type": "code",
   "outputs": [],
   "source": [],
   "metadata": {
    "collapsed": false
   },
   "id": "2e9f1298a060bed4",
   "execution_count": null
  },
  {
   "cell_type": "code",
   "outputs": [],
   "source": [
    "gns = [ 'FLT3', 'STAT5A',  'PTPN11', 'STAT5B', 'SOCS2', 'CDKN1B', 'BBC3', 'BCL2L1', 'BCL2L11', 'SPI1', 'MYC', 'GATA1', 'GATA2', 'CEBPE']\n",
    "\n",
    "# gns = [ 'FLT3', 'STAT5A',  'PTPN11', 'STAT5B', 'SOCS2', 'CDKN1B', 'BBC3', 'BCL2L1', 'SPI1']\n",
    "# gns += enr_results_down.term_to_genes('stat5 activation downstream of flt3 itd mutants r-hsa-9702518')\n",
    "exp.subset(gns, index='identifier',).require_n_sig(n_sig=1, index='identifier').heatmap(\n",
    "    subset_index='identifier',\n",
    "#     min_sig=1,\n",
    "    index='label',\n",
    "    columns=['drug', 'stage'],\n",
    "    figsize=(4, 4), cluster_col=False,\n",
    "    cluster_row=True,\n",
    "    linewidths=0.01,\n",
    "    y_tick_labels=True\n",
    ");\n",
    "plt.savefig(\"downstream_flt32.png\", dpi=300, bbox_inches='tight')\n",
    "plt.savefig(\"downstream_flt32.pdf\", dpi=300, bbox_inches='tight')"
   ],
   "metadata": {
    "collapsed": false
   },
   "id": "5dcb27b643983423",
   "execution_count": null
  },
  {
   "cell_type": "code",
   "outputs": [],
   "source": [
    "\n"
   ],
   "metadata": {
    "collapsed": false
   },
   "id": "5851e8cb92376d0b",
   "execution_count": null
  },
  {
   "cell_type": "markdown",
   "source": [
    "## Plotting known"
   ],
   "metadata": {
    "collapsed": false
   },
   "id": "5e017829daeac708"
  },
  {
   "cell_type": "code",
   "outputs": [],
   "source": [
    "both_exp_data.species.subset('DNMT').require_n_sig(n_sig=1, index='label').heatmap(\n",
    "    index='label',\n",
    "    convert_to_log=False,\n",
    "    columns=['drug', 'stage'],\n",
    "        figsize=(6, 6),\n",
    "    cluster_col=False,\n",
    "    cluster_row=True,\n",
    "    cluster_by_set=True,\n",
    "    linewidths=0.01,\n",
    "    y_tick_labels=True\n",
    "    \n",
    ")\n",
    "\n",
    "plt.savefig(\"dnmt_proteins.png\", dpi=300, bbox_inches='tight')"
   ],
   "metadata": {
    "collapsed": false
   },
   "id": "5654e6c51171f4cf",
   "execution_count": null
  },
  {
   "cell_type": "code",
   "outputs": [],
   "source": [
    "exp_data.species.subset('BCL').require_n_sig(n_sig=1, index='label').heatmap(\n",
    "    index='label',\n",
    "    convert_to_log=False,\n",
    "    columns=['drug', 'stage'],\n",
    "        figsize=(8, 6),\n",
    "    cluster_col=False,\n",
    "    cluster_row=True,\n",
    "    cluster_by_set=True,\n",
    "    linewidths=0.01,\n",
    "    y_tick_labels=True\n",
    "    \n",
    ")\n",
    "plt.savefig(\"bcl_proteins.png\", dpi=300, bbox_inches='tight')"
   ],
   "metadata": {
    "collapsed": false
   },
   "id": "4835feb289185af4",
   "execution_count": null
  },
  {
   "cell_type": "markdown",
   "source": [
    "### Explore overlaps of samples"
   ],
   "metadata": {
    "collapsed": false
   },
   "id": "21be4a69a83fcadf"
  },
  {
   "cell_type": "code",
   "outputs": [],
   "source": [
    "from upsetplot import UpSet, from_contents"
   ],
   "metadata": {
    "collapsed": false
   },
   "id": "a83469b60ee280c4",
   "execution_count": null
  },
  {
   "cell_type": "code",
   "outputs": [],
   "source": [
    "sig_per_sample = dict()\n",
    "for i in enr_results_up.sample_id.unique():\n",
    "    terms = enr_results_up.loc[enr_results_up.sample_id == i].sig.term_name\n",
    "    sig_per_sample[i] = set(terms.values)\n",
    "sig_per_sample\n",
    "late_samples = {i:j for i,j in sig_per_sample.items() if 'Late' in i}\n",
    "late_upset = from_contents(late_samples)\n",
    "late_upset.rename({'id': 'term'},axis=1, inplace=True)"
   ],
   "metadata": {
    "collapsed": false
   },
   "id": "bf4fcf0eb0932013",
   "execution_count": null
  },
  {
   "cell_type": "code",
   "outputs": [],
   "source": [
    "proteins_per_sample = dict()\n",
    "for i,j in zip(exp_data.species.sample_ids, exp_data.species.sig.by_sample):\n",
    "    proteins_per_sample[i]=j\n",
    "    \n",
    "def merge_pair(prefix, samples):\n",
    "    e = f'{prefix}_Early'\n",
    "    l = f'{prefix}_Late'\n",
    "    samples[prefix] = samples[e].union(samples[l])\n",
    "    del samples[e]\n",
    "    del samples[l]\n",
    "    \n",
    "for i in ['GV', 'G', 'GVD', 'GD']:\n",
    "    merge_pair(i, proteins_per_sample)\n",
    "proteins_per_sample['D'] = proteins_per_sample['D_only']\n",
    "del proteins_per_sample['D_only']\n",
    "\n",
    "upset_protein = from_contents(proteins_per_sample)\n",
    "upset_protein.rename({'id': 'term'}, axis=1, inplace=True)\n",
    "upset_protein.sort_index().head(10)\n",
    "fig = plt.figure(figsize=(8, 4))\n",
    "p = UpSet(upset_protein, subset_size='count', show_counts=True, element_size=None, min_subset_size=10).plot(fig=fig)\n",
    "plt.savefig('upset_plot_global_samples.png', bbox_inches='tight', dpi=300)\n",
    "plt.savefig('upset_plot_global_samples.pdf', bbox_inches='tight', dpi=300)"
   ],
   "metadata": {
    "collapsed": false
   },
   "id": "4c316a2505dbf158",
   "execution_count": null
  },
  {
   "cell_type": "code",
   "outputs": [],
   "source": [
    "\n",
    "decitabine_samples_protein = {i:j for i,j in proteins_per_sample.items() if 'D' in i or i=='G'}\n",
    "dec_upset_protein = from_contents(decitabine_samples_protein)\n",
    "dec_upset_protein.rename({'id': 'term'}, axis=1, inplace=True)\n",
    "dec_upset_protein.sort_index().head(10)\n",
    "fig = plt.figure(figsize=(8, 4))\n",
    "p = UpSet(\n",
    "    dec_upset_protein, \n",
    "    subset_size='count', show_counts=True,\n",
    "    min_subset_size=10,  \n",
    "    element_size=30, \n",
    "          orientation='horizontal'\n",
    ").plot(fig=fig)\n",
    "plt.savefig('upset_plot_dec_samples.png', bbox_inches='tight', dpi=300)\n",
    "plt.savefig('upset_plot_dec_samples.pdf', bbox_inches='tight', dpi=300)"
   ],
   "metadata": {
    "collapsed": false
   },
   "id": "532f6c8a5a0b4ff0",
   "execution_count": null
  },
  {
   "cell_type": "markdown",
   "source": [],
   "metadata": {
    "collapsed": false
   },
   "id": "1d45cc1de1a97c81"
  },
  {
   "cell_type": "code",
   "outputs": [],
   "source": [
    "from magine.plotting.venn_diagram_maker import create_venn2, create_venn3"
   ],
   "metadata": {
    "collapsed": false
   },
   "id": "4149d1e9c9896d42",
   "execution_count": null
  },
  {
   "cell_type": "code",
   "outputs": [],
   "source": [
    "fig = plt.figure(figsize=(6, 6))\n",
    "ax= fig.add_subplot(121)\n",
    "create_venn2(exp_data.GD_Early.sig.label_list, exp_data.GD_Late.sig.label_list, 'early', 'late', ax=ax, title='GD')\n",
    "ax= fig.add_subplot(122)\n",
    "create_venn2(exp_data.GVD_Early.sig.label_list, exp_data.GVD_Late.sig.label_list, 'early', 'late' , ax=ax, title='GVD')\n",
    "plt.show()"
   ],
   "metadata": {
    "collapsed": false
   },
   "id": "37a3f9cfb7c76e17",
   "execution_count": null
  },
  {
   "cell_type": "code",
   "outputs": [],
   "source": [
    "gvd = exp_data.GVD_Early.sig.label_list.union(exp_data.GVD_Late.sig.label_list)\n",
    "gd = exp_data.GD_Early.sig.label_list.union(exp_data.GD_Late.sig.label_list)\n",
    "gv = exp_data.GV_Early.sig.label_list.union(exp_data.GV_Late.sig.label_list)\n",
    "g = exp_data.G_Early.sig.label_list.union(exp_data.G_Late.sig.label_list)\n",
    "d = exp_data.D_only.sig.label_list"
   ],
   "metadata": {
    "collapsed": false
   },
   "id": "9bb32ecf01ada4e3",
   "execution_count": null
  },
  {
   "cell_type": "code",
   "outputs": [],
   "source": [
    "fig = plt.figure(figsize=(4, 4))\n",
    "ax= fig.add_subplot(111)\n",
    "create_venn2(\n",
    "      exp_data.GV_Early.sig.label_list,\n",
    "    exp_data.GV_Late.sig.label_list,\n",
    "    \n",
    "   'GV early', 'GV late', \n",
    "    ax=ax\n",
    ")\n",
    "plt.savefig('gv_early_vs_late.png', dpi=300, bbox_inches='tight')"
   ],
   "metadata": {
    "collapsed": false
   },
   "id": "c3a1254af79b0175",
   "execution_count": null
  },
  {
   "cell_type": "code",
   "outputs": [],
   "source": [
    "fig = plt.figure(figsize=(4, 4))\n",
    "ax= fig.add_subplot(111)\n",
    "create_venn3(\n",
    "     d,\n",
    "    gd,\n",
    "    gvd,\n",
    "   'D', 'GD',\n",
    "    'GVD', \n",
    "    ax=ax\n",
    ")\n",
    "plt.savefig('decitabine_samples_overlap.png', dpi=300, bbox_inches='tight')"
   ],
   "metadata": {
    "collapsed": false
   },
   "id": "5fa9f3faed148cc7",
   "execution_count": null
  },
  {
   "cell_type": "code",
   "outputs": [],
   "source": [
    "fig = plt.figure(figsize=(3, 3))\n",
    "ax= fig.add_subplot(111)\n",
    "create_venn2(\n",
    "    gvd,\n",
    "    gv,\n",
    "    'GVD', 'GV',\n",
    "    ax=ax\n",
    ");"
   ],
   "metadata": {
    "collapsed": false
   },
   "id": "c8b82fc9e30cf24b",
   "execution_count": null
  },
  {
   "cell_type": "code",
   "outputs": [],
   "source": [
    "combo_only = gvd.difference(gd).difference(gv).difference(d).difference(g)\n",
    "combo_run_list = [i.split('_')[0] for i in combo_only]\n",
    "len(combo_run_list)\n",
    "plot_gene_list(combo_only, figsize=(8, 12), savename='combo_only', index='label')"
   ],
   "metadata": {
    "collapsed": false
   },
   "id": "395981bfeda1781d",
   "execution_count": null
  },
  {
   "cell_type": "code",
   "outputs": [],
   "source": [
    "\n",
    "gd_only = gd.difference(gvd).difference(gv).difference(d).difference(g)\n",
    "gd_only_run_list = [i.split('_')[0] for i in gd_only]\n",
    "len(gd_only)\n",
    "plot_gene_list(gd_only, figsize=(8, 12), savename='gd_only', index='label')"
   ],
   "metadata": {
    "collapsed": false
   },
   "id": "db5a635344eb7bb",
   "execution_count": null
  },
  {
   "cell_type": "code",
   "outputs": [],
   "source": [
    "len(gd_only)"
   ],
   "metadata": {
    "collapsed": false
   },
   "id": "93e8c564d6f66bba",
   "execution_count": null
  },
  {
   "cell_type": "code",
   "outputs": [],
   "source": [
    "gd_only = gd.difference(gvd).difference(gv).difference(d).difference(g)\n",
    "gd_only_run_list = [i.split('_')[0] for i in gd_only]\n",
    "\n",
    "plot_gene_list(gd_only, figsize=(8, 12), savename='gd_only', index='label')"
   ],
   "metadata": {
    "collapsed": false
   },
   "id": "a75c450f491746c",
   "execution_count": null
  },
  {
   "cell_type": "code",
   "outputs": [],
   "source": [
    "from magine.enrichment.enrichr import Enrichr\n",
    "\n",
    "e = Enrichr()\n",
    "libs = [\n",
    "    'Reactome_2022',\n",
    "    'ChEA_2022',\n",
    "    'ENCODE_and_ChEA_Consensus_TFs_from_ChIP-X',\n",
    "    'TRRUST_Transcription_Factors_2019', 'CellMarker_2024', 'HuBMAP_ASCTplusB_augmented_2022'\n",
    "]"
   ],
   "metadata": {
    "collapsed": false
   },
   "id": "583ade02292efbc",
   "execution_count": null
  },
  {
   "cell_type": "code",
   "outputs": [],
   "source": [
    "combo_only_enrichment = e.run(combo_only, gene_set_lib=libs)\n",
    "combo_only_enrichment['sample_id'] = 'combo_only'"
   ],
   "metadata": {
    "collapsed": false
   },
   "id": "ec710927780f67ab",
   "execution_count": null
  },
  {
   "cell_type": "code",
   "outputs": [],
   "source": [
    "c_only_reactome = combo_only_enrichment.filter_multi(db='Reactome_2022')"
   ],
   "metadata": {
    "collapsed": false
   },
   "id": "8501547fcc9240f4",
   "execution_count": null
  },
  {
   "cell_type": "code",
   "outputs": [],
   "source": [
    "c_only_reactome.filter_multi(p_value=.3).heatmap(\n",
    "    figsize=(10, 10),\n",
    "    cluster_row=False,\n",
    "    # columns=['drug', 'stage'],\n",
    "    y_tick_labels=True,\n",
    "    linewidths=0.01\n",
    ");"
   ],
   "metadata": {
    "collapsed": false
   },
   "id": "2ad71994636d5dc",
   "execution_count": null
  },
  {
   "cell_type": "code",
   "outputs": [],
   "source": [
    "plot_subset(c_only_reactome, 'deubiquitination r-hsa-5688426')"
   ],
   "metadata": {
    "collapsed": false
   },
   "id": "614f2a4d19f827c5",
   "execution_count": null
  },
  {
   "cell_type": "code",
   "outputs": [],
   "source": [
    "combo_only_enrichment.filter_multi(p_value=.3).sig.heatmap(\n",
    "    figsize=(10, 10),\n",
    "    cluster_row=False,\n",
    "    # columns=['drug', 'stage'],\n",
    "    y_tick_labels=True,\n",
    "    linewidths=0.01\n",
    ");"
   ],
   "metadata": {
    "collapsed": false
   },
   "id": "7a1b13b4af53cdbb",
   "execution_count": null
  },
  {
   "cell_type": "code",
   "outputs": [],
   "source": [
    "dec_only = gvd.intersection(gd).intersection(d).difference(gv).difference(g)"
   ],
   "metadata": {
    "collapsed": false
   },
   "id": "2c03af2623a4d2fc",
   "execution_count": null
  },
  {
   "cell_type": "code",
   "outputs": [],
   "source": [
    "run_list_dec_only = [i.split('_')[0] for i in dec_only]"
   ],
   "metadata": {
    "collapsed": false
   },
   "id": "3d9bcb0022fd8588",
   "execution_count": null
  },
  {
   "cell_type": "code",
   "outputs": [],
   "source": [
    "dec_only_enrichment = e.run(run_list_dec_only, gene_set_lib=libs)\n",
    "dec_only_enrichment['sample_id'] = 'combo_only'"
   ],
   "metadata": {
    "collapsed": false
   },
   "id": "b2641c5634cd1ea8",
   "execution_count": null
  },
  {
   "cell_type": "code",
   "outputs": [],
   "source": [
    "d_only_reactome = dec_only_enrichment.filter_multi(db='Reactome_2022')"
   ],
   "metadata": {
    "collapsed": false
   },
   "id": "e725b02a394acbbe",
   "execution_count": null
  },
  {
   "cell_type": "code",
   "outputs": [],
   "source": [
    "d_only_reactome.sig.remove_redundant().heatmap(\n",
    "    figsize=(4, 6),\n",
    "    cluster_row=False,\n",
    "    # columns=['drug', 'stage'],\n",
    "    y_tick_labels=True,\n",
    "    linewidths=0.01\n",
    ");"
   ],
   "metadata": {
    "collapsed": false
   },
   "id": "f83ed48f84412483",
   "execution_count": null
  },
  {
   "cell_type": "code",
   "outputs": [],
   "source": [
    "plot_gene_list(dec_only, figsize=(8, 12), savename='dec_only', index='label')"
   ],
   "metadata": {
    "collapsed": false
   },
   "id": "f08483d1532c0590",
   "execution_count": null
  },
  {
   "cell_type": "code",
   "outputs": [],
   "source": [],
   "metadata": {
    "collapsed": false
   },
   "id": "d7a41e4104d9afce"
  }
 ],
 "metadata": {
  "kernelspec": {
   "display_name": "Python 3",
   "language": "python",
   "name": "python3"
  },
  "language_info": {
   "codemirror_mode": {
    "name": "ipython",
    "version": 2
   },
   "file_extension": ".py",
   "mimetype": "text/x-python",
   "name": "python",
   "nbconvert_exporter": "python",
   "pygments_lexer": "ipython2",
   "version": "2.7.6"
  }
 },
 "nbformat": 4,
 "nbformat_minor": 5
}
