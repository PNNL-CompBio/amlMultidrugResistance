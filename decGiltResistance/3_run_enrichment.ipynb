{
 "cells": [
  {
   "cell_type": "code",
   "execution_count": 2,
   "id": "229b30232d7c70df",
   "metadata": {
    "collapsed": false,
    "jupyter": {
     "outputs_hidden": false
    }
   },
   "outputs": [],
   "source": [
    "from magine.data.experimental_data import ExperimentalData"
   ]
  },
  {
   "cell_type": "code",
   "execution_count": 3,
   "id": "91bc592c01a383df",
   "metadata": {
    "collapsed": false,
    "jupyter": {
     "outputs_hidden": false
    }
   },
   "outputs": [],
   "source": [
    "import seaborn as sns\n",
    "import matplotlib.pyplot as plt\n",
    "import matplotlib\n",
    "matplotlib.rcParams['pdf.fonttype'] = 42\n",
    "matplotlib.rcParams['font.family'] = ['arial']\n",
    "\n",
    "\n",
    "sns.set_theme(\n",
    "    context ='paper',\n",
    "    palette=\"Paired\", \n",
    "    style='white',\n",
    "    font='arial',\n",
    "    # font_scale=1.0\n",
    ")"
   ]
  },
  {
   "cell_type": "code",
   "execution_count": 4,
   "id": "initial_id",
   "metadata": {},
   "outputs": [],
   "source": [
    "exp_data = ExperimentalData('global_proteomics_for_magine.csv.gz')\n",
    "both_exp_data = ExperimentalData('both_proteomics_for_magine.csv.gz')"
   ]
  },
  {
   "cell_type": "code",
   "execution_count": 5,
   "id": "84cad7a206979d4b",
   "metadata": {
    "collapsed": false,
    "jupyter": {
     "outputs_hidden": false
    }
   },
   "outputs": [],
   "source": [
    "# for DMEA\n",
    "exp_data['D_only'][['identifier', 'fold_change']].sort_values('fold_change', ascending=False).to_csv('dec_ranked.csv', index=False)"
   ]
  },
  {
   "cell_type": "code",
   "execution_count": 6,
   "id": "2feae9686791053",
   "metadata": {
    "collapsed": false,
    "jupyter": {
     "outputs_hidden": false
    }
   },
   "outputs": [
    {
     "name": "stderr",
     "output_type": "stream",
     "text": [
      "2024-07-30 13:14:59.612 - magine - INFO - Logging started on MAGINE version 0.1.5\n",
      "2024-07-30 13:14:59.615 - magine - INFO - Log entry time offset from UTC: -7.00 hours\n"
     ]
    }
   ],
   "source": [
    "from magine.enrichment.enrichr import Enrichr\n",
    "e = Enrichr()"
   ]
  },
  {
   "cell_type": "code",
   "execution_count": 7,
   "id": "3a4461aab1691c4d",
   "metadata": {
    "collapsed": false,
    "jupyter": {
     "outputs_hidden": false
    }
   },
   "outputs": [
    {
     "ename": "AssertionError",
     "evalue": "Reactome_2022 not in valid ids {'Panther_2016', 'Disease_Signatures_from_GEO_down_2014', 'Jensen_TISSUES', 'NIH_Funded_PIs_2017_Human_AutoRIF', 'Genome_Browser_PWMs', 'Rare_Diseases_GeneRIF_ARCHS4_Predictions', 'Microbe_Perturbations_from_GEO_down', 'HumanCyc_2016', 'GO_Cellular_Component_2013', 'lncHUB_lncRNA_Co-Expression', 'Aging_Perturbations_from_GEO_down', 'KEGG_2019_Mouse', 'HMDB_Metabolites', 'Virus-Host_PPI_P-HIPSTer_2020', 'Mouse_Gene_Atlas', 'Disease_Perturbations_from_GEO_down', 'GO_Cellular_Component_2015', 'GTEx_Tissue_Sample_Gene_Expression_Profiles_down', 'HMS_LINCS_KinomeScan', 'NIH_Funded_PIs_2017_AutoRIF_ARCHS4_Predictions', 'BioPlanet_2019', 'KEGG_2019_Human', 'ENCODE_and_ChEA_Consensus_TFs_from_ChIP-X', 'HumanCyc_2015', 'NURSA_Human_Endogenous_Complexome', 'GO_Biological_Process_2017b', 'ARCHS4_IDG_Coexp', 'TargetScan_microRNA_2017', 'Old_CMAP_down', 'BioCarta_2016', 'GO_Biological_Process_2015', 'BioPlex_2017', 'GO_Molecular_Function_2017b', 'ChEA_2016', 'KEGG_2015', 'TRANSFAC_and_JASPAR_PWMs', 'GTEx_Tissue_Sample_Gene_Expression_Profiles_up', 'Panther_2015', 'Ligand_Perturbations_from_GEO_down', 'Pfam_Domains_2019', 'InterPro_Domains_2019', 'CORUM', 'OMIM_Disease', 'KEGG_2016', 'Kinase_Perturbations_from_GEO_down', 'WikiPathways_2015', 'DepMap_WG_CRISPR_Screens_Broad_CellLines_2019', 'MGI_Mammalian_Phenotype_2017', 'Aging_Perturbations_from_GEO_up', 'Data_Acquisition_Method_Most_Popular_Genes', 'Rare_Diseases_AutoRIF_ARCHS4_Predictions', 'Gene_Perturbations_from_GEO_up', 'L1000_Kinase_and_GPCR_Perturbations_down', 'Chromosome_Location_hg19', 'Enrichr_Submissions_TF-Gene_Coocurrence', 'GO_Molecular_Function_2015', 'huMAP', 'NCI-Nature_2015', 'ChEA_2013', 'GO_Biological_Process_2013', 'TRRUST_Transcription_Factors_2019', 'ENCODE_Histone_Modifications_2013', 'GeneSigDB', 'Old_CMAP_up', 'Gene_Perturbations_from_GEO_down', 'Rare_Diseases_AutoRIF_Gene_Lists', 'SysMyo_Muscle_Gene_Sets', 'ARCHS4_TFs_Coexp', 'ARCHS4_Kinases_Coexp', 'Allen_Brain_Atlas_down', 'Tissue_Protein_Expression_from_Human_Proteome_Map', 'Cancer_Cell_Line_Encyclopedia', 'Achilles_fitness_increase', 'SubCell_BarCode', 'ARCHS4_Cell-lines', 'TargetScan_microRNA', 'Rare_Diseases_GeneRIF_Gene_Lists', 'LINCS_L1000_Ligand_Perturbations_down', 'LINCS_L1000_Ligand_Perturbations_up', 'NCI-Nature_2016', 'WikiPathways_2019_Human', 'Drug_Perturbations_from_GEO_2014', 'BioCarta_2015', 'GO_Biological_Process_2018', 'ENCODE_TF_ChIP-seq_2014', 'DSigDB', 'HomoloGene', 'Disease_Perturbations_from_GEO_up', 'GO_Molecular_Function_2017', 'WikiPathways_2019_Mouse', 'Virus_Perturbations_from_GEO_up', 'ChEA_2015', 'MCF7_Perturbations_from_GEO_up', 'MGI_Mammalian_Phenotype_2013', 'NIH_Funded_PIs_2017_Human_GeneRIF', 'Chromosome_Location', 'Drug_Perturbations_from_GEO_up', 'KEA_2015', 'Jensen_DISEASES', 'DrugMatrix', 'LINCS_L1000_Chem_Pert_down', 'GO_Biological_Process_2017', 'GWAS_Catalog_2019', 'Microbe_Perturbations_from_GEO_up', 'WikiPathways_2013', 'MSigDB_Oncogenic_Signatures', 'GO_Cellular_Component_2018', 'PPI_Hub_Proteins', 'Human_Phenotype_Ontology', 'RNA-Seq_Disease_Gene_and_Drug_Signatures_from_GEO', 'Reactome_2013', 'Achilles_fitness_decrease', 'ESCAPE', 'Drug_Perturbations_from_GEO_down', 'Ligand_Perturbations_from_GEO_up', 'Allen_Brain_Atlas_up', 'DisGeNET', 'MCF7_Perturbations_from_GEO_down', 'Virus_Perturbations_from_GEO_down', 'MGI_Mammalian_Phenotype_Level_4_2019', 'TF_Perturbations_Followed_by_Expression', 'CCLE_Proteomics_2020', 'VirusMINT', 'Reactome_2015', 'Epigenomics_Roadmap_HM_ChIP-seq', 'ClinVar_2019', 'Disease_Signatures_from_GEO_up_2014', 'Phosphatase_Substrates_from_DEPOD', 'PheWeb_2019', 'Jensen_COMPARTMENTS', 'L1000_Kinase_and_GPCR_Perturbations_up', 'MGI_Mammalian_Phenotype_Level_3', 'Tissue_Protein_Expression_from_ProteomicsDB', 'miRTarBase_2017', 'Reactome_2016', 'Enrichr_Libraries_Most_Popular_Genes', 'KEA_2013', 'MSigDB_Computational', 'Transcription_Factor_PPIs', 'ENCODE_TF_ChIP-seq_2015', 'BioCarta_2013', 'MGI_Mammalian_Phenotype_Level_4', 'Genes_Associated_with_NIH_Grants', 'Pfam_InterPro_Domains', 'OMIM_Expanded', 'GO_Cellular_Component_2017', 'ARCHS4_Tissues', 'ProteomicsDB_2020', 'LINCS_L1000_Chem_Pert_up', 'ENCODE_Histone_Modifications_2015', 'TF-LOF_Expression_from_GEO', 'GO_Cellular_Component_2017b', 'Human_Gene_Atlas', 'dbGaP', 'GO_Molecular_Function_2013', 'WikiPathways_2016', 'DepMap_WG_CRISPR_Screens_Sanger_CellLines_2019', 'KEGG_2013', 'NCI-60_Cancer_Cell_Lines', 'NIH_Funded_PIs_2017_GeneRIF_ARCHS4_Predictions', 'SILAC_Phosphoproteomics', 'Kinase_Perturbations_from_GEO_up', 'GO_Molecular_Function_2018', 'UK_Biobank_GWAS_v1'}",
     "output_type": "error",
     "traceback": [
      "\u001b[0;31m---------------------------------------------------------------------------\u001b[0m",
      "\u001b[0;31mAssertionError\u001b[0m                            Traceback (most recent call last)",
      "Cell \u001b[0;32mIn[7], line 21\u001b[0m\n\u001b[1;32m      1\u001b[0m \u001b[38;5;66;03m# runs enrichment and saves results\u001b[39;00m\n\u001b[1;32m      3\u001b[0m libs \u001b[38;5;241m=\u001b[39m[\n\u001b[1;32m      4\u001b[0m     \u001b[38;5;124m'\u001b[39m\u001b[38;5;124mReactome_2022\u001b[39m\u001b[38;5;124m'\u001b[39m,\n\u001b[1;32m      5\u001b[0m     \u001b[38;5;124m'\u001b[39m\u001b[38;5;124mGO_Biological_Process_2023\u001b[39m\u001b[38;5;124m'\u001b[39m,\n\u001b[0;32m   (...)\u001b[0m\n\u001b[1;32m     19\u001b[0m     \n\u001b[1;32m     20\u001b[0m ]\n\u001b[0;32m---> 21\u001b[0m enr_results_up \u001b[38;5;241m=\u001b[39m \u001b[43me\u001b[49m\u001b[38;5;241;43m.\u001b[39;49m\u001b[43mrun_samples\u001b[49m\u001b[43m(\u001b[49m\n\u001b[1;32m     22\u001b[0m \u001b[43m    \u001b[49m\u001b[43mexp_data\u001b[49m\u001b[38;5;241;43m.\u001b[39;49m\u001b[43mspecies\u001b[49m\u001b[38;5;241;43m.\u001b[39;49m\u001b[43msig\u001b[49m\u001b[38;5;241;43m.\u001b[39;49m\u001b[43mup_by_sample\u001b[49m\u001b[43m,\u001b[49m\n\u001b[1;32m     23\u001b[0m \u001b[43m    \u001b[49m\u001b[43msample_ids\u001b[49m\u001b[38;5;241;43m=\u001b[39;49m\u001b[43mexp_data\u001b[49m\u001b[38;5;241;43m.\u001b[39;49m\u001b[43mspecies\u001b[49m\u001b[38;5;241;43m.\u001b[39;49m\u001b[43msample_ids\u001b[49m\u001b[43m,\u001b[49m\n\u001b[1;32m     24\u001b[0m \u001b[43m    \u001b[49m\u001b[43mgene_set_lib\u001b[49m\u001b[38;5;241;43m=\u001b[39;49m\u001b[43mlibs\u001b[49m\u001b[43m,\u001b[49m\n\u001b[1;32m     25\u001b[0m \u001b[43m)\u001b[49m\n\u001b[1;32m     26\u001b[0m enr_results_up[\u001b[38;5;124m'\u001b[39m\u001b[38;5;124mdirection\u001b[39m\u001b[38;5;124m'\u001b[39m] \u001b[38;5;241m=\u001b[39m\u001b[38;5;124m'\u001b[39m\u001b[38;5;124mup\u001b[39m\u001b[38;5;124m'\u001b[39m\n\u001b[1;32m     27\u001b[0m enr_results_up\u001b[38;5;241m.\u001b[39mto_csv(\u001b[38;5;124m'\u001b[39m\u001b[38;5;124m../Data/ora_results_up.csv\u001b[39m\u001b[38;5;124m'\u001b[39m)\n",
      "File \u001b[0;32m~/.pyenv/versions/3.8/envs/magine/lib/python3.8/site-packages/magine/enrichment/enrichr.py:267\u001b[0m, in \u001b[0;36mEnrichr.run_samples\u001b[0;34m(self, sample_lists, sample_ids, gene_set_lib, save_name, create_html, out_dir, run_parallel, exp_data, pivot)\u001b[0m\n\u001b[1;32m    265\u001b[0m \u001b[38;5;28;01mif\u001b[39;00m \u001b[38;5;129;01mnot\u001b[39;00m \u001b[38;5;28misinstance\u001b[39m(sample_lists[\u001b[38;5;241m0\u001b[39m], (\u001b[38;5;28mlist\u001b[39m, \u001b[38;5;28mset\u001b[39m)):\n\u001b[1;32m    266\u001b[0m     \u001b[38;5;28;01mraise\u001b[39;00m \u001b[38;5;167;01mAssertionError\u001b[39;00m(\u001b[38;5;124m\"\u001b[39m\u001b[38;5;124mList of lists required\u001b[39m\u001b[38;5;124m\"\u001b[39m)\n\u001b[0;32m--> 267\u001b[0m df_final \u001b[38;5;241m=\u001b[39m \u001b[38;5;28;43mself\u001b[39;49m\u001b[38;5;241;43m.\u001b[39;49m\u001b[43mrun\u001b[49m\u001b[43m(\u001b[49m\u001b[43msample_lists\u001b[49m\u001b[43m[\u001b[49m\u001b[38;5;241;43m0\u001b[39;49m\u001b[43m]\u001b[49m\u001b[43m,\u001b[49m\u001b[43m \u001b[49m\u001b[43mgene_set_lib\u001b[49m\u001b[43m)\u001b[49m\n\u001b[1;32m    268\u001b[0m df_final[\u001b[38;5;124m'\u001b[39m\u001b[38;5;124msample_id\u001b[39m\u001b[38;5;124m'\u001b[39m] \u001b[38;5;241m=\u001b[39m sample_ids[\u001b[38;5;241m0\u001b[39m]\n\u001b[1;32m    269\u001b[0m \u001b[38;5;28;01mfor\u001b[39;00m count, (i, j) \u001b[38;5;129;01min\u001b[39;00m \u001b[38;5;28menumerate\u001b[39m(\u001b[38;5;28mzip\u001b[39m(sample_lists[\u001b[38;5;241m1\u001b[39m:], sample_ids[\u001b[38;5;241m1\u001b[39m:])):\n",
      "File \u001b[0;32m~/.pyenv/versions/3.8/envs/magine/lib/python3.8/site-packages/magine/enrichment/enrichr.py:186\u001b[0m, in \u001b[0;36mEnrichr.run\u001b[0;34m(self, list_of_genes, gene_set_lib)\u001b[0m\n\u001b[1;32m    184\u001b[0m     df \u001b[38;5;241m=\u001b[39m \u001b[38;5;28mself\u001b[39m\u001b[38;5;241m.\u001b[39m_run_id(user_list_id, gene_set_lib)\n\u001b[1;32m    185\u001b[0m \u001b[38;5;28;01melse\u001b[39;00m:\n\u001b[0;32m--> 186\u001b[0m     df \u001b[38;5;241m=\u001b[39m \u001b[38;5;28;43mself\u001b[39;49m\u001b[38;5;241;43m.\u001b[39;49m\u001b[43m_run_list_of_dbs\u001b[49m\u001b[43m(\u001b[49m\u001b[43muser_list_id\u001b[49m\u001b[43m,\u001b[49m\u001b[43m \u001b[49m\u001b[43mgene_set_lib\u001b[49m\u001b[43m)\u001b[49m\n\u001b[1;32m    188\u001b[0m init_size \u001b[38;5;241m=\u001b[39m \u001b[38;5;28mlen\u001b[39m(df)\n\u001b[1;32m    189\u001b[0m \u001b[38;5;28;01mif\u001b[39;00m init_size \u001b[38;5;241m==\u001b[39m \u001b[38;5;241m0\u001b[39m:\n",
      "File \u001b[0;32m~/.pyenv/versions/3.8/envs/magine/lib/python3.8/site-packages/magine/enrichment/enrichr.py:371\u001b[0m, in \u001b[0;36mEnrichr._run_list_of_dbs\u001b[0;34m(self, gene_list_id, databases)\u001b[0m\n\u001b[1;32m    370\u001b[0m \u001b[38;5;28;01mdef\u001b[39;00m \u001b[38;5;21m_run_list_of_dbs\u001b[39m(\u001b[38;5;28mself\u001b[39m, gene_list_id, databases):\n\u001b[0;32m--> 371\u001b[0m     data \u001b[38;5;241m=\u001b[39m \u001b[38;5;28;43mself\u001b[39;49m\u001b[38;5;241;43m.\u001b[39;49m\u001b[43m_run_id\u001b[49m\u001b[43m(\u001b[49m\u001b[43mgene_list_id\u001b[49m\u001b[43m,\u001b[49m\u001b[43m \u001b[49m\u001b[43mdatabases\u001b[49m\u001b[43m[\u001b[49m\u001b[38;5;241;43m0\u001b[39;49m\u001b[43m]\u001b[49m\u001b[43m)\u001b[49m\n\u001b[1;32m    372\u001b[0m     \u001b[38;5;28;01mfor\u001b[39;00m db \u001b[38;5;129;01min\u001b[39;00m databases[\u001b[38;5;241m1\u001b[39m:]:\n\u001b[1;32m    373\u001b[0m         data \u001b[38;5;241m=\u001b[39m data\u001b[38;5;241m.\u001b[39mappend(\u001b[38;5;28mself\u001b[39m\u001b[38;5;241m.\u001b[39m_run_id(gene_list_id, db),\n\u001b[1;32m    374\u001b[0m                            ignore_index\u001b[38;5;241m=\u001b[39m\u001b[38;5;28;01mTrue\u001b[39;00m)\n",
      "File \u001b[0;32m~/.pyenv/versions/3.8/envs/magine/lib/python3.8/site-packages/magine/enrichment/enrichr.py:306\u001b[0m, in \u001b[0;36mEnrichr._run_id\u001b[0;34m(self, list_id, gene_set_lib)\u001b[0m\n\u001b[1;32m    304\u001b[0m \u001b[38;5;28;01mdef\u001b[39;00m \u001b[38;5;21m_run_id\u001b[39m(\u001b[38;5;28mself\u001b[39m, list_id, gene_set_lib):\n\u001b[1;32m    305\u001b[0m     \u001b[38;5;28;01mif\u001b[39;00m gene_set_lib \u001b[38;5;129;01mnot\u001b[39;00m \u001b[38;5;129;01min\u001b[39;00m _valid_libs:\n\u001b[0;32m--> 306\u001b[0m         \u001b[38;5;28;01mraise\u001b[39;00m \u001b[38;5;167;01mAssertionError\u001b[39;00m(\u001b[38;5;124m\"\u001b[39m\u001b[38;5;132;01m{}\u001b[39;00m\u001b[38;5;124m not in valid ids \u001b[39m\u001b[38;5;132;01m{}\u001b[39;00m\u001b[38;5;124m\"\u001b[39m\u001b[38;5;241m.\u001b[39mformat(gene_set_lib,\n\u001b[1;32m    307\u001b[0m                                                              _valid_libs))\n\u001b[1;32m    309\u001b[0m     q \u001b[38;5;241m=\u001b[39m \u001b[38;5;28mself\u001b[39m\u001b[38;5;241m.\u001b[39m_query\u001b[38;5;241m.\u001b[39mformat(url\u001b[38;5;241m=\u001b[39m\u001b[38;5;28mself\u001b[39m\u001b[38;5;241m.\u001b[39m_url, list_id\u001b[38;5;241m=\u001b[39mlist_id,\n\u001b[1;32m    310\u001b[0m                            lib\u001b[38;5;241m=\u001b[39mgene_set_lib)\n\u001b[1;32m    311\u001b[0m     response \u001b[38;5;241m=\u001b[39m requests\u001b[38;5;241m.\u001b[39mget(q, timeout\u001b[38;5;241m=\u001b[39m\u001b[38;5;241m300\u001b[39m)\n",
      "\u001b[0;31mAssertionError\u001b[0m: Reactome_2022 not in valid ids {'Panther_2016', 'Disease_Signatures_from_GEO_down_2014', 'Jensen_TISSUES', 'NIH_Funded_PIs_2017_Human_AutoRIF', 'Genome_Browser_PWMs', 'Rare_Diseases_GeneRIF_ARCHS4_Predictions', 'Microbe_Perturbations_from_GEO_down', 'HumanCyc_2016', 'GO_Cellular_Component_2013', 'lncHUB_lncRNA_Co-Expression', 'Aging_Perturbations_from_GEO_down', 'KEGG_2019_Mouse', 'HMDB_Metabolites', 'Virus-Host_PPI_P-HIPSTer_2020', 'Mouse_Gene_Atlas', 'Disease_Perturbations_from_GEO_down', 'GO_Cellular_Component_2015', 'GTEx_Tissue_Sample_Gene_Expression_Profiles_down', 'HMS_LINCS_KinomeScan', 'NIH_Funded_PIs_2017_AutoRIF_ARCHS4_Predictions', 'BioPlanet_2019', 'KEGG_2019_Human', 'ENCODE_and_ChEA_Consensus_TFs_from_ChIP-X', 'HumanCyc_2015', 'NURSA_Human_Endogenous_Complexome', 'GO_Biological_Process_2017b', 'ARCHS4_IDG_Coexp', 'TargetScan_microRNA_2017', 'Old_CMAP_down', 'BioCarta_2016', 'GO_Biological_Process_2015', 'BioPlex_2017', 'GO_Molecular_Function_2017b', 'ChEA_2016', 'KEGG_2015', 'TRANSFAC_and_JASPAR_PWMs', 'GTEx_Tissue_Sample_Gene_Expression_Profiles_up', 'Panther_2015', 'Ligand_Perturbations_from_GEO_down', 'Pfam_Domains_2019', 'InterPro_Domains_2019', 'CORUM', 'OMIM_Disease', 'KEGG_2016', 'Kinase_Perturbations_from_GEO_down', 'WikiPathways_2015', 'DepMap_WG_CRISPR_Screens_Broad_CellLines_2019', 'MGI_Mammalian_Phenotype_2017', 'Aging_Perturbations_from_GEO_up', 'Data_Acquisition_Method_Most_Popular_Genes', 'Rare_Diseases_AutoRIF_ARCHS4_Predictions', 'Gene_Perturbations_from_GEO_up', 'L1000_Kinase_and_GPCR_Perturbations_down', 'Chromosome_Location_hg19', 'Enrichr_Submissions_TF-Gene_Coocurrence', 'GO_Molecular_Function_2015', 'huMAP', 'NCI-Nature_2015', 'ChEA_2013', 'GO_Biological_Process_2013', 'TRRUST_Transcription_Factors_2019', 'ENCODE_Histone_Modifications_2013', 'GeneSigDB', 'Old_CMAP_up', 'Gene_Perturbations_from_GEO_down', 'Rare_Diseases_AutoRIF_Gene_Lists', 'SysMyo_Muscle_Gene_Sets', 'ARCHS4_TFs_Coexp', 'ARCHS4_Kinases_Coexp', 'Allen_Brain_Atlas_down', 'Tissue_Protein_Expression_from_Human_Proteome_Map', 'Cancer_Cell_Line_Encyclopedia', 'Achilles_fitness_increase', 'SubCell_BarCode', 'ARCHS4_Cell-lines', 'TargetScan_microRNA', 'Rare_Diseases_GeneRIF_Gene_Lists', 'LINCS_L1000_Ligand_Perturbations_down', 'LINCS_L1000_Ligand_Perturbations_up', 'NCI-Nature_2016', 'WikiPathways_2019_Human', 'Drug_Perturbations_from_GEO_2014', 'BioCarta_2015', 'GO_Biological_Process_2018', 'ENCODE_TF_ChIP-seq_2014', 'DSigDB', 'HomoloGene', 'Disease_Perturbations_from_GEO_up', 'GO_Molecular_Function_2017', 'WikiPathways_2019_Mouse', 'Virus_Perturbations_from_GEO_up', 'ChEA_2015', 'MCF7_Perturbations_from_GEO_up', 'MGI_Mammalian_Phenotype_2013', 'NIH_Funded_PIs_2017_Human_GeneRIF', 'Chromosome_Location', 'Drug_Perturbations_from_GEO_up', 'KEA_2015', 'Jensen_DISEASES', 'DrugMatrix', 'LINCS_L1000_Chem_Pert_down', 'GO_Biological_Process_2017', 'GWAS_Catalog_2019', 'Microbe_Perturbations_from_GEO_up', 'WikiPathways_2013', 'MSigDB_Oncogenic_Signatures', 'GO_Cellular_Component_2018', 'PPI_Hub_Proteins', 'Human_Phenotype_Ontology', 'RNA-Seq_Disease_Gene_and_Drug_Signatures_from_GEO', 'Reactome_2013', 'Achilles_fitness_decrease', 'ESCAPE', 'Drug_Perturbations_from_GEO_down', 'Ligand_Perturbations_from_GEO_up', 'Allen_Brain_Atlas_up', 'DisGeNET', 'MCF7_Perturbations_from_GEO_down', 'Virus_Perturbations_from_GEO_down', 'MGI_Mammalian_Phenotype_Level_4_2019', 'TF_Perturbations_Followed_by_Expression', 'CCLE_Proteomics_2020', 'VirusMINT', 'Reactome_2015', 'Epigenomics_Roadmap_HM_ChIP-seq', 'ClinVar_2019', 'Disease_Signatures_from_GEO_up_2014', 'Phosphatase_Substrates_from_DEPOD', 'PheWeb_2019', 'Jensen_COMPARTMENTS', 'L1000_Kinase_and_GPCR_Perturbations_up', 'MGI_Mammalian_Phenotype_Level_3', 'Tissue_Protein_Expression_from_ProteomicsDB', 'miRTarBase_2017', 'Reactome_2016', 'Enrichr_Libraries_Most_Popular_Genes', 'KEA_2013', 'MSigDB_Computational', 'Transcription_Factor_PPIs', 'ENCODE_TF_ChIP-seq_2015', 'BioCarta_2013', 'MGI_Mammalian_Phenotype_Level_4', 'Genes_Associated_with_NIH_Grants', 'Pfam_InterPro_Domains', 'OMIM_Expanded', 'GO_Cellular_Component_2017', 'ARCHS4_Tissues', 'ProteomicsDB_2020', 'LINCS_L1000_Chem_Pert_up', 'ENCODE_Histone_Modifications_2015', 'TF-LOF_Expression_from_GEO', 'GO_Cellular_Component_2017b', 'Human_Gene_Atlas', 'dbGaP', 'GO_Molecular_Function_2013', 'WikiPathways_2016', 'DepMap_WG_CRISPR_Screens_Sanger_CellLines_2019', 'KEGG_2013', 'NCI-60_Cancer_Cell_Lines', 'NIH_Funded_PIs_2017_GeneRIF_ARCHS4_Predictions', 'SILAC_Phosphoproteomics', 'Kinase_Perturbations_from_GEO_up', 'GO_Molecular_Function_2018', 'UK_Biobank_GWAS_v1'}"
     ]
    }
   ],
   "source": [
    "# runs enrichment and saves results\n",
    "\n",
    "libs =[\n",
    "    'Reactome_2022',\n",
    "    'GO_Biological_Process_2023',\n",
    "    \n",
    "    'HuBMAP_ASCTplusB_augmented_2022',\n",
    "    'CellMarker_2024',\n",
    "    'Azimuth_2023',\n",
    "    'Human_Gene_Atlas',\n",
    "    \n",
    "    'dbGaP',\n",
    "    \n",
    "    'ChEA_2022',\n",
    "    'TRRUST_Transcription_Factors_2019',\n",
    "    'ENCODE_and_ChEA_Consensus_TFs_from_ChIP-X',\n",
    "    \n",
    "    'The_Kinase_Library_2023',\n",
    "    \n",
    "]\n",
    "enr_results_up = e.run_samples(\n",
    "    exp_data.species.sig.up_by_sample,\n",
    "    sample_ids=exp_data.species.sample_ids,\n",
    "    gene_set_lib=libs,\n",
    ")\n",
    "enr_results_up['direction'] ='up'\n",
    "enr_results_up.to_csv('ora_results_up.csv')\n",
    "\n",
    "enr_results_down = e.run_samples(\n",
    "    exp_data.species.sig.down_by_sample,\n",
    "    sample_ids=exp_data.species.sample_ids,\n",
    "    gene_set_lib=libs,\n",
    ")\n",
    "enr_results_down['direction'] ='down'\n",
    "enr_results_down.to_csv('ora_results_down.csv')\n",
    "\n",
    "\n",
    "enr_results_both = e.run_samples(\n",
    "    exp_data.species.sig.by_sample,\n",
    "    sample_ids=exp_data.species.sample_ids,\n",
    "    gene_set_lib=libs,\n",
    ")\n",
    "enr_results_down['direction'] ='both'\n",
    "enr_results_down.to_csv('ora_results_both.csv')\n"
   ]
  },
  {
   "cell_type": "code",
   "execution_count": null,
   "id": "efe4f964-3df9-4844-b9a1-44651bc365ff",
   "metadata": {},
   "outputs": [],
   "source": []
  }
 ],
 "metadata": {
  "kernelspec": {
   "display_name": "Python 3 (ipykernel)",
   "language": "python",
   "name": "python3"
  },
  "language_info": {
   "codemirror_mode": {
    "name": "ipython",
    "version": 3
   },
   "file_extension": ".py",
   "mimetype": "text/x-python",
   "name": "python",
   "nbconvert_exporter": "python",
   "pygments_lexer": "ipython3",
   "version": "3.8.19"
  }
 },
 "nbformat": 4,
 "nbformat_minor": 5
}
