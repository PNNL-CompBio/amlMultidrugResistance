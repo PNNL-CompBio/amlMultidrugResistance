{
 "cells": [
  {
   "cell_type": "code",
   "execution_count": null,
   "id": "7a748804",
   "metadata": {},
   "outputs": [],
   "source": [
    "import pandas as pd\n",
    "import seaborn as sns\n",
    "import matplotlib.pyplot as plt"
   ]
  },
  {
   "cell_type": "code",
   "execution_count": null,
   "id": "818db054",
   "metadata": {},
   "outputs": [],
   "source": [
    "sns.set_style('white')\n",
    "sns.set_context(\"poster\", font_scale = 1.5)"
   ]
  },
  {
   "cell_type": "code",
   "execution_count": null,
   "id": "34208202",
   "metadata": {},
   "outputs": [],
   "source": [
    "data = pd.read_csv('GILT-VEN-DEC-RNASEQ/RNA230425ET_logCPM.txt', delimiter='\\t')\n",
    "# rna_de = data['DE Results'].copy()"
   ]
  },
  {
   "cell_type": "code",
   "execution_count": null,
   "id": "7693d888",
   "metadata": {},
   "outputs": [],
   "source": []
  },
  {
   "cell_type": "code",
   "execution_count": null,
   "id": "12a8e70c",
   "metadata": {},
   "outputs": [],
   "source": [
    "data.columns"
   ]
  },
  {
   "cell_type": "code",
   "execution_count": null,
   "id": "f50d061d",
   "metadata": {},
   "outputs": [],
   "source": [
    "columns = ['ER11GILTplusDECplusFLT3',\n",
    "       'ER12GILTplusDECplusFLT3', 'ER33GILTplusVENplusFGF2',\n",
    "       'ER34GILTplusVENplusFLT3', 'ER35GILTplusVENplusFLT3',\n",
    "       'ER36GILTplusVENplusFLT3', 'ER38GILTplusVENDEC',\n",
    "       'ER40GILTVENplusVENplusDECplusFGF2',\n",
    "       'ER42GILTVENplusVENplusDECplusFGF2',\n",
    "       'ER43GILTVENplusVENplusDECplusFLT3',\n",
    "       'ER44GILTVENplusVENplusDECplusFLT3',\n",
    "       'ER45GILTVENplusVENplusDECplusFLT3', 'ER6GILTplusDECplusFGF2',\n",
    "       'ER7GILTplusDECplusFGF2', 'ER8GILTplusDECplusFGF2',\n",
    "       'ER9GILTplusDECplusFLT3', 'LR11GILTplusDEC', 'LR12GILTplusDEC',\n",
    "       'LR33GILTplusVEN', 'LR34GILTplusVEN', 'LR35GILTplusVEN',\n",
    "       'LR36GILTplusVEN', 'LR40GILTplusVENDEC', 'LR42GILTplusVENDEC',\n",
    "       'LR43GILTplusVENDEC', 'LR44GILTplusVENDEC', 'LR45GILTplusVENDEC',\n",
    "       'LR6GILTplusDEC', 'LR7GILTplusDEC', 'LR8GILTplusDEC', 'LR9GILTplusDEC',\n",
    "       'MOLMplusParental_14_Parental_1', 'MOLMplusParental_14_Parental_2',\n",
    "       'MOLMplusParental_14_Parental_3', 'Molm_Dec_1', 'Molm_Dec_2',\n",
    "       'Molm_Dec_3', 'Molm_Dec_7', 'Molm_Dec_FG_4', 'Molm_Dec_FG_5',\n",
    "       'Molm_Dec_FG_6']"
   ]
  },
  {
   "cell_type": "code",
   "execution_count": null,
   "id": "516d9d53",
   "metadata": {},
   "outputs": [],
   "source": [
    "rename_dict = {}\n",
    "\n",
    "for i in columns:\n",
    "    new_name = i\n",
    "    if 'plus' in i:\n",
    "        new_name = new_name.replace('plus', '_')\n",
    "    if 'GILT' in new_name:\n",
    "        new_name = new_name.replace('GILT', '_GILT')\n",
    "    if 'GILTVEN' in new_name:\n",
    "        new_name = new_name.replace('GILTVEN', 'GILT_VEN')\n",
    "    if 'VENDEC' in new_name:\n",
    "        new_name = new_name.replace('VENDEC', 'VEN_DEC')\n",
    "    rename_dict[i] = new_name\n",
    "rename_dict"
   ]
  },
  {
   "cell_type": "code",
   "execution_count": null,
   "id": "e58ca834",
   "metadata": {},
   "outputs": [],
   "source": [
    "data.rename(rename_dict, axis=1, inplace=True)"
   ]
  },
  {
   "cell_type": "code",
   "execution_count": null,
   "id": "0e19fd0c",
   "metadata": {},
   "outputs": [],
   "source": [
    "data.columns"
   ]
  },
  {
   "cell_type": "code",
   "execution_count": null,
   "id": "3a5fedd8",
   "metadata": {},
   "outputs": [],
   "source": [
    "cols = ['gene_symbol','MOLM_Parental_14_Parental_2',\n",
    "       'MOLM_Parental_14_Parental_3', 'Molm_Dec_1', 'Molm_Dec_2',\n",
    "       'Molm_Dec_3', 'Molm_Dec_7', 'Molm_Dec_FG_4', 'Molm_Dec_FG_5',\n",
    "       'Molm_Dec_FG_6'\n",
    "       ]\n",
    "\n",
    "tmp = data[cols].set_index('gene_symbol')\n",
    "tmp = tmp[tmp.std(axis=1) >.1]"
   ]
  },
  {
   "cell_type": "code",
   "execution_count": null,
   "id": "8250e894",
   "metadata": {},
   "outputs": [],
   "source": [
    "sns.clustermap(\n",
    "    tmp, z_score=0,\n",
    "    xticklabels=True,\n",
    "    yticklabels=False, \n",
    "    figsize=(8,8),\n",
    "    method='ward', \n",
    "    cmap='coolwarm'\n",
    ");\n",
    "plt.savefig('rna_sample_level_dec_parental.png', bbox_inches='tight', dpi=300)"
   ]
  },
  {
   "cell_type": "code",
   "execution_count": null,
   "id": "18e65e5a",
   "metadata": {},
   "outputs": [],
   "source": [
    "cols2 = ['gene_symbol', 'ER11_GILT_DEC_FLT3',\n",
    "       'ER12_GILT_DEC_FLT3', 'ER33_GILT_VEN_FGF2', 'ER34_GILT_VEN_FLT3',\n",
    "       'ER35_GILT_VEN_FLT3', 'ER36_GILT_VEN_FLT3', 'ER38_GILT_VEN_DEC',\n",
    "       'ER40_GILT_VEN_VEN_DEC_FGF2', 'ER42_GILT_VEN_VEN_DEC_FGF2',\n",
    "       'ER43_GILT_VEN_VEN_DEC_FLT3', 'ER44_GILT_VEN_VEN_DEC_FLT3',\n",
    "       'ER45_GILT_VEN_VEN_DEC_FLT3', 'ER6_GILT_DEC_FGF2', 'ER7_GILT_DEC_FGF2',\n",
    "       'ER8_GILT_DEC_FGF2', 'ER9_GILT_DEC_FLT3', 'LR11_GILT_DEC',\n",
    "       'LR12_GILT_DEC', 'LR33_GILT_VEN', 'LR34_GILT_VEN', 'LR35_GILT_VEN',\n",
    "       'LR36_GILT_VEN', 'LR40_GILT_VEN_DEC', 'LR42_GILT_VEN_DEC',\n",
    "       'LR43_GILT_VEN_DEC', 'LR44_GILT_VEN_DEC', 'LR45_GILT_VEN_DEC',\n",
    "       'LR6_GILT_DEC', 'LR7_GILT_DEC', 'LR8_GILT_DEC', 'LR9_GILT_DEC',\n",
    "       'MOLM_Parental_14_Parental_1', 'MOLM_Parental_14_Parental_2',\n",
    "       'MOLM_Parental_14_Parental_3', 'Molm_Dec_1', 'Molm_Dec_2', 'Molm_Dec_3',\n",
    "       'Molm_Dec_7', 'Molm_Dec_FG_4', 'Molm_Dec_FG_5', 'Molm_Dec_FG_6']\n",
    "tmp2 = data[cols2].set_index('gene_symbol')\n",
    "tmp2 = tmp2[tmp2.std(axis=1) >.1]"
   ]
  },
  {
   "cell_type": "code",
   "execution_count": null,
   "id": "0eed8b99",
   "metadata": {},
   "outputs": [],
   "source": [
    "sns.clustermap(\n",
    "    tmp2, z_score=0,\n",
    "    xticklabels=True,\n",
    "    vmax=3, vmin=-3,\n",
    "    yticklabels=False, \n",
    "    figsize=(16,8),\n",
    "    method='ward', \n",
    "    cmap='coolwarm'\n",
    ");\n",
    "plt.savefig('rna_sample_level.png', bbox_inches='tight', dpi=300)"
   ]
  },
  {
   "cell_type": "code",
   "execution_count": null,
   "id": "468205d8",
   "metadata": {},
   "outputs": [],
   "source": [
    "cols = ['gene_symbol', 'ER11_GILT_DEC_FLT3',\n",
    "       'ER12_GILT_DEC_FLT3', 'ER33_GILT_VEN_FGF2', 'ER34_GILT_VEN_FLT3',\n",
    "       'ER35_GILT_VEN_FLT3', 'ER36_GILT_VEN_FLT3', 'ER38_GILT_VEN_DEC',\n",
    "       'ER40_GILT_VEN_VEN_DEC_FGF2', 'ER42_GILT_VEN_VEN_DEC_FGF2',\n",
    "       'ER43_GILT_VEN_VEN_DEC_FLT3', 'ER44_GILT_VEN_VEN_DEC_FLT3',\n",
    "       'ER45_GILT_VEN_VEN_DEC_FLT3', 'ER6_GILT_DEC_FGF2', 'ER7_GILT_DEC_FGF2',\n",
    "       'ER8_GILT_DEC_FGF2', 'ER9_GILT_DEC_FLT3', 'LR11_GILT_DEC',\n",
    "       'LR12_GILT_DEC', 'LR33_GILT_VEN', 'LR34_GILT_VEN', 'LR35_GILT_VEN',\n",
    "       'LR36_GILT_VEN', 'LR40_GILT_VEN_DEC', 'LR42_GILT_VEN_DEC',\n",
    "       'LR43_GILT_VEN_DEC', 'LR44_GILT_VEN_DEC', 'LR45_GILT_VEN_DEC',\n",
    "       'LR6_GILT_DEC', 'LR7_GILT_DEC', 'LR8_GILT_DEC', 'LR9_GILT_DEC',\n",
    "       'MOLM_Parental_14_Parental_1', 'MOLM_Parental_14_Parental_2',\n",
    "       'MOLM_Parental_14_Parental_3', 'Molm_Dec_1', 'Molm_Dec_2', 'Molm_Dec_3',\n",
    "       'Molm_Dec_7', 'Molm_Dec_FG_4', 'Molm_Dec_FG_5', 'Molm_Dec_FG_6']\n",
    "rna_data = data[cols].set_index('gene_symbol')\n",
    "rna_data.head()"
   ]
  },
  {
   "cell_type": "code",
   "execution_count": null,
   "id": "341937fe",
   "metadata": {},
   "outputs": [],
   "source": [
    "from sklearn.decomposition import PCA\n",
    "\n",
    "\n",
    "X = rna_data.fillna(0).values.T\n",
    "\n",
    "\n",
    "pca = PCA(n_components=2)\n",
    "X_r = pca.fit(X).transform(X)"
   ]
  },
  {
   "cell_type": "code",
   "execution_count": null,
   "id": "2bd1c170",
   "metadata": {},
   "outputs": [],
   "source": [
    "names = ['_'.join(i.split('_')) for i in rna_data.columns]\n",
    "mapper = {\n",
    "    'GILT': 'G',\n",
    "    'VEN': 'V',\n",
    "    'DEC': 'D',\n",
    "    'GILT_VEN_VEN_DEC': 'GVD',\n",
    "    'GILT_VEN': 'GV',\n",
    "    'GILT_DEC': 'GD',\n",
    "}\n",
    "\n",
    "names = [i.replace('GILT_VEN_VEN_DEC', 'GVD') for i in names]\n",
    "names = [i.replace('GILT_VEN', 'GV') for i in names]\n",
    "names = [i.replace('GILT_DEC', 'GD') for i in names]\n",
    "names = [i.replace('DEC', 'D') for i in names]\n",
    "names = [i.replace('Dec', 'D') for i in names]\n",
    "names = [i.replace('Molm_', 'MOLM_') for i in names]\n",
    "names = [i.replace('MOLM_', 'MOLM_') for i in names]\n",
    "# names = ['parental' for i in names]\n",
    "names = ['parental_none' if 'Parental' in i else i for i in names]\n",
    "names = [i.replace('D_FG', 'D_FGF2')for i in names]\n",
    "names = [i[:-2] if i.endswith('for i in names]\n",
    "# names = ['parental' if 'Parental' in i else i for i in names]\n",
    "names\n"
   ]
  },
  {
   "cell_type": "code",
   "execution_count": null,
   "id": "9e6902d7",
   "metadata": {},
   "outputs": [],
   "source": [
    "styles = pd.DataFrame()\n",
    "styles['name'] = names\n",
    "styles['ligand'] = ['FLT3' if 'FLT3' in i else 'FGF2' for i in styles['name']]\n",
    "styles['drug'] = [i.split('_')[1] for i in styles['name']]\n",
    "styles['state'] = ['early' if 'ER' in i else 'late' for i in styles['name']]\n",
    "styles.loc[styles.name == 'parental_none', 'name'] = 'parental'\n",
    "styles.loc[styles.name == 'parental', 'state'] = 'parental'\n",
    "styles.loc[styles.name == 'parental', 'ligand'] = 'none'\n",
    "styles.loc[styles.name == 'parental', 'drug'] = 'none'\n",
    "# styles['treatment'] = [i.split('_')[0] for i in styles['name']]\n",
    "styles['x'] = X_r[:, 0]\n",
    "styles['y'] = X_r[:, 1]\n",
    "styles = styles.loc[styles.name!='GVD_Spontaneous_none']\n",
    "styles"
   ]
  },
  {
   "cell_type": "code",
   "execution_count": null,
   "id": "4d460fc6",
   "metadata": {},
   "outputs": [],
   "source": [
    "plt.figure(figsize=(12,12))\n",
    "ax = sns.scatterplot(\n",
    "    data=styles, x='x', y='y', hue='drug', hue_order=['none', 'D', 'GV','GD', 'GVD'],\n",
    "    # style='ligand', style_order=['FLT3', 'FGF2', 'none'],\n",
    "    style='state', style_order=['early', 'late', 'parental'],\n",
    "    palette='Set2'\n",
    ")\n",
    "# Shrink current axis by 20%\n",
    "box = ax.get_position()\n",
    "ax.set_position([box.x0, box.y0, box.width * 0.8, box.height])\n",
    "\n",
    "# Put a legend to the right of the current axis\n",
    "ax.legend(loc='center left', bbox_to_anchor=(1.05, 0.5))\n",
    "plt.title(\"PCA of global proteomics\")\n",
    "plt.xlabel(f'PCA 1 variance = {pca.explained_variance_ratio_[0]*100:.2f} %')\n",
    "plt.ylabel(f'PCA 2 variance = {pca.explained_variance_ratio_[1]*100:.2f} %')\n",
    "# plt.savefig('pca_compare_sample.pdf', bbox_inches='tight')"
   ]
  },
  {
   "cell_type": "markdown",
   "id": "1e63b293",
   "metadata": {},
   "source": [
    "# Exploring DE analysis from OHSU"
   ]
  },
  {
   "cell_type": "code",
   "execution_count": null,
   "id": "bf6437bc",
   "metadata": {},
   "outputs": [],
   "source": [
    "data = pd.read_excel('GILT-VEN-DEC-RNASEQ/RNA230425ET_DE_Analysis.xlsx', sheet_name=['DE Results'])\n",
    "rna_de = data['DE Results'].copy()"
   ]
  },
  {
   "cell_type": "code",
   "execution_count": null,
   "id": "3595a07e",
   "metadata": {},
   "outputs": [],
   "source": [
    "rna_de.head()"
   ]
  },
  {
   "cell_type": "code",
   "execution_count": null,
   "id": "632d59be",
   "metadata": {},
   "outputs": [],
   "source": [
    "rna_de['Comparison'].unique()"
   ]
  },
  {
   "cell_type": "code",
   "execution_count": null,
   "id": "55348902",
   "metadata": {},
   "outputs": [],
   "source": [
    "rna_de['Comparison'] = rna_de['Comparison'].str.replace(' - Parental', '')"
   ]
  },
  {
   "cell_type": "code",
   "execution_count": null,
   "id": "14c3a86e",
   "metadata": {},
   "outputs": [],
   "source": [
    "rna_de['sample_id'] = rna_de['Comparison']"
   ]
  },
  {
   "cell_type": "code",
   "execution_count": null,
   "id": "679cbd73",
   "metadata": {},
   "outputs": [],
   "source": [
    "rna_de['identifier'] = rna_de['gene_symbol']\n",
    "rna_de['p_value'] = rna_de['adj.P.Val']"
   ]
  },
  {
   "cell_type": "code",
   "execution_count": null,
   "id": "773508b0",
   "metadata": {},
   "outputs": [],
   "source": [
    "crit_1 = rna_de['logFC'] > 0\n",
    "crit_2 = rna_de['logFC'] < 0\n",
    "p_sig = rna_de['p_value'] < 0.05\n",
    "rna_de['significant'] = False\n",
    "rna_de.loc[p_sig & crit_1, 'significant'] = True\n",
    "rna_de.loc[p_sig & crit_2, 'significant'] = True\n",
    "rna_de.loc[crit_1, 'fold_change'] = 2**rna_de.loc[crit_1,'logFC']\n",
    "rna_de.loc[crit_2, 'fold_change'] = -2**(-1*rna_de.loc[crit_2,'logFC'])"
   ]
  },
  {
   "cell_type": "code",
   "execution_count": null,
   "id": "99e6a0c2",
   "metadata": {},
   "outputs": [],
   "source": [
    "rna_de['label'] =  rna_de['identifier']+'_rna'\n",
    "rna_de['source'] =  'rna_seq'\n",
    "rna_de['species_type'] = 'gene'\n",
    "rna_de['exp_method'] = 'rnaseq'"
   ]
  },
  {
   "cell_type": "code",
   "execution_count": null,
   "id": "f24c525e",
   "metadata": {},
   "outputs": [],
   "source": [
    "rna_de[['identifier', 'fold_change', 'p_value', 'significant']]"
   ]
  },
  {
   "cell_type": "code",
   "execution_count": null,
   "id": "6ab19cf1",
   "metadata": {},
   "outputs": [],
   "source": [
    "rna_de.Comparison.unique()"
   ]
  },
  {
   "cell_type": "code",
   "execution_count": null,
   "id": "f590f9b7",
   "metadata": {},
   "outputs": [],
   "source": [
    "mapper = {\n",
    "    'ER_GILT_DEC_FLT3':'early_GD_FLT3', \n",
    "    'ER_GILT_VEN_FLT3':'early_GV_FLT3',\n",
    "    'ER_GILT_VEN_DEC_FLT3': 'early_GVD_FLT3',\n",
    "    \n",
    "    'ER_GILT_VEN_FGF2': 'early_GV_FGF2',\n",
    "    'ER_GILT_VEN_DEC_FGF2': 'early_GVD_FGF2',\n",
    "    'ER_GILT_DEC_FGF2' : 'early_GD_FGF2', \n",
    "    \n",
    "    'ER_GILT_VEN_DEC':'early_GVD',\n",
    "    'LR_GILT_DEC': 'late_GD', \n",
    "    'LR_GILT_VEN': 'late_GV',\n",
    "    'LR_GILT_VEN_DEC': 'late_GVD', \n",
    "    'DEC' : 'D', \n",
    "    'DEC_FGF2': 'D_FGF2'\n",
    "}"
   ]
  },
  {
   "cell_type": "code",
   "execution_count": null,
   "id": "b9cf6542",
   "metadata": {},
   "outputs": [],
   "source": [
    "rna_de.head(5).sample_id.replace(mapper)"
   ]
  },
  {
   "cell_type": "code",
   "execution_count": null,
   "id": "05ff8375",
   "metadata": {},
   "outputs": [],
   "source": [
    "rna_de.sample_id.replace(mapper, inplace=True)"
   ]
  },
  {
   "cell_type": "code",
   "execution_count": null,
   "id": "ef3a2cd2",
   "metadata": {},
   "outputs": [],
   "source": [
    "rna_de.head(5)"
   ]
  },
  {
   "cell_type": "code",
   "execution_count": null,
   "id": "a62d8d64",
   "metadata": {},
   "outputs": [],
   "source": [
    "rna_de.Comparison.unique()"
   ]
  },
  {
   "cell_type": "code",
   "execution_count": null,
   "id": "238ed515",
   "metadata": {},
   "outputs": [],
   "source": [
    "to_keep = [\n",
    "    'early_GD_FLT3', 'early_GD_FGF2',\n",
    "#     'early_GV_FGF2', 'early_GV_FLT3', \n",
    "    'early_GVD_FGF2', 'early_GVD_FLT3', \n",
    "    'early_GVD',\n",
    "#     'late_GV', \n",
    "    'late_GVD', \n",
    "    'late_GD',\n",
    "    'D', 'D_FGF2'\n",
    "]\n",
    "rna_de2 = rna_de.loc[rna_de.sample_id.isin(to_keep)].copy()\n",
    "rna_de2.dropna(inplace=True, subset=['identifier'])"
   ]
  },
  {
   "cell_type": "code",
   "execution_count": null,
   "id": "bbd4b43a",
   "metadata": {},
   "outputs": [],
   "source": [
    "rna_de2.loc[rna_de2.fold_change>100, 'fold_change']= 100\n",
    "rna_de2.loc[rna_de2.fold_change<-100, 'fold_change']= -100"
   ]
  },
  {
   "cell_type": "code",
   "execution_count": null,
   "id": "b4cdc675",
   "metadata": {},
   "outputs": [],
   "source": [
    "rna_de2.fold_change.describe()"
   ]
  },
  {
   "cell_type": "code",
   "execution_count": null,
   "id": "f04da2d1",
   "metadata": {},
   "outputs": [],
   "source": [
    "from magine.data.experimental_data import ExperimentalData"
   ]
  },
  {
   "cell_type": "code",
   "execution_count": null,
   "id": "ae613379",
   "metadata": {},
   "outputs": [],
   "source": [
    "data = ExperimentalData(rna_de2)"
   ]
  },
  {
   "cell_type": "code",
   "execution_count": null,
   "id": "02b5302e",
   "metadata": {},
   "outputs": [],
   "source": [
    "g = data.species.subset(species=['FLT3', 'VENTX', 'BCL2', 'BCL2L1'], index='identifier').heatmap(\n",
    "    figsize=(12,12),\n",
    "    cluster_col=True, \n",
    "    cluster_row=True,\n",
    "    y_tick_labels=True,\n",
    "#     x_tick_labels=True\n",
    "    \n",
    ");\n",
    "g.ax_heatmap.tick_params(axis='y', rotation=0)\n",
    "# g.set_xticklabels(g.get_xticklabels(), rotation=30)"
   ]
  },
  {
   "cell_type": "code",
   "execution_count": null,
   "id": "d0f173f7",
   "metadata": {},
   "outputs": [],
   "source": [
    "g = data.species.subset(species=['VENTX', 'BSX'], index='identifier').heatmap(\n",
    "    figsize=(6,4),\n",
    "    cluster_col=False, \n",
    "    cluster_row=False,\n",
    "    y_tick_labels=True,\n",
    "#     x_tick_labels=True\n",
    "    \n",
    ");\n",
    "# g.ax_heatmap.tick_params(axis='y', rotation=0)"
   ]
  },
  {
   "cell_type": "code",
   "execution_count": null,
   "id": "c2d69aa4",
   "metadata": {},
   "outputs": [],
   "source": [
    "data.species.heatmap(\n",
    "    min_sig=2,\n",
    "#     linewidths=0.001,\n",
    "    figsize=(10,10),\n",
    "    y_tick_labels=False,\n",
    "    annotate_sig=False,\n",
    "    cluster_row=False,\n",
    "    cluster_col=True,\n",
    ");\n",
    "\n",
    "plt.savefig('rnaseq_heatmap.png', dpi=300, bbox_inches='tight')\n",
    "plt.savefig('rnaseq_heatmap.pdf', dpi=300, bbox_inches='tight')"
   ]
  },
  {
   "cell_type": "code",
   "execution_count": null,
   "id": "182f796f",
   "metadata": {},
   "outputs": [],
   "source": [
    "from magine.enrichment.enrichr import Enrichr"
   ]
  },
  {
   "cell_type": "code",
   "execution_count": null,
   "id": "9b7ed327",
   "metadata": {},
   "outputs": [],
   "source": [
    "e =Enrichr()"
   ]
  },
  {
   "cell_type": "code",
   "execution_count": null,
   "id": "a804cdc0",
   "metadata": {},
   "outputs": [],
   "source": [
    "data.D.sig.id_list"
   ]
  },
  {
   "cell_type": "code",
   "execution_count": null,
   "id": "8c5a5067",
   "metadata": {},
   "outputs": [],
   "source": [
    "dec = e.run_samples(\n",
    "    [data.D.sig.up.id_list, data.D.sig.down.id_list], \n",
    "    sample_ids=['up', 'down'],\n",
    "    gene_set_lib='Reactome_2022'\n",
    ")\n",
    "# dec['sample_id'] = 'DEC'"
   ]
  },
  {
   "cell_type": "code",
   "execution_count": null,
   "id": "cd4c0fb3",
   "metadata": {},
   "outputs": [],
   "source": []
  },
  {
   "cell_type": "code",
   "execution_count": null,
   "id": "b49d67ef",
   "metadata": {},
   "outputs": [],
   "source": [
    "dec.term_name = dec.term_name.str.split(' r-hsa').str.get(0)"
   ]
  },
  {
   "cell_type": "code",
   "execution_count": null,
   "id": "fef92f7f",
   "metadata": {},
   "outputs": [],
   "source": [
    "dec.require_n_sig(n_sig=1).remove_redundant(\n",
    "    level='dataframe',\n",
    ").heatmap(\n",
    "    \n",
    "figsize=(4, 16),\n",
    "    cluster_row=False,\n",
    "    linewidths=0.01,\n",
    ");\n",
    "plt.savefig('decitabine_only_enrichment.png', dpi=300, bbox_inches='tight')\n",
    "plt.savefig('decitabine_only_enrichment.pdf', dpi=300, bbox_inches='tight')"
   ]
  },
  {
   "cell_type": "code",
   "execution_count": null,
   "id": "b470393e",
   "metadata": {},
   "outputs": [],
   "source": [
    "dec.sig.remove_redundant()"
   ]
  },
  {
   "cell_type": "code",
   "execution_count": null,
   "id": "36cfc4a9",
   "metadata": {},
   "outputs": [],
   "source": [
    "gs = dec.term_to_genes('cd28 co-stimulation')\n",
    "data.species.heatmap(gs);"
   ]
  },
  {
   "cell_type": "code",
   "execution_count": null,
   "id": "42422352",
   "metadata": {},
   "outputs": [],
   "source": [
    "\n",
    "gs = dec.term_to_genes('rna polymerase i transcription initiation')\n",
    "data.species.heatmap(gs, figsize=(12,12));"
   ]
  },
  {
   "cell_type": "code",
   "execution_count": null,
   "id": "1c20ef19",
   "metadata": {},
   "outputs": [],
   "source": [
    "gs = dec.term_to_genes('negative regulation of mapk pathway')\n",
    "data.species.heatmap(gs, figsize=(6,6));"
   ]
  },
  {
   "cell_type": "code",
   "execution_count": null,
   "id": "78f45ef2",
   "metadata": {},
   "outputs": [],
   "source": [
    "gs = dec.term_to_genes('unwinding of dna')\n",
    "data.species.heatmap(gs);"
   ]
  },
  {
   "cell_type": "code",
   "execution_count": null,
   "id": "9aff7373",
   "metadata": {},
   "outputs": [],
   "source": []
  }
 ],
 "metadata": {
  "kernelspec": {
   "display_name": "Python 3 (ipykernel)",
   "language": "python",
   "name": "python3"
  },
  "language_info": {
   "codemirror_mode": {
    "name": "ipython",
    "version": 3
   },
   "file_extension": ".py",
   "mimetype": "text/x-python",
   "name": "python",
   "nbconvert_exporter": "python",
   "pygments_lexer": "ipython3",
   "version": "3.12.3"
  }
 },
 "nbformat": 4,
 "nbformat_minor": 5
}
