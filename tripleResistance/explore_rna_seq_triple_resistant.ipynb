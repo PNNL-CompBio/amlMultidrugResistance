{
 "cells": [
  {
   "cell_type": "code",
   "execution_count": null,
   "id": "7a748804",
   "metadata": {},
   "outputs": [],
   "source": [
    "import pandas as pd\n",
    "import seaborn as sns\n",
    "import matplotlib.pyplot as plt\n",
    "import synapseclient as syn"
   ]
  },
  {
   "cell_type": "code",
   "execution_count": null,
   "id": "818db054",
   "metadata": {},
   "outputs": [],
   "source": [
    "sns.set_style('white')\n",
    "sns.set_context(\"poster\", font_scale = 1.5)\n",
    "sc = syn.login()"
   ]
  },
  {
   "cell_type": "code",
   "execution_count": null,
   "id": "34208202",
   "metadata": {},
   "outputs": [],
   "source": [
    "data = pd.read_csv(sc.get('syn61831559').path,delimiter='\\t')\n",
    "data = data[[i for i in data.columns if 'GILTplusVEN' not in i and 'GILTVEN' not in i]]\n",
    "#data = pd.read_csv(ds#'GILT-VEN-DEC-RNASEQ/RNA230425ET_logCPM.txt', delimiter='\\t')\n",
    "# rna_de = data['DE Results'].copy()"
   ]
  },
  {
   "cell_type": "code",
   "execution_count": null,
   "id": "12a8e70c",
   "metadata": {},
   "outputs": [],
   "source": [
    "data.columns"
   ]
  },
  {
   "cell_type": "code",
   "execution_count": null,
   "id": "f50d061d",
   "metadata": {},
   "outputs": [],
   "source": [
    "columns = ['ER11GILTplusDECplusFLT3',\n",
    "       'ER12GILTplusDECplusFLT3', #'ER33GILTplusVENplusFGF2',\n",
    "#       'ER34GILTplusVENplusFLT3', 'ER35GILTplusVENplusFLT3',\n",
    "#      'ER36GILTplusVENplusFLT3', 'ER38GILTplusVENDEC',\n",
    "#      'ER40GILTVENplusVENplusDECplusFGF2',\n",
    "#       'ER42GILTVENplusVENplusDECplusFGF2',\n",
    "#       'ER43GILTVENplusVENplusDECplusFLT3',\n",
    "#       'ER44GILTVENplusVENplusDECplusFLT3',\n",
    "#       'ER45GILTVENplusVENplusDECplusFLT3', \n",
    "        'ER6GILTplusDECplusFGF2',\n",
    "       'ER7GILTplusDECplusFGF2', 'ER8GILTplusDECplusFGF2',\n",
    "       'ER9GILTplusDECplusFLT3', 'LR11GILTplusDEC', 'LR12GILTplusDEC',\n",
    "#       'LR33GILTplusVEN', 'LR34GILTplusVEN', 'LR35GILTplusVEN',\n",
    "#       'LR36GILTplusVEN', 'LR40GILTplusVENDEC', 'LR42GILTplusVENDEC',\n",
    "#       'LR43GILTplusVENDEC', 'LR44GILTplusVENDEC', 'LR45GILTplusVENDEC',\n",
    "       'LR6GILTplusDEC', 'LR7GILTplusDEC', 'LR8GILTplusDEC', 'LR9GILTplusDEC',\n",
    "       'MOLMplusParental_14_Parental_1', 'MOLMplusParental_14_Parental_2',\n",
    "       'MOLMplusParental_14_Parental_3', 'Molm_Dec_1', 'Molm_Dec_2',\n",
    "       'Molm_Dec_3', 'Molm_Dec_7', 'Molm_Dec_FG_4', 'Molm_Dec_FG_5',\n",
    "       'Molm_Dec_FG_6']"
   ]
  },
  {
   "cell_type": "code",
   "execution_count": null,
   "id": "516d9d53",
   "metadata": {},
   "outputs": [],
   "source": [
    "rename_dict = {}\n",
    "\n",
    "for i in columns:\n",
    "    new_name = i\n",
    "    if 'plus' in i:\n",
    "        new_name = new_name.replace('plus', '_')\n",
    "    if 'GILT' in new_name:\n",
    "        new_name = new_name.replace('GILT', '_GILT')\n",
    "    if 'GILTVEN' in new_name:\n",
    "        new_name = new_name.replace('GILTVEN', 'GILT_VEN')\n",
    "    if 'VENDEC' in new_name:\n",
    "        new_name = new_name.replace('VENDEC', 'VEN_DEC')\n",
    "    rename_dict[i] = new_name\n",
    "rename_dict"
   ]
  },
  {
   "cell_type": "code",
   "execution_count": null,
   "id": "e58ca834",
   "metadata": {},
   "outputs": [],
   "source": [
    "data.rename(rename_dict, axis=1, inplace=True)"
   ]
  },
  {
   "cell_type": "code",
   "execution_count": null,
   "id": "0e19fd0c",
   "metadata": {},
   "outputs": [],
   "source": [
    "data.columns"
   ]
  },
  {
   "cell_type": "code",
   "execution_count": null,
   "id": "3a5fedd8",
   "metadata": {},
   "outputs": [],
   "source": [
    "cols = ['gene_symbol','MOLM_Parental_14_Parental_2',\n",
    "       'MOLM_Parental_14_Parental_3', 'Molm_Dec_1', 'Molm_Dec_2',\n",
    "       'Molm_Dec_3', 'Molm_Dec_7', 'Molm_Dec_FG_4', 'Molm_Dec_FG_5',\n",
    "       'Molm_Dec_FG_6'\n",
    "       ]\n",
    "\n",
    "tmp = data[cols].set_index('gene_symbol')\n",
    "tmp = tmp[tmp.std(axis=1) >.1]"
   ]
  },
  {
   "cell_type": "code",
   "execution_count": null,
   "id": "8250e894",
   "metadata": {},
   "outputs": [],
   "source": [
    "sns.clustermap(\n",
    "    tmp, z_score=0,\n",
    "    xticklabels=True,\n",
    "    yticklabels=False, \n",
    "    figsize=(8,8),\n",
    "    method='ward', \n",
    "    cmap='coolwarm'\n",
    ");\n",
    "plt.savefig('rna_sample_level_dec_parental.png', bbox_inches='tight', dpi=300)"
   ]
  },
  {
   "cell_type": "code",
   "execution_count": null,
   "id": "18e65e5a",
   "metadata": {},
   "outputs": [],
   "source": [
    "cols2 = ['gene_symbol', 'ER11_GILT_DEC_FLT3',\n",
    "       'ER12_GILT_DEC_FLT3',# 'ER33_GILT_VEN_FGF2', 'ER34_GILT_VEN_FLT3',\n",
    "   #    'ER35_GILT_VEN_FLT3', 'ER36_GILT_VEN_FLT3', 'ER38_GILT_VEN_DEC',\n",
    "   #    'ER40_GILT_VEN_VEN_DEC_FGF2', 'ER42_GILT_VEN_VEN_DEC_FGF2',\n",
    "   #    'ER43_GILT_VEN_VEN_DEC_FLT3', 'ER44_GILT_VEN_VEN_DEC_FLT3',\n",
    "   #    'ER45_GILT_VEN_VEN_DEC_FLT3', \n",
    "       'ER6_GILT_DEC_FGF2', 'ER7_GILT_DEC_FGF2',\n",
    "       'ER8_GILT_DEC_FGF2', 'ER9_GILT_DEC_FLT3', 'LR11_GILT_DEC',\n",
    "       'LR12_GILT_DEC',# 'LR33_GILT_VEN', 'LR34_GILT_VEN', 'LR35_GILT_VEN',\n",
    "  #     'LR36_GILT_VEN', 'LR40_GILT_VEN_DEC', 'LR42_GILT_VEN_DEC',\n",
    "   #    'LR43_GILT_VEN_DEC', 'LR44_GILT_VEN_DEC', 'LR45_GILT_VEN_DEC',\n",
    "       'LR6_GILT_DEC', 'LR7_GILT_DEC', 'LR8_GILT_DEC', 'LR9_GILT_DEC',\n",
    "       'MOLM_Parental_14_Parental_1', 'MOLM_Parental_14_Parental_2',\n",
    "       'MOLM_Parental_14_Parental_3', 'Molm_Dec_1', 'Molm_Dec_2', 'Molm_Dec_3',\n",
    "       'Molm_Dec_7', 'Molm_Dec_FG_4', 'Molm_Dec_FG_5', 'Molm_Dec_FG_6']\n",
    "tmp2 = data[cols2].set_index('gene_symbol')\n",
    "tmp2 = tmp2[tmp2.std(axis=1) >.1]"
   ]
  },
  {
   "cell_type": "code",
   "execution_count": null,
   "id": "0eed8b99",
   "metadata": {},
   "outputs": [],
   "source": [
    "sns.clustermap(\n",
    "    tmp2, z_score=0,\n",
    "    xticklabels=True,\n",
    "    vmax=3, vmin=-3,\n",
    "    yticklabels=False, \n",
    "    figsize=(16,8),\n",
    "    method='ward', \n",
    "    cmap='coolwarm'\n",
    ");\n",
    "plt.savefig('rna_sample_level.png', bbox_inches='tight', dpi=300)"
   ]
  },
  {
   "cell_type": "code",
   "execution_count": null,
   "id": "d691a851-2f24-4032-bc8a-afd6f1a2cb9b",
   "metadata": {},
   "outputs": [],
   "source": [
    "cols = ['gene_symbol', 'ER11_GILT_DEC_FLT3',\n",
    "       'ER12_GILT_DEC_FLT3', #'ER33_GILT_VEN_FGF2', 'ER34_GILT_VEN_FLT3',\n",
    "     #  'ER35_GILT_VEN_FLT3', 'ER36_GILT_VEN_FLT3', 'ER38_GILT_VEN_DEC',\n",
    "     #  'ER40_GILT_VEN_VEN_DEC_FGF2', 'ER42_GILT_VEN_VEN_DEC_FGF2',\n",
    "     #  'ER43_GILT_VEN_VEN_DEC_FLT3', 'ER44_GILT_VEN_VEN_DEC_FLT3',\n",
    "     #  'ER45_GILT_VEN_VEN_DEC_FLT3', \n",
    "       'ER6_GILT_DEC_FGF2', 'ER7_GILT_DEC_FGF2',\n",
    "       'ER8_GILT_DEC_FGF2', 'ER9_GILT_DEC_FLT3', 'LR11_GILT_DEC',\n",
    "       'LR12_GILT_DEC', #'LR33_GILT_VEN', 'LR34_GILT_VEN', 'LR35_GILT_VEN',\n",
    "     #  'LR36_GILT_VEN', 'LR40_GILT_VEN_DEC', 'LR42_GILT_VEN_DEC',\n",
    "     #  'LR43_GILT_VEN_DEC', 'LR44_GILT_VEN_DEC', 'LR45_GILT_VEN_DEC',\n",
    "       'LR6_GILT_DEC', 'LR7_GILT_DEC', 'LR8_GILT_DEC', 'LR9_GILT_DEC',\n",
    "       'MOLM_Parental_14_Parental_1', 'MOLM_Parental_14_Parental_2',\n",
    "       'MOLM_Parental_14_Parental_3', 'Molm_Dec_1', 'Molm_Dec_2', 'Molm_Dec_3',\n",
    "       'Molm_Dec_7', 'Molm_Dec_FG_4', 'Molm_Dec_FG_5', 'Molm_Dec_FG_6']\n",
    "rna_data = data[cols].set_index('gene_symbol')\n",
    "rna_data.head()"
   ]
  },
  {
   "cell_type": "code",
   "execution_count": null,
   "id": "341937fe",
   "metadata": {},
   "outputs": [],
   "source": [
    "from sklearn.decomposition import PCA\n",
    "\n",
    "\n",
    "X = rna_data.fillna(0).values.T\n",
    "\n",
    "\n",
    "pca = PCA(n_components=2)\n",
    "X_r = pca.fit(X).transform(X)"
   ]
  },
  {
   "cell_type": "code",
   "execution_count": null,
   "id": "2bd1c170",
   "metadata": {
    "scrolled": true
   },
   "outputs": [],
   "source": [
    "names = ['_'.join(i.split('_')) for i in rna_data.columns]\n",
    "mapper = {\n",
    "    'GILT': 'G',\n",
    "    'VEN': 'V',\n",
    "    'DEC': 'D',\n",
    "#    'GILT_VEN_VEN_DEC': 'GVD',\n",
    "#    'GILT_VEN': 'GV',\n",
    "    'GILT_DEC': 'GD',\n",
    "}\n",
    "\n",
    "#names = [i.replace('GILT_VEN_VEN_DEC', 'GVD') for i in names]\n",
    "#names = [i.replace('GILT_VEN', 'GV') for i in names]\n",
    "names = [i.replace('GILT_DEC', 'GD') for i in names]\n",
    "names = [i.replace('DEC', 'D') for i in names]\n",
    "names = [i.replace('Dec', 'D') for i in names]\n",
    "names = [i.replace('Molm_', 'MOLM_') for i in names]\n",
    "names = [i.replace('MOLM_', 'MOLM_') for i in names]\n",
    "# names = ['parental' for i in names]\n",
    "names = ['parental_none' if 'Parental' in i else i for i in names]\n",
    "names = [i.replace('D_FG', 'D_FGF2')for i in names]\n",
    "##names = [i[:-2] if i.endswith('for i in names]\n",
    "# names = ['parental' if 'Parental' in i else i for i in names]\n",
    "names\n"
   ]
  },
  {
   "cell_type": "code",
   "execution_count": null,
   "id": "9e6902d7",
   "metadata": {},
   "outputs": [],
   "source": [
    "styles = pd.DataFrame()\n",
    "styles['name'] = names\n",
    "styles['ligand'] = ['FLT3' if 'FLT3' in i else 'FGF2' for i in styles['name']]\n",
    "styles['drug'] = [i.split('_')[1] for i in styles['name']]\n",
    "styles['state'] = ['early' if 'ER' in i else 'late' for i in styles['name']]\n",
    "styles.loc[styles.name == 'parental_none', 'name'] = 'parental'\n",
    "styles.loc[styles.name == 'parental', 'state'] = 'parental'\n",
    "styles.loc[styles.name == 'parental', 'ligand'] = 'none'\n",
    "styles.loc[styles.name == 'parental', 'drug'] = 'none'\n",
    "# styles['treatment'] = [i.split('_')[0] for i in styles['name']]\n",
    "styles['x'] = X_r[:, 0]\n",
    "styles['y'] = X_r[:, 1]\n",
    "styles = styles.loc[styles.name!='GVD_Spontaneous_none']\n",
    "styles"
   ]
  },
  {
   "cell_type": "code",
   "execution_count": null,
   "id": "4d460fc6",
   "metadata": {},
   "outputs": [],
   "source": [
    "plt.figure(figsize=(12,12))\n",
    "ax = sns.scatterplot(\n",
    "    data=styles, x='x', y='y', hue='drug', hue_order=['none', 'D', 'GV','GD', 'GVD'],\n",
    "    # style='ligand', style_order=['FLT3', 'FGF2', 'none'],\n",
    "    style='state', style_order=['early', 'late', 'parental'],\n",
    "    palette='Set2'\n",
    ")\n",
    "# Shrink current axis by 20%\n",
    "box = ax.get_position()\n",
    "ax.set_position([box.x0, box.y0, box.width * 0.8, box.height])\n",
    "\n",
    "# Put a legend to the right of the current axis\n",
    "ax.legend(loc='center left', bbox_to_anchor=(1.05, 0.5))\n",
    "plt.title(\"PCA of transcriptomics\")\n",
    "plt.xlabel(f'PCA 1 variance = {pca.explained_variance_ratio_[0]*100:.2f} %')\n",
    "plt.ylabel(f'PCA 2 variance = {pca.explained_variance_ratio_[1]*100:.2f} %')\n",
    "# plt.savefig('pca_compare_sample.pdf', bbox_inches='tight')"
   ]
  },
  {
   "cell_type": "markdown",
   "id": "1e63b293",
   "metadata": {},
   "source": [
    "# Exploring DE analysis from OHSU"
   ]
  },
  {
   "cell_type": "code",
   "execution_count": 45,
   "id": "bf6437bc",
   "metadata": {},
   "outputs": [],
   "source": [
    "data = pd.read_excel(sc.get('syn61915964').path,sheet_name=['DE Results'])#GILT-VEN-DEC-RNASEQ/RNA230425ET_DE_Analysis.xlsx', sheet_name=['DE Results'])\n",
    "rna_de = data['DE Results'].copy()"
   ]
  },
  {
   "cell_type": "code",
   "execution_count": 46,
   "id": "3595a07e",
   "metadata": {},
   "outputs": [
    {
     "data": {
      "text/html": [
       "<div>\n",
       "<style scoped>\n",
       "    .dataframe tbody tr th:only-of-type {\n",
       "        vertical-align: middle;\n",
       "    }\n",
       "\n",
       "    .dataframe tbody tr th {\n",
       "        vertical-align: top;\n",
       "    }\n",
       "\n",
       "    .dataframe thead th {\n",
       "        text-align: right;\n",
       "    }\n",
       "</style>\n",
       "<table border=\"1\" class=\"dataframe\">\n",
       "  <thead>\n",
       "    <tr style=\"text-align: right;\">\n",
       "      <th></th>\n",
       "      <th>Comparison</th>\n",
       "      <th>Gene</th>\n",
       "      <th>gene_symbol</th>\n",
       "      <th>logFC</th>\n",
       "      <th>P.Value</th>\n",
       "      <th>adj.P.Val</th>\n",
       "    </tr>\n",
       "  </thead>\n",
       "  <tbody>\n",
       "    <tr>\n",
       "      <th>0</th>\n",
       "      <td>ER_GILT_DEC_FLT3 - Parental</td>\n",
       "      <td>ENSG00000000003.16</td>\n",
       "      <td>TSPAN6</td>\n",
       "      <td>-2.220446e-15</td>\n",
       "      <td>1.000000</td>\n",
       "      <td>1.000000</td>\n",
       "    </tr>\n",
       "    <tr>\n",
       "      <th>1</th>\n",
       "      <td>ER_GILT_DEC_FLT3 - Parental</td>\n",
       "      <td>ENSG00000000419.14</td>\n",
       "      <td>DPM1</td>\n",
       "      <td>5.239818e-01</td>\n",
       "      <td>0.001153</td>\n",
       "      <td>0.014226</td>\n",
       "    </tr>\n",
       "    <tr>\n",
       "      <th>2</th>\n",
       "      <td>ER_GILT_DEC_FLT3 - Parental</td>\n",
       "      <td>ENSG00000000457.14</td>\n",
       "      <td>SCYL3</td>\n",
       "      <td>-2.335540e-01</td>\n",
       "      <td>0.148717</td>\n",
       "      <td>0.356857</td>\n",
       "    </tr>\n",
       "    <tr>\n",
       "      <th>3</th>\n",
       "      <td>ER_GILT_DEC_FLT3 - Parental</td>\n",
       "      <td>ENSG00000000460.17</td>\n",
       "      <td>C1orf112</td>\n",
       "      <td>-2.984284e-01</td>\n",
       "      <td>0.238535</td>\n",
       "      <td>0.473729</td>\n",
       "    </tr>\n",
       "    <tr>\n",
       "      <th>4</th>\n",
       "      <td>ER_GILT_DEC_FLT3 - Parental</td>\n",
       "      <td>ENSG00000000938.13</td>\n",
       "      <td>FGR</td>\n",
       "      <td>-2.920079e+00</td>\n",
       "      <td>0.000639</td>\n",
       "      <td>0.009769</td>\n",
       "    </tr>\n",
       "  </tbody>\n",
       "</table>\n",
       "</div>"
      ],
      "text/plain": [
       "                    Comparison                Gene gene_symbol         logFC  \\\n",
       "0  ER_GILT_DEC_FLT3 - Parental  ENSG00000000003.16      TSPAN6 -2.220446e-15   \n",
       "1  ER_GILT_DEC_FLT3 - Parental  ENSG00000000419.14        DPM1  5.239818e-01   \n",
       "2  ER_GILT_DEC_FLT3 - Parental  ENSG00000000457.14       SCYL3 -2.335540e-01   \n",
       "3  ER_GILT_DEC_FLT3 - Parental  ENSG00000000460.17    C1orf112 -2.984284e-01   \n",
       "4  ER_GILT_DEC_FLT3 - Parental  ENSG00000000938.13         FGR -2.920079e+00   \n",
       "\n",
       "    P.Value  adj.P.Val  \n",
       "0  1.000000   1.000000  \n",
       "1  0.001153   0.014226  \n",
       "2  0.148717   0.356857  \n",
       "3  0.238535   0.473729  \n",
       "4  0.000639   0.009769  "
      ]
     },
     "execution_count": 46,
     "metadata": {},
     "output_type": "execute_result"
    }
   ],
   "source": [
    "rna_de.head()"
   ]
  },
  {
   "cell_type": "code",
   "execution_count": 47,
   "id": "632d59be",
   "metadata": {},
   "outputs": [
    {
     "data": {
      "text/plain": [
       "array(['ER_GILT_DEC_FLT3 - Parental', 'ER_GILT_VEN_FGF2 - Parental',\n",
       "       'ER_GILT_VEN_FLT3 - Parental', 'ER_GILT_VEN_DEC - Parental',\n",
       "       'ER_GILT_VEN_DEC_FGF2 - Parental',\n",
       "       'ER_GILT_VEN_DEC_FLT3 - Parental', 'ER_GILT_DEC_FGF2 - Parental',\n",
       "       'LR_GILT_DEC - Parental', 'LR_GILT_VEN - Parental',\n",
       "       'LR_GILT_VEN_DEC - Parental', 'DEC - Parental',\n",
       "       'DEC_FGF2 - Parental'], dtype=object)"
      ]
     },
     "execution_count": 47,
     "metadata": {},
     "output_type": "execute_result"
    }
   ],
   "source": [
    "rna_de['Comparison'].unique()"
   ]
  },
  {
   "cell_type": "code",
   "execution_count": 48,
   "id": "55348902",
   "metadata": {},
   "outputs": [],
   "source": [
    "rna_de['Comparison'] = rna_de['Comparison'].str.replace(' - Parental', '')"
   ]
  },
  {
   "cell_type": "code",
   "execution_count": 49,
   "id": "14c3a86e",
   "metadata": {},
   "outputs": [],
   "source": [
    "rna_de['sample_id'] = rna_de['Comparison']"
   ]
  },
  {
   "cell_type": "code",
   "execution_count": 50,
   "id": "679cbd73",
   "metadata": {},
   "outputs": [],
   "source": [
    "rna_de['identifier'] = rna_de['gene_symbol']\n",
    "rna_de['p_value'] = rna_de['adj.P.Val']"
   ]
  },
  {
   "cell_type": "code",
   "execution_count": 51,
   "id": "773508b0",
   "metadata": {},
   "outputs": [],
   "source": [
    "crit_1 = rna_de['logFC'] > 0\n",
    "crit_2 = rna_de['logFC'] < 0\n",
    "p_sig = rna_de['p_value'] < 0.05\n",
    "rna_de['significant'] = False\n",
    "rna_de.loc[p_sig & crit_1, 'significant'] = True\n",
    "rna_de.loc[p_sig & crit_2, 'significant'] = True\n",
    "rna_de.loc[crit_1, 'fold_change'] = 2**rna_de.loc[crit_1,'logFC']\n",
    "rna_de.loc[crit_2, 'fold_change'] = -2**(-1*rna_de.loc[crit_2,'logFC'])"
   ]
  },
  {
   "cell_type": "code",
   "execution_count": 52,
   "id": "99e6a0c2",
   "metadata": {},
   "outputs": [],
   "source": [
    "rna_de['label'] =  rna_de['identifier']+'_rna'\n",
    "rna_de['source'] =  'rna_seq'\n",
    "rna_de['species_type'] = 'gene'\n",
    "rna_de['exp_method'] = 'rnaseq'"
   ]
  },
  {
   "cell_type": "code",
   "execution_count": 53,
   "id": "f24c525e",
   "metadata": {},
   "outputs": [
    {
     "data": {
      "text/html": [
       "<div>\n",
       "<style scoped>\n",
       "    .dataframe tbody tr th:only-of-type {\n",
       "        vertical-align: middle;\n",
       "    }\n",
       "\n",
       "    .dataframe tbody tr th {\n",
       "        vertical-align: top;\n",
       "    }\n",
       "\n",
       "    .dataframe thead th {\n",
       "        text-align: right;\n",
       "    }\n",
       "</style>\n",
       "<table border=\"1\" class=\"dataframe\">\n",
       "  <thead>\n",
       "    <tr style=\"text-align: right;\">\n",
       "      <th></th>\n",
       "      <th>identifier</th>\n",
       "      <th>fold_change</th>\n",
       "      <th>p_value</th>\n",
       "      <th>significant</th>\n",
       "    </tr>\n",
       "  </thead>\n",
       "  <tbody>\n",
       "    <tr>\n",
       "      <th>0</th>\n",
       "      <td>TSPAN6</td>\n",
       "      <td>-1.000000</td>\n",
       "      <td>1.000000</td>\n",
       "      <td>False</td>\n",
       "    </tr>\n",
       "    <tr>\n",
       "      <th>1</th>\n",
       "      <td>DPM1</td>\n",
       "      <td>1.437918</td>\n",
       "      <td>0.014226</td>\n",
       "      <td>True</td>\n",
       "    </tr>\n",
       "    <tr>\n",
       "      <th>2</th>\n",
       "      <td>SCYL3</td>\n",
       "      <td>-1.175728</td>\n",
       "      <td>0.356857</td>\n",
       "      <td>False</td>\n",
       "    </tr>\n",
       "    <tr>\n",
       "      <th>3</th>\n",
       "      <td>C1orf112</td>\n",
       "      <td>-1.229804</td>\n",
       "      <td>0.473729</td>\n",
       "      <td>False</td>\n",
       "    </tr>\n",
       "    <tr>\n",
       "      <th>4</th>\n",
       "      <td>FGR</td>\n",
       "      <td>-7.568876</td>\n",
       "      <td>0.009769</td>\n",
       "      <td>True</td>\n",
       "    </tr>\n",
       "    <tr>\n",
       "      <th>...</th>\n",
       "      <td>...</td>\n",
       "      <td>...</td>\n",
       "      <td>...</td>\n",
       "      <td>...</td>\n",
       "    </tr>\n",
       "    <tr>\n",
       "      <th>218599</th>\n",
       "      <td>CD99P1</td>\n",
       "      <td>1.197372</td>\n",
       "      <td>0.765620</td>\n",
       "      <td>False</td>\n",
       "    </tr>\n",
       "    <tr>\n",
       "      <th>218600</th>\n",
       "      <td>CRLF2</td>\n",
       "      <td>-3.547822</td>\n",
       "      <td>0.009620</td>\n",
       "      <td>True</td>\n",
       "    </tr>\n",
       "    <tr>\n",
       "      <th>218601</th>\n",
       "      <td>VAMP7</td>\n",
       "      <td>1.371134</td>\n",
       "      <td>0.346701</td>\n",
       "      <td>False</td>\n",
       "    </tr>\n",
       "    <tr>\n",
       "      <th>218602</th>\n",
       "      <td>WASH6P</td>\n",
       "      <td>1.070272</td>\n",
       "      <td>0.869418</td>\n",
       "      <td>False</td>\n",
       "    </tr>\n",
       "    <tr>\n",
       "      <th>218603</th>\n",
       "      <td>IL9R</td>\n",
       "      <td>1.515982</td>\n",
       "      <td>0.568442</td>\n",
       "      <td>False</td>\n",
       "    </tr>\n",
       "  </tbody>\n",
       "</table>\n",
       "<p>218604 rows × 4 columns</p>\n",
       "</div>"
      ],
      "text/plain": [
       "       identifier  fold_change   p_value  significant\n",
       "0          TSPAN6    -1.000000  1.000000        False\n",
       "1            DPM1     1.437918  0.014226         True\n",
       "2           SCYL3    -1.175728  0.356857        False\n",
       "3        C1orf112    -1.229804  0.473729        False\n",
       "4             FGR    -7.568876  0.009769         True\n",
       "...           ...          ...       ...          ...\n",
       "218599     CD99P1     1.197372  0.765620        False\n",
       "218600      CRLF2    -3.547822  0.009620         True\n",
       "218601      VAMP7     1.371134  0.346701        False\n",
       "218602     WASH6P     1.070272  0.869418        False\n",
       "218603       IL9R     1.515982  0.568442        False\n",
       "\n",
       "[218604 rows x 4 columns]"
      ]
     },
     "execution_count": 53,
     "metadata": {},
     "output_type": "execute_result"
    }
   ],
   "source": [
    "rna_de[['identifier', 'fold_change', 'p_value', 'significant']]"
   ]
  },
  {
   "cell_type": "code",
   "execution_count": 54,
   "id": "6ab19cf1",
   "metadata": {},
   "outputs": [
    {
     "data": {
      "text/plain": [
       "array(['ER_GILT_DEC_FLT3', 'ER_GILT_VEN_FGF2', 'ER_GILT_VEN_FLT3',\n",
       "       'ER_GILT_VEN_DEC', 'ER_GILT_VEN_DEC_FGF2', 'ER_GILT_VEN_DEC_FLT3',\n",
       "       'ER_GILT_DEC_FGF2', 'LR_GILT_DEC', 'LR_GILT_VEN',\n",
       "       'LR_GILT_VEN_DEC', 'DEC', 'DEC_FGF2'], dtype=object)"
      ]
     },
     "execution_count": 54,
     "metadata": {},
     "output_type": "execute_result"
    }
   ],
   "source": [
    "rna_de.Comparison.unique()"
   ]
  },
  {
   "cell_type": "code",
   "execution_count": 55,
   "id": "f590f9b7",
   "metadata": {},
   "outputs": [],
   "source": [
    "mapper = {\n",
    "    'ER_GILT_DEC_FLT3':'early_GD_FLT3', \n",
    "    'ER_GILT_VEN_FLT3':'early_GV_FLT3',\n",
    "    'ER_GILT_VEN_DEC_FLT3': 'early_GVD_FLT3',\n",
    "    \n",
    "    'ER_GILT_VEN_FGF2': 'early_GV_FGF2',\n",
    "    'ER_GILT_VEN_DEC_FGF2': 'early_GVD_FGF2',\n",
    "    'ER_GILT_DEC_FGF2' : 'early_GD_FGF2', \n",
    "    \n",
    "    'ER_GILT_VEN_DEC':'early_GVD',\n",
    "    'LR_GILT_DEC': 'late_GD', \n",
    "    'LR_GILT_VEN': 'late_GV',\n",
    "    'LR_GILT_VEN_DEC': 'late_GVD', \n",
    "    'DEC' : 'D', \n",
    "    'DEC_FGF2': 'D_FGF2'\n",
    "}"
   ]
  },
  {
   "cell_type": "code",
   "execution_count": 56,
   "id": "b9cf6542",
   "metadata": {},
   "outputs": [
    {
     "data": {
      "text/plain": [
       "0    early_GD_FLT3\n",
       "1    early_GD_FLT3\n",
       "2    early_GD_FLT3\n",
       "3    early_GD_FLT3\n",
       "4    early_GD_FLT3\n",
       "Name: sample_id, dtype: object"
      ]
     },
     "execution_count": 56,
     "metadata": {},
     "output_type": "execute_result"
    }
   ],
   "source": [
    "rna_de.head(5).sample_id.replace(mapper)"
   ]
  },
  {
   "cell_type": "code",
   "execution_count": 57,
   "id": "05ff8375",
   "metadata": {},
   "outputs": [],
   "source": [
    "rna_de.sample_id.replace(mapper, inplace=True)"
   ]
  },
  {
   "cell_type": "code",
   "execution_count": 58,
   "id": "ef3a2cd2",
   "metadata": {},
   "outputs": [
    {
     "data": {
      "text/html": [
       "<div>\n",
       "<style scoped>\n",
       "    .dataframe tbody tr th:only-of-type {\n",
       "        vertical-align: middle;\n",
       "    }\n",
       "\n",
       "    .dataframe tbody tr th {\n",
       "        vertical-align: top;\n",
       "    }\n",
       "\n",
       "    .dataframe thead th {\n",
       "        text-align: right;\n",
       "    }\n",
       "</style>\n",
       "<table border=\"1\" class=\"dataframe\">\n",
       "  <thead>\n",
       "    <tr style=\"text-align: right;\">\n",
       "      <th></th>\n",
       "      <th>Comparison</th>\n",
       "      <th>Gene</th>\n",
       "      <th>gene_symbol</th>\n",
       "      <th>logFC</th>\n",
       "      <th>P.Value</th>\n",
       "      <th>adj.P.Val</th>\n",
       "      <th>sample_id</th>\n",
       "      <th>identifier</th>\n",
       "      <th>p_value</th>\n",
       "      <th>significant</th>\n",
       "      <th>fold_change</th>\n",
       "      <th>label</th>\n",
       "      <th>source</th>\n",
       "      <th>species_type</th>\n",
       "      <th>exp_method</th>\n",
       "    </tr>\n",
       "  </thead>\n",
       "  <tbody>\n",
       "    <tr>\n",
       "      <th>0</th>\n",
       "      <td>ER_GILT_DEC_FLT3</td>\n",
       "      <td>ENSG00000000003.16</td>\n",
       "      <td>TSPAN6</td>\n",
       "      <td>-2.220446e-15</td>\n",
       "      <td>1.000000</td>\n",
       "      <td>1.000000</td>\n",
       "      <td>early_GD_FLT3</td>\n",
       "      <td>TSPAN6</td>\n",
       "      <td>1.000000</td>\n",
       "      <td>False</td>\n",
       "      <td>-1.000000</td>\n",
       "      <td>TSPAN6_rna</td>\n",
       "      <td>rna_seq</td>\n",
       "      <td>gene</td>\n",
       "      <td>rnaseq</td>\n",
       "    </tr>\n",
       "    <tr>\n",
       "      <th>1</th>\n",
       "      <td>ER_GILT_DEC_FLT3</td>\n",
       "      <td>ENSG00000000419.14</td>\n",
       "      <td>DPM1</td>\n",
       "      <td>5.239818e-01</td>\n",
       "      <td>0.001153</td>\n",
       "      <td>0.014226</td>\n",
       "      <td>early_GD_FLT3</td>\n",
       "      <td>DPM1</td>\n",
       "      <td>0.014226</td>\n",
       "      <td>True</td>\n",
       "      <td>1.437918</td>\n",
       "      <td>DPM1_rna</td>\n",
       "      <td>rna_seq</td>\n",
       "      <td>gene</td>\n",
       "      <td>rnaseq</td>\n",
       "    </tr>\n",
       "    <tr>\n",
       "      <th>2</th>\n",
       "      <td>ER_GILT_DEC_FLT3</td>\n",
       "      <td>ENSG00000000457.14</td>\n",
       "      <td>SCYL3</td>\n",
       "      <td>-2.335540e-01</td>\n",
       "      <td>0.148717</td>\n",
       "      <td>0.356857</td>\n",
       "      <td>early_GD_FLT3</td>\n",
       "      <td>SCYL3</td>\n",
       "      <td>0.356857</td>\n",
       "      <td>False</td>\n",
       "      <td>-1.175728</td>\n",
       "      <td>SCYL3_rna</td>\n",
       "      <td>rna_seq</td>\n",
       "      <td>gene</td>\n",
       "      <td>rnaseq</td>\n",
       "    </tr>\n",
       "    <tr>\n",
       "      <th>3</th>\n",
       "      <td>ER_GILT_DEC_FLT3</td>\n",
       "      <td>ENSG00000000460.17</td>\n",
       "      <td>C1orf112</td>\n",
       "      <td>-2.984284e-01</td>\n",
       "      <td>0.238535</td>\n",
       "      <td>0.473729</td>\n",
       "      <td>early_GD_FLT3</td>\n",
       "      <td>C1orf112</td>\n",
       "      <td>0.473729</td>\n",
       "      <td>False</td>\n",
       "      <td>-1.229804</td>\n",
       "      <td>C1orf112_rna</td>\n",
       "      <td>rna_seq</td>\n",
       "      <td>gene</td>\n",
       "      <td>rnaseq</td>\n",
       "    </tr>\n",
       "    <tr>\n",
       "      <th>4</th>\n",
       "      <td>ER_GILT_DEC_FLT3</td>\n",
       "      <td>ENSG00000000938.13</td>\n",
       "      <td>FGR</td>\n",
       "      <td>-2.920079e+00</td>\n",
       "      <td>0.000639</td>\n",
       "      <td>0.009769</td>\n",
       "      <td>early_GD_FLT3</td>\n",
       "      <td>FGR</td>\n",
       "      <td>0.009769</td>\n",
       "      <td>True</td>\n",
       "      <td>-7.568876</td>\n",
       "      <td>FGR_rna</td>\n",
       "      <td>rna_seq</td>\n",
       "      <td>gene</td>\n",
       "      <td>rnaseq</td>\n",
       "    </tr>\n",
       "  </tbody>\n",
       "</table>\n",
       "</div>"
      ],
      "text/plain": [
       "         Comparison                Gene gene_symbol         logFC   P.Value  \\\n",
       "0  ER_GILT_DEC_FLT3  ENSG00000000003.16      TSPAN6 -2.220446e-15  1.000000   \n",
       "1  ER_GILT_DEC_FLT3  ENSG00000000419.14        DPM1  5.239818e-01  0.001153   \n",
       "2  ER_GILT_DEC_FLT3  ENSG00000000457.14       SCYL3 -2.335540e-01  0.148717   \n",
       "3  ER_GILT_DEC_FLT3  ENSG00000000460.17    C1orf112 -2.984284e-01  0.238535   \n",
       "4  ER_GILT_DEC_FLT3  ENSG00000000938.13         FGR -2.920079e+00  0.000639   \n",
       "\n",
       "   adj.P.Val      sample_id identifier   p_value  significant  fold_change  \\\n",
       "0   1.000000  early_GD_FLT3     TSPAN6  1.000000        False    -1.000000   \n",
       "1   0.014226  early_GD_FLT3       DPM1  0.014226         True     1.437918   \n",
       "2   0.356857  early_GD_FLT3      SCYL3  0.356857        False    -1.175728   \n",
       "3   0.473729  early_GD_FLT3   C1orf112  0.473729        False    -1.229804   \n",
       "4   0.009769  early_GD_FLT3        FGR  0.009769         True    -7.568876   \n",
       "\n",
       "          label   source species_type exp_method  \n",
       "0    TSPAN6_rna  rna_seq         gene     rnaseq  \n",
       "1      DPM1_rna  rna_seq         gene     rnaseq  \n",
       "2     SCYL3_rna  rna_seq         gene     rnaseq  \n",
       "3  C1orf112_rna  rna_seq         gene     rnaseq  \n",
       "4       FGR_rna  rna_seq         gene     rnaseq  "
      ]
     },
     "execution_count": 58,
     "metadata": {},
     "output_type": "execute_result"
    }
   ],
   "source": [
    "rna_de.head(5)"
   ]
  },
  {
   "cell_type": "code",
   "execution_count": 59,
   "id": "a62d8d64",
   "metadata": {},
   "outputs": [
    {
     "data": {
      "text/plain": [
       "array(['ER_GILT_DEC_FLT3', 'ER_GILT_VEN_FGF2', 'ER_GILT_VEN_FLT3',\n",
       "       'ER_GILT_VEN_DEC', 'ER_GILT_VEN_DEC_FGF2', 'ER_GILT_VEN_DEC_FLT3',\n",
       "       'ER_GILT_DEC_FGF2', 'LR_GILT_DEC', 'LR_GILT_VEN',\n",
       "       'LR_GILT_VEN_DEC', 'DEC', 'DEC_FGF2'], dtype=object)"
      ]
     },
     "execution_count": 59,
     "metadata": {},
     "output_type": "execute_result"
    }
   ],
   "source": [
    "rna_de.Comparison.unique()"
   ]
  },
  {
   "cell_type": "code",
   "execution_count": 60,
   "id": "238ed515",
   "metadata": {},
   "outputs": [],
   "source": [
    "to_keep = [\n",
    "    'early_GD_FLT3', 'early_GD_FGF2',\n",
    "#     'early_GV_FGF2', 'early_GV_FLT3', \n",
    "#    'early_GVD_FGF2', 'early_GVD_FLT3', \n",
    "#    'early_GVD',\n",
    "#     'late_GV', \n",
    "#    'late_GVD', \n",
    "    'late_GD',\n",
    "    'D', 'D_FGF2'\n",
    "]\n",
    "rna_de2 = rna_de.loc[rna_de.sample_id.isin(to_keep)].copy()\n",
    "rna_de2.dropna(inplace=True, subset=['identifier'])"
   ]
  },
  {
   "cell_type": "code",
   "execution_count": 61,
   "id": "bbd4b43a",
   "metadata": {},
   "outputs": [],
   "source": [
    "rna_de2.loc[rna_de2.fold_change>100, 'fold_change']= 100\n",
    "rna_de2.loc[rna_de2.fold_change<-100, 'fold_change']= -100"
   ]
  },
  {
   "cell_type": "code",
   "execution_count": 62,
   "id": "b4cdc675",
   "metadata": {},
   "outputs": [
    {
     "data": {
      "text/plain": [
       "count    87201.000000\n",
       "mean         0.002759\n",
       "std          4.906645\n",
       "min       -100.000000\n",
       "25%         -1.287814\n",
       "50%         -1.000000\n",
       "75%          1.277564\n",
       "max        100.000000\n",
       "Name: fold_change, dtype: float64"
      ]
     },
     "execution_count": 62,
     "metadata": {},
     "output_type": "execute_result"
    }
   ],
   "source": [
    "rna_de2.fold_change.describe()"
   ]
  },
  {
   "cell_type": "code",
   "execution_count": 63,
   "id": "f04da2d1",
   "metadata": {},
   "outputs": [],
   "source": [
    "from magine.data.experimental_data import ExperimentalData"
   ]
  },
  {
   "cell_type": "code",
   "execution_count": 64,
   "id": "ae613379",
   "metadata": {},
   "outputs": [],
   "source": [
    "data = ExperimentalData(rna_de2)"
   ]
  },
  {
   "cell_type": "code",
   "execution_count": 67,
   "id": "02b5302e",
   "metadata": {},
   "outputs": [
    {
     "data": {
      "image/png": "[encoded data removed]",
      "text/plain": [
       "<Figure size 1200x1200 with 4 Axes>"
      ]
     },
     "metadata": {},
     "output_type": "display_data"
    }
   ],
   "source": [
    "g = data.species.subset(species=['FLT3', 'DNMT1'], index='identifier').heatmap(\n",
    "    figsize=(12,12),\n",
    "    cluster_col=True, \n",
    "    cluster_row=True,\n",
    "    y_tick_labels=True,\n",
    "#     x_tick_labels=True\n",
    "    \n",
    ");\n",
    "g.ax_heatmap.tick_params(axis='y', rotation=0)\n",
    "# g.set_xticklabels(g.get_xticklabels(), rotation=30)"
   ]
  },
  {
   "cell_type": "code",
   "execution_count": 39,
   "id": "d0f173f7",
   "metadata": {},
   "outputs": [
    {
     "data": {
      "image/png": "[encoded data removed]",
      "text/plain": [
       "<Figure size 600x400 with 2 Axes>"
      ]
     },
     "metadata": {},
     "output_type": "display_data"
    }
   ],
   "source": [
    "g = data.species.subset(species=['VENTX', 'BSX'], index='identifier').heatmap(\n",
    "    figsize=(6,4),\n",
    "    cluster_col=False, \n",
    "    cluster_row=False,\n",
    "    y_tick_labels=True,\n",
    "#     x_tick_labels=True\n",
    "    \n",
    ");\n",
    "# g.ax_heatmap.tick_params(axis='y', rotation=0)"
   ]
  },
  {
   "cell_type": "code",
   "execution_count": 40,
   "id": "c2d69aa4",
   "metadata": {},
   "outputs": [
    {
     "name": "stderr",
     "output_type": "stream",
     "text": [
      "[WARNING] /Users/gosl241/.pyenv/versions/3.8/envs/magine/lib/python3.8/site-packages/seaborn/matrix.py:560: UserWarning:\n",
      "\n",
      "Clustering large matrix with scipy. Installing `fastcluster` may give better performance.\n",
      "\n",
      "\n"
     ]
    },
    {
     "data": {
      "image/png": "[encoded data removed]",
      "text/plain": [
       "<Figure size 1000x1000 with 4 Axes>"
      ]
     },
     "metadata": {},
     "output_type": "display_data"
    }
   ],
   "source": [
    "data.species.heatmap(\n",
    "    min_sig=2,\n",
    "#     linewidths=0.001,\n",
    "    figsize=(10,10),\n",
    "    y_tick_labels=False,\n",
    "    annotate_sig=False,\n",
    "    cluster_row=False,\n",
    "    cluster_col=True,\n",
    ");\n",
    "\n",
    "plt.savefig('rnaseq_heatmap.png', dpi=300, bbox_inches='tight')\n",
    "plt.savefig('rnaseq_heatmap.pdf', dpi=300, bbox_inches='tight')"
   ]
  },
  {
   "cell_type": "code",
   "execution_count": 68,
   "id": "182f796f",
   "metadata": {},
   "outputs": [],
   "source": [
    "from magine.enrichment.enrichr import Enrichr"
   ]
  },
  {
   "cell_type": "code",
   "execution_count": 75,
   "id": "9b7ed327",
   "metadata": {},
   "outputs": [],
   "source": [
    "e =Enrichr()"
   ]
  },
  {
   "cell_type": "code",
   "execution_count": 84,
   "id": "a804cdc0",
   "metadata": {},
   "outputs": [
    {
     "data": {
      "text/plain": [
       "1325"
      ]
     },
     "execution_count": 84,
     "metadata": {},
     "output_type": "execute_result"
    }
   ],
   "source": [
    "data.D.sig.down.id_list\n",
    "len(data.D.sig.down.id_list)"
   ]
  },
  {
   "cell_type": "code",
   "execution_count": 85,
   "id": "8c5a5067",
   "metadata": {},
   "outputs": [
    {
     "ename": "OptionError",
     "evalue": "\"No such keys(s): 'mode.use_inf_as_null'\"",
     "output_type": "error",
     "traceback": [
      "\u001b[0;31m---------------------------------------------------------------------------\u001b[0m",
      "\u001b[0;31mOptionError\u001b[0m                               Traceback (most recent call last)",
      "Cell \u001b[0;32mIn[85], line 1\u001b[0m\n\u001b[0;32m----> 1\u001b[0m dec \u001b[38;5;241m=\u001b[39m \u001b[43me\u001b[49m\u001b[38;5;241;43m.\u001b[39;49m\u001b[43mrun_samples\u001b[49m\u001b[43m(\u001b[49m\n\u001b[1;32m      2\u001b[0m \u001b[43m    \u001b[49m\u001b[43m[\u001b[49m\u001b[43mdata\u001b[49m\u001b[38;5;241;43m.\u001b[39;49m\u001b[43mD\u001b[49m\u001b[38;5;241;43m.\u001b[39;49m\u001b[43msig\u001b[49m\u001b[38;5;241;43m.\u001b[39;49m\u001b[43mup\u001b[49m\u001b[38;5;241;43m.\u001b[39;49m\u001b[43mid_list\u001b[49m\u001b[43m,\u001b[49m\u001b[43m \u001b[49m\u001b[43mdata\u001b[49m\u001b[38;5;241;43m.\u001b[39;49m\u001b[43mD\u001b[49m\u001b[38;5;241;43m.\u001b[39;49m\u001b[43msig\u001b[49m\u001b[38;5;241;43m.\u001b[39;49m\u001b[43mdown\u001b[49m\u001b[38;5;241;43m.\u001b[39;49m\u001b[43mid_list\u001b[49m\u001b[43m]\u001b[49m\u001b[43m,\u001b[49m\u001b[43m \u001b[49m\n\u001b[1;32m      3\u001b[0m \u001b[43m    \u001b[49m\u001b[43msample_ids\u001b[49m\u001b[38;5;241;43m=\u001b[39;49m\u001b[43m[\u001b[49m\u001b[38;5;124;43m'\u001b[39;49m\u001b[38;5;124;43mup\u001b[39;49m\u001b[38;5;124;43m'\u001b[39;49m\u001b[43m,\u001b[49m\u001b[43m \u001b[49m\u001b[38;5;124;43m'\u001b[39;49m\u001b[38;5;124;43mdown\u001b[39;49m\u001b[38;5;124;43m'\u001b[39;49m\u001b[43m]\u001b[49m\u001b[43m,\u001b[49m\n\u001b[1;32m      4\u001b[0m \u001b[43m    \u001b[49m\u001b[43mgene_set_lib\u001b[49m\u001b[38;5;241;43m=\u001b[39;49m\u001b[38;5;124;43m'\u001b[39;49m\u001b[38;5;124;43mReactome_2016\u001b[39;49m\u001b[38;5;124;43m'\u001b[39;49m\n\u001b[1;32m      5\u001b[0m \u001b[43m)\u001b[49m\n\u001b[1;32m      6\u001b[0m \u001b[38;5;66;03m# dec['sample_id'] = 'DEC'\u001b[39;00m\n",
      "File \u001b[0;32m~/.pyenv/versions/3.8/envs/magine/lib/python3.8/site-packages/magine/enrichment/enrichr.py:267\u001b[0m, in \u001b[0;36mEnrichr.run_samples\u001b[0;34m(self, sample_lists, sample_ids, gene_set_lib, save_name, create_html, out_dir, run_parallel, exp_data, pivot)\u001b[0m\n\u001b[1;32m    265\u001b[0m \u001b[38;5;28;01mif\u001b[39;00m \u001b[38;5;129;01mnot\u001b[39;00m \u001b[38;5;28misinstance\u001b[39m(sample_lists[\u001b[38;5;241m0\u001b[39m], (\u001b[38;5;28mlist\u001b[39m, \u001b[38;5;28mset\u001b[39m)):\n\u001b[1;32m    266\u001b[0m     \u001b[38;5;28;01mraise\u001b[39;00m \u001b[38;5;167;01mAssertionError\u001b[39;00m(\u001b[38;5;124m\"\u001b[39m\u001b[38;5;124mList of lists required\u001b[39m\u001b[38;5;124m\"\u001b[39m)\n\u001b[0;32m--> 267\u001b[0m df_final \u001b[38;5;241m=\u001b[39m \u001b[38;5;28;43mself\u001b[39;49m\u001b[38;5;241;43m.\u001b[39;49m\u001b[43mrun\u001b[49m\u001b[43m(\u001b[49m\u001b[43msample_lists\u001b[49m\u001b[43m[\u001b[49m\u001b[38;5;241;43m0\u001b[39;49m\u001b[43m]\u001b[49m\u001b[43m,\u001b[49m\u001b[43m \u001b[49m\u001b[43mgene_set_lib\u001b[49m\u001b[43m)\u001b[49m\n\u001b[1;32m    268\u001b[0m df_final[\u001b[38;5;124m'\u001b[39m\u001b[38;5;124msample_id\u001b[39m\u001b[38;5;124m'\u001b[39m] \u001b[38;5;241m=\u001b[39m sample_ids[\u001b[38;5;241m0\u001b[39m]\n\u001b[1;32m    269\u001b[0m \u001b[38;5;28;01mfor\u001b[39;00m count, (i, j) \u001b[38;5;129;01min\u001b[39;00m \u001b[38;5;28menumerate\u001b[39m(\u001b[38;5;28mzip\u001b[39m(sample_lists[\u001b[38;5;241m1\u001b[39m:], sample_ids[\u001b[38;5;241m1\u001b[39m:])):\n",
      "File \u001b[0;32m~/.pyenv/versions/3.8/envs/magine/lib/python3.8/site-packages/magine/enrichment/enrichr.py:184\u001b[0m, in \u001b[0;36mEnrichr.run\u001b[0;34m(self, list_of_genes, gene_set_lib)\u001b[0m\n\u001b[1;32m    182\u001b[0m user_list_id \u001b[38;5;241m=\u001b[39m \u001b[38;5;28mself\u001b[39m\u001b[38;5;241m.\u001b[39m_add_gene_list(list_of_genes)\n\u001b[1;32m    183\u001b[0m \u001b[38;5;28;01mif\u001b[39;00m \u001b[38;5;28misinstance\u001b[39m(gene_set_lib, \u001b[38;5;28mstr\u001b[39m):\n\u001b[0;32m--> 184\u001b[0m     df \u001b[38;5;241m=\u001b[39m \u001b[38;5;28;43mself\u001b[39;49m\u001b[38;5;241;43m.\u001b[39;49m\u001b[43m_run_id\u001b[49m\u001b[43m(\u001b[49m\u001b[43muser_list_id\u001b[49m\u001b[43m,\u001b[49m\u001b[43m \u001b[49m\u001b[43mgene_set_lib\u001b[49m\u001b[43m)\u001b[49m\n\u001b[1;32m    185\u001b[0m \u001b[38;5;28;01melse\u001b[39;00m:\n\u001b[1;32m    186\u001b[0m     df \u001b[38;5;241m=\u001b[39m \u001b[38;5;28mself\u001b[39m\u001b[38;5;241m.\u001b[39m_run_list_of_dbs(user_list_id, gene_set_lib)\n",
      "File \u001b[0;32m~/.pyenv/versions/3.8/envs/magine/lib/python3.8/site-packages/magine/enrichment/enrichr.py:357\u001b[0m, in \u001b[0;36mEnrichr._run_id\u001b[0;34m(self, list_id, gene_set_lib)\u001b[0m\n\u001b[1;32m    353\u001b[0m df[\u001b[38;5;124m'\u001b[39m\u001b[38;5;124mdb\u001b[39m\u001b[38;5;124m'\u001b[39m] \u001b[38;5;241m=\u001b[39m gene_set_lib\n\u001b[1;32m    354\u001b[0m df[\u001b[38;5;124m'\u001b[39m\u001b[38;5;124mcombined_score\u001b[39m\u001b[38;5;124m'\u001b[39m] \u001b[38;5;241m=\u001b[39m pd\u001b[38;5;241m.\u001b[39mto_numeric(df[\u001b[38;5;124m'\u001b[39m\u001b[38;5;124mcombined_score\u001b[39m\u001b[38;5;124m'\u001b[39m],\n\u001b[1;32m    355\u001b[0m                                      errors\u001b[38;5;241m=\u001b[39m\u001b[38;5;124m'\u001b[39m\u001b[38;5;124mcoerce\u001b[39m\u001b[38;5;124m'\u001b[39m)\n\u001b[0;32m--> 357\u001b[0m \u001b[38;5;28;01mwith\u001b[39;00m pd\u001b[38;5;241m.\u001b[39moption_context(\u001b[38;5;124m'\u001b[39m\u001b[38;5;124mmode.use_inf_as_null\u001b[39m\u001b[38;5;124m'\u001b[39m, \u001b[38;5;28;01mTrue\u001b[39;00m):\n\u001b[1;32m    358\u001b[0m     \u001b[38;5;66;03m# remove rows without a term name, nans, or infinite values\u001b[39;00m\n\u001b[1;32m    359\u001b[0m     df \u001b[38;5;241m=\u001b[39m df\u001b[38;5;241m.\u001b[39mdropna(\n\u001b[1;32m    360\u001b[0m         subset\u001b[38;5;241m=\u001b[39m[\u001b[38;5;124m'\u001b[39m\u001b[38;5;124mterm_name\u001b[39m\u001b[38;5;124m'\u001b[39m, \u001b[38;5;124m'\u001b[39m\u001b[38;5;124madj_p_value\u001b[39m\u001b[38;5;124m'\u001b[39m, \u001b[38;5;124m'\u001b[39m\u001b[38;5;124mcombined_score\u001b[39m\u001b[38;5;124m'\u001b[39m]\n\u001b[1;32m    361\u001b[0m     )\n\u001b[1;32m    362\u001b[0m \u001b[38;5;28;01mtry\u001b[39;00m:\n",
      "File \u001b[0;32m~/.pyenv/versions/3.8/envs/magine/lib/python3.8/site-packages/pandas/_config/config.py:441\u001b[0m, in \u001b[0;36moption_context.__enter__\u001b[0;34m(self)\u001b[0m\n\u001b[1;32m    440\u001b[0m \u001b[38;5;28;01mdef\u001b[39;00m \u001b[38;5;21m__enter__\u001b[39m(\u001b[38;5;28mself\u001b[39m) \u001b[38;5;241m-\u001b[39m\u001b[38;5;241m>\u001b[39m \u001b[38;5;28;01mNone\u001b[39;00m:\n\u001b[0;32m--> 441\u001b[0m     \u001b[38;5;28mself\u001b[39m\u001b[38;5;241m.\u001b[39mundo \u001b[38;5;241m=\u001b[39m [(pat, _get_option(pat, silent\u001b[38;5;241m=\u001b[39m\u001b[38;5;28;01mTrue\u001b[39;00m)) \u001b[38;5;28;01mfor\u001b[39;00m pat, val \u001b[38;5;129;01min\u001b[39;00m \u001b[38;5;28mself\u001b[39m\u001b[38;5;241m.\u001b[39mops]\n\u001b[1;32m    443\u001b[0m     \u001b[38;5;28;01mfor\u001b[39;00m pat, val \u001b[38;5;129;01min\u001b[39;00m \u001b[38;5;28mself\u001b[39m\u001b[38;5;241m.\u001b[39mops:\n\u001b[1;32m    444\u001b[0m         _set_option(pat, val, silent\u001b[38;5;241m=\u001b[39m\u001b[38;5;28;01mTrue\u001b[39;00m)\n",
      "File \u001b[0;32m~/.pyenv/versions/3.8/envs/magine/lib/python3.8/site-packages/pandas/_config/config.py:441\u001b[0m, in \u001b[0;36m<listcomp>\u001b[0;34m(.0)\u001b[0m\n\u001b[1;32m    440\u001b[0m \u001b[38;5;28;01mdef\u001b[39;00m \u001b[38;5;21m__enter__\u001b[39m(\u001b[38;5;28mself\u001b[39m) \u001b[38;5;241m-\u001b[39m\u001b[38;5;241m>\u001b[39m \u001b[38;5;28;01mNone\u001b[39;00m:\n\u001b[0;32m--> 441\u001b[0m     \u001b[38;5;28mself\u001b[39m\u001b[38;5;241m.\u001b[39mundo \u001b[38;5;241m=\u001b[39m [(pat, \u001b[43m_get_option\u001b[49m\u001b[43m(\u001b[49m\u001b[43mpat\u001b[49m\u001b[43m,\u001b[49m\u001b[43m \u001b[49m\u001b[43msilent\u001b[49m\u001b[38;5;241;43m=\u001b[39;49m\u001b[38;5;28;43;01mTrue\u001b[39;49;00m\u001b[43m)\u001b[49m) \u001b[38;5;28;01mfor\u001b[39;00m pat, val \u001b[38;5;129;01min\u001b[39;00m \u001b[38;5;28mself\u001b[39m\u001b[38;5;241m.\u001b[39mops]\n\u001b[1;32m    443\u001b[0m     \u001b[38;5;28;01mfor\u001b[39;00m pat, val \u001b[38;5;129;01min\u001b[39;00m \u001b[38;5;28mself\u001b[39m\u001b[38;5;241m.\u001b[39mops:\n\u001b[1;32m    444\u001b[0m         _set_option(pat, val, silent\u001b[38;5;241m=\u001b[39m\u001b[38;5;28;01mTrue\u001b[39;00m)\n",
      "File \u001b[0;32m~/.pyenv/versions/3.8/envs/magine/lib/python3.8/site-packages/pandas/_config/config.py:135\u001b[0m, in \u001b[0;36m_get_option\u001b[0;34m(pat, silent)\u001b[0m\n\u001b[1;32m    134\u001b[0m \u001b[38;5;28;01mdef\u001b[39;00m \u001b[38;5;21m_get_option\u001b[39m(pat: \u001b[38;5;28mstr\u001b[39m, silent: \u001b[38;5;28mbool\u001b[39m \u001b[38;5;241m=\u001b[39m \u001b[38;5;28;01mFalse\u001b[39;00m) \u001b[38;5;241m-\u001b[39m\u001b[38;5;241m>\u001b[39m Any:\n\u001b[0;32m--> 135\u001b[0m     key \u001b[38;5;241m=\u001b[39m \u001b[43m_get_single_key\u001b[49m\u001b[43m(\u001b[49m\u001b[43mpat\u001b[49m\u001b[43m,\u001b[49m\u001b[43m \u001b[49m\u001b[43msilent\u001b[49m\u001b[43m)\u001b[49m\n\u001b[1;32m    137\u001b[0m     \u001b[38;5;66;03m# walk the nested dict\u001b[39;00m\n\u001b[1;32m    138\u001b[0m     root, k \u001b[38;5;241m=\u001b[39m _get_root(key)\n",
      "File \u001b[0;32m~/.pyenv/versions/3.8/envs/magine/lib/python3.8/site-packages/pandas/_config/config.py:121\u001b[0m, in \u001b[0;36m_get_single_key\u001b[0;34m(pat, silent)\u001b[0m\n\u001b[1;32m    119\u001b[0m     \u001b[38;5;28;01mif\u001b[39;00m \u001b[38;5;129;01mnot\u001b[39;00m silent:\n\u001b[1;32m    120\u001b[0m         _warn_if_deprecated(pat)\n\u001b[0;32m--> 121\u001b[0m     \u001b[38;5;28;01mraise\u001b[39;00m OptionError(\u001b[38;5;124mf\u001b[39m\u001b[38;5;124m\"\u001b[39m\u001b[38;5;124mNo such keys(s): \u001b[39m\u001b[38;5;132;01m{\u001b[39;00m\u001b[38;5;28mrepr\u001b[39m(pat)\u001b[38;5;132;01m}\u001b[39;00m\u001b[38;5;124m\"\u001b[39m)\n\u001b[1;32m    122\u001b[0m \u001b[38;5;28;01mif\u001b[39;00m \u001b[38;5;28mlen\u001b[39m(keys) \u001b[38;5;241m>\u001b[39m \u001b[38;5;241m1\u001b[39m:\n\u001b[1;32m    123\u001b[0m     \u001b[38;5;28;01mraise\u001b[39;00m OptionError(\u001b[38;5;124m\"\u001b[39m\u001b[38;5;124mPattern matched multiple keys\u001b[39m\u001b[38;5;124m\"\u001b[39m)\n",
      "\u001b[0;31mOptionError\u001b[0m: \"No such keys(s): 'mode.use_inf_as_null'\""
     ]
    }
   ],
   "source": [
    "dec = e.run_samples(\n",
    "    [data.D.sig.up.id_list, data.D.sig.down.id_list], \n",
    "    sample_ids=['up', 'down'],\n",
    "    gene_set_lib='Reactome_2016'\n",
    ")\n",
    "# dec['sample_id'] = 'DEC'"
   ]
  },
  {
   "cell_type": "code",
   "execution_count": null,
   "id": "cd4c0fb3",
   "metadata": {},
   "outputs": [],
   "source": []
  },
  {
   "cell_type": "code",
   "execution_count": null,
   "id": "b49d67ef",
   "metadata": {},
   "outputs": [],
   "source": [
    "dec.term_name = dec.term_name.str.split(' r-hsa').str.get(0)"
   ]
  },
  {
   "cell_type": "code",
   "execution_count": null,
   "id": "fef92f7f",
   "metadata": {},
   "outputs": [],
   "source": [
    "dec.require_n_sig(n_sig=1).remove_redundant(\n",
    "    level='dataframe',\n",
    ").heatmap(\n",
    "    \n",
    "figsize=(4, 16),\n",
    "    cluster_row=False,\n",
    "    linewidths=0.01,\n",
    ");\n",
    "plt.savefig('decitabine_only_enrichment.png', dpi=300, bbox_inches='tight')\n",
    "plt.savefig('decitabine_only_enrichment.pdf', dpi=300, bbox_inches='tight')"
   ]
  },
  {
   "cell_type": "code",
   "execution_count": null,
   "id": "b470393e",
   "metadata": {},
   "outputs": [],
   "source": [
    "dec.sig.remove_redundant()"
   ]
  },
  {
   "cell_type": "code",
   "execution_count": null,
   "id": "36cfc4a9",
   "metadata": {},
   "outputs": [],
   "source": [
    "gs = dec.term_to_genes('cd28 co-stimulation')\n",
    "data.species.heatmap(gs);"
   ]
  },
  {
   "cell_type": "code",
   "execution_count": null,
   "id": "42422352",
   "metadata": {},
   "outputs": [],
   "source": [
    "\n",
    "gs = dec.term_to_genes('rna polymerase i transcription initiation')\n",
    "data.species.heatmap(gs, figsize=(12,12));"
   ]
  },
  {
   "cell_type": "code",
   "execution_count": null,
   "id": "1c20ef19",
   "metadata": {},
   "outputs": [],
   "source": [
    "gs = dec.term_to_genes('negative regulation of mapk pathway')\n",
    "data.species.heatmap(gs, figsize=(6,6));"
   ]
  },
  {
   "cell_type": "code",
   "execution_count": null,
   "id": "78f45ef2",
   "metadata": {},
   "outputs": [],
   "source": [
    "gs = dec.term_to_genes('unwinding of dna')\n",
    "data.species.heatmap(gs);"
   ]
  },
  {
   "cell_type": "code",
   "execution_count": null,
   "id": "9aff7373",
   "metadata": {},
   "outputs": [],
   "source": []
  }
 ],
 "metadata": {
  "kernelspec": {
   "display_name": "Python 3 (ipykernel)",
   "language": "python",
   "name": "python3"
  },
  "language_info": {
   "codemirror_mode": {
    "name": "ipython",
    "version": 3
   },
   "file_extension": ".py",
   "mimetype": "text/x-python",
   "name": "python",
   "nbconvert_exporter": "python",
   "pygments_lexer": "ipython3",
   "version": "3.8.19"
  }
 },
 "nbformat": 4,
 "nbformat_minor": 5
}
